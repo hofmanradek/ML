{
 "cells": [
  {
   "cell_type": "code",
   "execution_count": 1,
   "metadata": {},
   "outputs": [
    {
     "data": {
      "text/plain": [
       "'/device:GPU:0'"
      ]
     },
     "execution_count": 1,
     "metadata": {},
     "output_type": "execute_result"
    }
   ],
   "source": [
    "#import os\n",
    "#os.environ[\"CUDA_DEVICE_ORDER\"] = \"PCI_BUS_ID\"\n",
    "#os.environ['CUDA_VISIBLE_DEVICES'] = '1,3'\n",
    "#import tensorflow\n",
    "#tensorflow.test.gpu_device_name()"
   ]
  },
  {
   "cell_type": "code",
   "execution_count": 1,
   "metadata": {},
   "outputs": [],
   "source": [
    "import tensorflow.keras\n",
    "from tensorflow.keras import layers"
   ]
  },
  {
   "cell_type": "code",
   "execution_count": 2,
   "metadata": {},
   "outputs": [
    {
     "data": {
      "text/plain": [
       "<module 'tensorflow.keras' from '/usr/local/lib/python3.5/dist-packages/tensorflow/keras/__init__.py'>"
      ]
     },
     "execution_count": 2,
     "metadata": {},
     "output_type": "execute_result"
    }
   ],
   "source": [
    "# is keras present?\n",
    "tensorflow.keras"
   ]
  },
  {
   "cell_type": "code",
   "execution_count": 3,
   "metadata": {},
   "outputs": [],
   "source": [
    "import os\n",
    "import pandas\n",
    "import numpy\n",
    "from sklearn.metrics import confusion_matrix"
   ]
  },
  {
   "cell_type": "code",
   "execution_count": 4,
   "metadata": {},
   "outputs": [],
   "source": [
    "%matplotlib inline\n",
    "import matplotlib.pyplot as plt"
   ]
  },
  {
   "cell_type": "code",
   "execution_count": 5,
   "metadata": {},
   "outputs": [],
   "source": [
    "SAMPLES = 400"
   ]
  },
  {
   "cell_type": "markdown",
   "metadata": {},
   "source": [
    "### Load data"
   ]
  },
  {
   "cell_type": "code",
   "execution_count": 7,
   "metadata": {},
   "outputs": [],
   "source": [
    "data_path = os.path.join('..','data','dataset_timeseries_3ch.txt')"
   ]
  },
  {
   "cell_type": "code",
   "execution_count": 8,
   "metadata": {},
   "outputs": [],
   "source": [
    "df = pandas.read_csv(data_path, sep=';')\n",
    "df = df.drop('Unnamed: 6', axis=1)"
   ]
  },
  {
   "cell_type": "code",
   "execution_count": 9,
   "metadata": {},
   "outputs": [
    {
     "data": {
      "text/html": [
       "<div>\n",
       "<style scoped>\n",
       "    .dataframe tbody tr th:only-of-type {\n",
       "        vertical-align: middle;\n",
       "    }\n",
       "\n",
       "    .dataframe tbody tr th {\n",
       "        vertical-align: top;\n",
       "    }\n",
       "\n",
       "    .dataframe thead th {\n",
       "        text-align: right;\n",
       "    }\n",
       "</style>\n",
       "<table border=\"1\" class=\"dataframe\">\n",
       "  <thead>\n",
       "    <tr style=\"text-align: right;\">\n",
       "      <th></th>\n",
       "      <th>receptor_id</th>\n",
       "      <th>class</th>\n",
       "      <th>nsamp_per_chan</th>\n",
       "      <th>chan_E_samples</th>\n",
       "      <th>chan_N_samples</th>\n",
       "      <th>chan_Z_samples</th>\n",
       "    </tr>\n",
       "  </thead>\n",
       "  <tbody>\n",
       "    <tr>\n",
       "      <th>0</th>\n",
       "      <td>0</td>\n",
       "      <td>0</td>\n",
       "      <td>400</td>\n",
       "      <td>0.29495,0.41152,0.71334,1.19304,1.72107,2.1319...</td>\n",
       "      <td>0.49177,0.56177,0.84997,1.38184,1.99726,2.4611...</td>\n",
       "      <td>0.15294,0.15589,0.04885,-0.17813,-0.44809,-0.6...</td>\n",
       "    </tr>\n",
       "    <tr>\n",
       "      <th>1</th>\n",
       "      <td>1</td>\n",
       "      <td>0</td>\n",
       "      <td>400</td>\n",
       "      <td>0.08697,-0.05178,-0.40827,-0.97186,-1.58907,-2...</td>\n",
       "      <td>-0.18031,-0.43404,-0.76179,-1.16899,-1.57189,-...</td>\n",
       "      <td>0.17619,0.10835,-0.06327,-0.31164,-0.58474,-0....</td>\n",
       "    </tr>\n",
       "    <tr>\n",
       "      <th>2</th>\n",
       "      <td>2</td>\n",
       "      <td>0</td>\n",
       "      <td>400</td>\n",
       "      <td>-0.79922,-1.26171,-1.40667,-1.2125,-0.85398,-0...</td>\n",
       "      <td>2.36226,2.64067,2.76791,2.76611,2.66017,2.4915...</td>\n",
       "      <td>0.47433,-0.35791,-1.11644,-1.72523,-2.2055,-2....</td>\n",
       "    </tr>\n",
       "    <tr>\n",
       "      <th>3</th>\n",
       "      <td>3</td>\n",
       "      <td>0</td>\n",
       "      <td>400</td>\n",
       "      <td>0.04591,0.04574,-0.24254,-0.82716,-1.52647,-2....</td>\n",
       "      <td>-0.12581,-0.32034,-0.80886,-1.67523,-2.67637,-...</td>\n",
       "      <td>-0.56093,-0.61042,-0.84127,-1.33623,-1.92725,-...</td>\n",
       "    </tr>\n",
       "    <tr>\n",
       "      <th>4</th>\n",
       "      <td>4</td>\n",
       "      <td>3</td>\n",
       "      <td>400</td>\n",
       "      <td>0.10673,-0.11991,-0.68573,-1.618,-2.67277,-3.5...</td>\n",
       "      <td>-0.18146,-0.25581,-0.55374,-1.0699,-1.64551,-2...</td>\n",
       "      <td>-0.07987,-0.1264,-0.24434,-0.42169,-0.60204,-0...</td>\n",
       "    </tr>\n",
       "  </tbody>\n",
       "</table>\n",
       "</div>"
      ],
      "text/plain": [
       "   receptor_id   class   nsamp_per_chan  \\\n",
       "0            0       0              400   \n",
       "1            1       0              400   \n",
       "2            2       0              400   \n",
       "3            3       0              400   \n",
       "4            4       3              400   \n",
       "\n",
       "                                      chan_E_samples  \\\n",
       "0  0.29495,0.41152,0.71334,1.19304,1.72107,2.1319...   \n",
       "1  0.08697,-0.05178,-0.40827,-0.97186,-1.58907,-2...   \n",
       "2  -0.79922,-1.26171,-1.40667,-1.2125,-0.85398,-0...   \n",
       "3  0.04591,0.04574,-0.24254,-0.82716,-1.52647,-2....   \n",
       "4  0.10673,-0.11991,-0.68573,-1.618,-2.67277,-3.5...   \n",
       "\n",
       "                                      chan_N_samples  \\\n",
       "0  0.49177,0.56177,0.84997,1.38184,1.99726,2.4611...   \n",
       "1  -0.18031,-0.43404,-0.76179,-1.16899,-1.57189,-...   \n",
       "2  2.36226,2.64067,2.76791,2.76611,2.66017,2.4915...   \n",
       "3  -0.12581,-0.32034,-0.80886,-1.67523,-2.67637,-...   \n",
       "4  -0.18146,-0.25581,-0.55374,-1.0699,-1.64551,-2...   \n",
       "\n",
       "                                      chan_Z_samples  \n",
       "0  0.15294,0.15589,0.04885,-0.17813,-0.44809,-0.6...  \n",
       "1  0.17619,0.10835,-0.06327,-0.31164,-0.58474,-0....  \n",
       "2  0.47433,-0.35791,-1.11644,-1.72523,-2.2055,-2....  \n",
       "3  -0.56093,-0.61042,-0.84127,-1.33623,-1.92725,-...  \n",
       "4  -0.07987,-0.1264,-0.24434,-0.42169,-0.60204,-0...  "
      ]
     },
     "execution_count": 9,
     "metadata": {},
     "output_type": "execute_result"
    }
   ],
   "source": [
    "df.head()"
   ]
  },
  {
   "cell_type": "code",
   "execution_count": 10,
   "metadata": {},
   "outputs": [
    {
     "data": {
      "text/plain": [
       "Index(['receptor_id', ' class', ' nsamp_per_chan', ' chan_E_samples',\n",
       "       ' chan_N_samples', ' chan_Z_samples'],\n",
       "      dtype='object')"
      ]
     },
     "execution_count": 10,
     "metadata": {},
     "output_type": "execute_result"
    }
   ],
   "source": [
    "df.columns"
   ]
  },
  {
   "cell_type": "code",
   "execution_count": 11,
   "metadata": {},
   "outputs": [],
   "source": [
    "# trip column names of possible spaces\n",
    "df = df.rename(index=str, columns={x: x.strip() for x in df.columns})"
   ]
  },
  {
   "cell_type": "code",
   "execution_count": 12,
   "metadata": {},
   "outputs": [],
   "source": [
    "# shuffle dataframe rows\n",
    "df = df.sample(frac=1).reset_index(drop=True)"
   ]
  },
  {
   "cell_type": "code",
   "execution_count": 13,
   "metadata": {},
   "outputs": [
    {
     "data": {
      "text/plain": [
       "['receptor_id',\n",
       " 'class',\n",
       " 'nsamp_per_chan',\n",
       " 'chan_E_samples',\n",
       " 'chan_N_samples',\n",
       " 'chan_Z_samples']"
      ]
     },
     "execution_count": 13,
     "metadata": {},
     "output_type": "execute_result"
    }
   ],
   "source": [
    "[x for x in df.columns]"
   ]
  },
  {
   "cell_type": "code",
   "execution_count": 14,
   "metadata": {},
   "outputs": [
    {
     "name": "stdout",
     "output_type": "stream",
     "text": [
      "(353869,)\n",
      "(353869,)\n",
      "(353869,)\n"
     ]
    }
   ],
   "source": [
    "print(df['chan_E_samples'].shape)\n",
    "print(df['chan_N_samples'].shape)\n",
    "print(df['chan_Z_samples'].shape)"
   ]
  },
  {
   "cell_type": "code",
   "execution_count": 15,
   "metadata": {},
   "outputs": [],
   "source": [
    "N = df['chan_E_samples'].shape[0]"
   ]
  },
  {
   "cell_type": "code",
   "execution_count": 16,
   "metadata": {},
   "outputs": [],
   "source": [
    "CHAN_CODES = {'E': 0, 'N': 1, 'Z': 2}\n",
    "CLASS_CODES = {'N': 0, 'S': 1, 'P': 2, 'T': 3}"
   ]
  },
  {
   "cell_type": "code",
   "execution_count": 17,
   "metadata": {},
   "outputs": [],
   "source": [
    "data_X = numpy.zeros((N, SAMPLES, 3))  # number of cases, length of a sigle case, number of channels\n",
    "data_Y = df['class'].values"
   ]
  },
  {
   "cell_type": "code",
   "execution_count": 18,
   "metadata": {},
   "outputs": [
    {
     "data": {
      "text/plain": [
       "(400,)"
      ]
     },
     "execution_count": 18,
     "metadata": {},
     "output_type": "execute_result"
    }
   ],
   "source": [
    "# test of conversion function expression\n",
    "numpy.array(list(map(float, df['chan_E_samples'][0].split(',')))).shape"
   ]
  },
  {
   "cell_type": "code",
   "execution_count": 38,
   "metadata": {},
   "outputs": [],
   "source": [
    "for i in range(N):\n",
    "    data_X[i,:,CHAN_CODES['E']] = numpy.array(list(map(float, df['chan_E_samples'][i].split(','))))[:]\n",
    "    data_X[i,:,CHAN_CODES['N']] = numpy.array(list(map(float, df['chan_N_samples'][i].split(','))))[:]\n",
    "    data_X[i,:,CHAN_CODES['Z']] = numpy.array(list(map(float, df['chan_Z_samples'][i].split(','))))[:]    "
   ]
  },
  {
   "cell_type": "code",
   "execution_count": 39,
   "metadata": {},
   "outputs": [
    {
     "data": {
      "text/plain": [
       "(353869, 400, 3)"
      ]
     },
     "execution_count": 39,
     "metadata": {},
     "output_type": "execute_result"
    }
   ],
   "source": [
    "data_X.shape"
   ]
  },
  {
   "cell_type": "code",
   "execution_count": 40,
   "metadata": {},
   "outputs": [
    {
     "name": "stdout",
     "output_type": "stream",
     "text": [
      "(353869,) 0 3\n"
     ]
    }
   ],
   "source": [
    "print(data_Y.shape, data_Y.min(), data_Y.max())"
   ]
  },
  {
   "cell_type": "code",
   "execution_count": 41,
   "metadata": {},
   "outputs": [],
   "source": [
    "import scipy.io\n",
    "scipy.io.savemat('dataset', {'data_X': data_X,\n",
    "                             'data_Y': data_Y}, do_compression=False)"
   ]
  },
  {
   "cell_type": "markdown",
   "metadata": {},
   "source": [
    "#### Load data from a *.mat file"
   ]
  },
  {
   "cell_type": "code",
   "execution_count": 6,
   "metadata": {},
   "outputs": [],
   "source": [
    "import scipy.io\n",
    "d = scipy.io.loadmat('dataset')\n",
    "data_X = d['data_X']\n",
    "data_Y = d['data_Y'].ravel()"
   ]
  },
  {
   "cell_type": "code",
   "execution_count": 7,
   "metadata": {},
   "outputs": [
    {
     "name": "stdout",
     "output_type": "stream",
     "text": [
      "(353869, 400, 3) (353869,) 0 3\n"
     ]
    }
   ],
   "source": [
    "#shuffle both X and Y\n",
    "permuted_indices = numpy.random.permutation(data_X.shape[0])\n",
    "data_X = data_X[permuted_indices]\n",
    "data_Y = data_Y[permuted_indices]\n",
    "print(data_X.shape, data_Y.shape, data_Y.min(), data_Y.max())"
   ]
  },
  {
   "cell_type": "code",
   "execution_count": 8,
   "metadata": {},
   "outputs": [
    {
     "data": {
      "text/plain": [
       "((353869, 400, 3), (353869,))"
      ]
     },
     "execution_count": 8,
     "metadata": {},
     "output_type": "execute_result"
    }
   ],
   "source": [
    "data_X.shape, data_Y.shape"
   ]
  },
  {
   "cell_type": "code",
   "execution_count": 9,
   "metadata": {},
   "outputs": [
    {
     "name": "stdout",
     "output_type": "stream",
     "text": [
      "7.75483 10.43202 25.09388\n",
      "(400,)\n"
     ]
    }
   ],
   "source": [
    "# just a test...\n",
    "print(numpy.abs(data_X[0,:,0]).max(),numpy.abs(data_X[0,:,1]).max(),numpy.abs(data_X[0,:,2]).max())\n",
    "print(data_X[0,:,0].shape)"
   ]
  },
  {
   "cell_type": "code",
   "execution_count": 11,
   "metadata": {},
   "outputs": [
    {
     "name": "stdout",
     "output_type": "stream",
     "text": [
      "(353869, 1, 3) (353869, 1, 1)\n"
     ]
    }
   ],
   "source": [
    "means_in_channels = numpy.mean(data_X, axis=1, keepdims=True)\n",
    "\n",
    "data_X_norm = (data_X - means_in_channels)\n",
    "\n",
    "max_in_channels = numpy.max(numpy.max(numpy.abs(data_X_norm), axis=1, keepdims=True), axis=2, keepdims=True)\n",
    "\n",
    "###data_X_norm /= max_in_channels\n",
    "\n",
    "print(means_in_channels.shape, max_in_channels.shape)"
   ]
  },
  {
   "cell_type": "code",
   "execution_count": 12,
   "metadata": {},
   "outputs": [
    {
     "name": "stdout",
     "output_type": "stream",
     "text": [
      "-292995.634865 274443.242064\n"
     ]
    }
   ],
   "source": [
    "# is it nozmalized correctly?\n",
    "print(data_X_norm.min(), data_X_norm.max())"
   ]
  },
  {
   "cell_type": "code",
   "execution_count": 58,
   "metadata": {
    "scrolled": true
   },
   "outputs": [
    {
     "name": "stdout",
     "output_type": "stream",
     "text": [
      "0\n"
     ]
    },
    {
     "data": {
      "image/png": "[encoded data removed]",
      "text/plain": [
       "<Figure size 432x288 with 2 Axes>"
      ]
     },
     "metadata": {
      "needs_background": "light"
     },
     "output_type": "display_data"
    }
   ],
   "source": [
    "index = 30566\n",
    "\n",
    "fig = plt.figure()\n",
    "ax = fig.add_subplot(211)\n",
    "ax.plot(data_X_norm[index,:,0])\n",
    "ax.plot(data_X_norm[index,:,1])\n",
    "ax.plot(data_X_norm[index,:,2])\n",
    "ax.axhline(-1, linestyle='--')\n",
    "ax.axhline(1, linestyle='--')\n",
    "ax.set_ylim(-1.2,1.2)\n",
    "ax.set_title('filtered normalized')\n",
    "\n",
    "ax = fig.add_subplot(212)\n",
    "ax.plot(data_X[index,:,0])\n",
    "ax.plot(data_X[index,:,1])\n",
    "ax.plot(data_X[index,:,2])\n",
    "ax.set_title('filtered original')\n",
    "\n",
    "plt.tight_layout()\n",
    "print(data_Y[index])"
   ]
  },
  {
   "cell_type": "code",
   "execution_count": 164,
   "metadata": {},
   "outputs": [
    {
     "name": "stdout",
     "output_type": "stream",
     "text": [
      "(268103, 400, 3) (1113, 400, 3) (6364, 400, 3) (78289, 400, 3)\n"
     ]
    }
   ],
   "source": [
    "CLASS_CODES = {'N': 0, 'S': 1, 'P': 2, 'T': 3}\n",
    "data_X_N = data_X_norm[data_Y == CLASS_CODES['N'],:,:]\n",
    "data_X_S = data_X_norm[data_Y == CLASS_CODES['S'],:,:]\n",
    "data_X_P = data_X_norm[data_Y == CLASS_CODES['P'],:,:]\n",
    "data_X_T = data_X_norm[data_Y == CLASS_CODES['T'],:,:]\n",
    "print(data_X_N.shape, data_X_S.shape, data_X_P.shape, data_X_T.shape)"
   ]
  },
  {
   "cell_type": "code",
   "execution_count": 165,
   "metadata": {},
   "outputs": [
    {
     "data": {
      "text/plain": [
       "array([3, 0, 0, ..., 0, 0, 3])"
      ]
     },
     "execution_count": 165,
     "metadata": {},
     "output_type": "execute_result"
    }
   ],
   "source": [
    "data_Y"
   ]
  },
  {
   "cell_type": "code",
   "execution_count": 166,
   "metadata": {},
   "outputs": [],
   "source": [
    "# split test/train by count\n",
    "test_num = 200  # we take the first test_num samples for test\n",
    "N_train_tot = data_X_N[test_num:].shape[0]\n",
    "S_train_tot = data_X_S[test_num:].shape[0]\n",
    "P_train_tot = data_X_P[test_num:].shape[0]\n",
    "T_train_tot = data_X_T[test_num:].shape[0]\n",
    "\n",
    "train_X = numpy.vstack((data_X_N[test_num:], \n",
    "                        data_X_S[test_num:],\n",
    "                        data_X_P[test_num:],\n",
    "                        data_X_T[test_num:]))\n",
    "\n",
    "train_Y = numpy.hstack((numpy.ones(N_train_tot)*CLASS_CODES['N'],\n",
    "                        numpy.ones(S_train_tot)*CLASS_CODES['S'],\n",
    "                        numpy.ones(P_train_tot)*CLASS_CODES['P'],\n",
    "                        numpy.ones(T_train_tot)*CLASS_CODES['T']))\n",
    "\n",
    "test_X = numpy.vstack((data_X_N[:test_num], \n",
    "                       data_X_S[:test_num],\n",
    "                       data_X_P[:test_num],\n",
    "                       data_X_T[:test_num]))\n",
    "\n",
    "test_Y = numpy.hstack((numpy.ones(test_num)*CLASS_CODES['N'],\n",
    "                       numpy.ones(test_num)*CLASS_CODES['S'],\n",
    "                       numpy.ones(test_num)*CLASS_CODES['P'],\n",
    "                       numpy.ones(test_num)*CLASS_CODES['T']))\n",
    "\n",
    "train_tot  = train_X.shape[0]"
   ]
  },
  {
   "cell_type": "code",
   "execution_count": null,
   "metadata": {},
   "outputs": [],
   "source": [
    "# split test/train by a ratio\n",
    "\"\"\"\n",
    "test_frac = 0.1  # we take the first test_num samples for test\n",
    "N_test_tot = round(data_X_N.shape[0] * test_frac)\n",
    "S_test_tot = round(data_X_S.shape[0] * test_frac)\n",
    "P_test_tot = round(data_X_P.shape[0] * test_frac)\n",
    "T_test_tot = round(data_X_T.shape[0] * test_frac)\n",
    "\n",
    "train_frac = 1-test_frac  # we take the first test_num samples for test\n",
    "N_train_tot = round(data_X_N.shape[0] * train_frac)\n",
    "S_train_tot = round(data_X_S.shape[0] * train_frac)\n",
    "P_train_tot = round(data_X_P.shape[0] * train_frac)\n",
    "T_train_tot = round(data_X_T.shape[0] * train_frac)\n",
    "\n",
    "# check if we have all cases\n",
    "assert N_train_tot+N_test_tot == data_X_N.shape[0]\n",
    "assert S_train_tot+S_test_tot == data_X_S.shape[0]\n",
    "assert P_train_tot+P_test_tot == data_X_P.shape[0]\n",
    "assert T_train_tot+T_test_tot == data_X_T.shape[0]\n",
    "\n",
    "train_X = numpy.vstack((data_X_N[N_test_tot:], \n",
    "                        data_X_S[S_test_tot:],\n",
    "                        data_X_P[P_test_tot:],\n",
    "                        data_X_T[T_test_tot:]))\n",
    "\n",
    "train_Y = numpy.hstack((numpy.ones(N_train_tot)*CLASS_CODES['N'],\n",
    "                        numpy.ones(S_train_tot)*CLASS_CODES['S'],\n",
    "                        numpy.ones(P_train_tot)*CLASS_CODES['P'],\n",
    "                        numpy.ones(T_train_tot)*CLASS_CODES['T']))\n",
    "\n",
    "test_X = numpy.vstack((data_X_N[:N_test_tot], \n",
    "                       data_X_S[:S_test_tot],\n",
    "                       data_X_P[:P_test_tot],\n",
    "                       data_X_T[:T_test_tot]))\n",
    "\n",
    "test_Y = numpy.hstack((numpy.ones(N_test_tot)*CLASS_CODES['N'],\n",
    "                       numpy.ones(S_test_tot)*CLASS_CODES['S'],\n",
    "                       numpy.ones(P_test_tot)*CLASS_CODES['P'],\n",
    "                       numpy.ones(T_test_tot)*CLASS_CODES['T']))\n",
    "\n",
    "train_tot  = train_X.shape[0]\n",
    "\"\"\""
   ]
  },
  {
   "cell_type": "code",
   "execution_count": null,
   "metadata": {},
   "outputs": [],
   "source": []
  },
  {
   "cell_type": "code",
   "execution_count": 167,
   "metadata": {},
   "outputs": [],
   "source": [
    "# let's shuffle train data - both X and Y in the same way\n",
    "indices = numpy.random.permutation(train_tot)\n",
    "train_X = numpy.take(train_X, indices, axis=0)\n",
    "train_Y = numpy.take(train_Y, indices, axis=0)"
   ]
  },
  {
   "cell_type": "code",
   "execution_count": 168,
   "metadata": {},
   "outputs": [],
   "source": [
    "# one-hot encoding of train_Y/test_Y\n",
    "from tensorflow.keras.utils import to_categorical\n",
    "train_Y_cat = to_categorical(train_Y)\n",
    "test_Y_cat = to_categorical(test_Y)"
   ]
  },
  {
   "cell_type": "code",
   "execution_count": 169,
   "metadata": {},
   "outputs": [
    {
     "name": "stdout",
     "output_type": "stream",
     "text": [
      "(353069, 400, 3) (353069,)\n",
      "(800, 400, 3) (800,)\n"
     ]
    }
   ],
   "source": [
    "# let's review tensor shapes\n",
    "print(train_X.shape, train_Y.shape)\n",
    "print(test_X.shape, test_Y.shape)"
   ]
  },
  {
   "cell_type": "code",
   "execution_count": 170,
   "metadata": {},
   "outputs": [
    {
     "data": {
      "text/plain": [
       "{0: 0.05, 1: 50, 2: 5, 3: 1}"
      ]
     },
     "execution_count": 170,
     "metadata": {},
     "output_type": "execute_result"
    }
   ],
   "source": [
    "WIGHTS_CONST = 1000.\n",
    "\n",
    "class_weight = {CLASS_CODES['N']: 0.05, #1./N_train_tot * WIGHTS_CONST, \n",
    "                CLASS_CODES['S']: 50,#./S_train_tot * WIGHTS_CONST, \n",
    "                CLASS_CODES['P']: 5, #1./P_train_tot * WIGHTS_CONST , \n",
    "                CLASS_CODES['T']: 1} #./T_train_tot * WIGHTS_CONST}\n",
    "\n",
    "#class_weight = {CLASS_CODES['N']: 1./N_train_tot * WIGHTS_CONST, \n",
    "#                CLASS_CODES['S']: 1./S_train_tot * WIGHTS_CONST, \n",
    "#                CLASS_CODES['P']:  1./P_train_tot * WIGHTS_CONST , \n",
    "#                CLASS_CODES['T']:   1./T_train_tot * WIGHTS_CONST}\n",
    "\n",
    "class_weight"
   ]
  },
  {
   "cell_type": "markdown",
   "metadata": {},
   "source": [
    "## Network"
   ]
  },
  {
   "cell_type": "code",
   "execution_count": 171,
   "metadata": {},
   "outputs": [],
   "source": [
    "num_classes = len(CLASS_CODES)"
   ]
  },
  {
   "cell_type": "markdown",
   "metadata": {},
   "source": [
    "#### Let's build the model"
   ]
  },
  {
   "cell_type": "code",
   "execution_count": 172,
   "metadata": {},
   "outputs": [
    {
     "name": "stdout",
     "output_type": "stream",
     "text": [
      "_________________________________________________________________\n",
      "Layer (type)                 Output Shape              Param #   \n",
      "=================================================================\n",
      "conv1d_15 (Conv1D)           (None, 391, 100)          3100      \n",
      "_________________________________________________________________\n",
      "batch_normalization_5 (Batch (None, 391, 100)          400       \n",
      "_________________________________________________________________\n",
      "activation_20 (Activation)   (None, 391, 100)          0         \n",
      "_________________________________________________________________\n",
      "conv1d_16 (Conv1D)           (None, 382, 100)          100100    \n",
      "_________________________________________________________________\n",
      "activation_21 (Activation)   (None, 382, 100)          0         \n",
      "_________________________________________________________________\n",
      "max_pooling1d_10 (MaxPooling (None, 127, 100)          0         \n",
      "_________________________________________________________________\n",
      "dropout_5 (Dropout)          (None, 127, 100)          0         \n",
      "_________________________________________________________________\n",
      "conv1d_17 (Conv1D)           (None, 118, 100)          100100    \n",
      "_________________________________________________________________\n",
      "activation_22 (Activation)   (None, 118, 100)          0         \n",
      "_________________________________________________________________\n",
      "max_pooling1d_11 (MaxPooling (None, 39, 100)           0         \n",
      "_________________________________________________________________\n",
      "global_average_pooling1d_5 ( (None, 100)               0         \n",
      "_________________________________________________________________\n",
      "flatten_5 (Flatten)          (None, 100)               0         \n",
      "_________________________________________________________________\n",
      "dense_10 (Dense)             (None, 32)                3232      \n",
      "_________________________________________________________________\n",
      "activation_23 (Activation)   (None, 32)                0         \n",
      "_________________________________________________________________\n",
      "dense_11 (Dense)             (None, 4)                 132       \n",
      "=================================================================\n",
      "Total params: 207,064\n",
      "Trainable params: 206,864\n",
      "Non-trainable params: 200\n",
      "_________________________________________________________________\n",
      "None\n"
     ]
    }
   ],
   "source": [
    "model = tensorflow.keras.Sequential()\n",
    "\n",
    "model.add(layers.Conv1D(100, 10, input_shape=(SAMPLES, 3)))\n",
    "model.add(layers.BatchNormalization())\n",
    "model.add(layers.Activation('relu'))\n",
    "model.add(layers.Conv1D(100, 10))\n",
    "#model.add(layers.BatchNormalization())\n",
    "model.add(layers.Activation('relu'))\n",
    "model.add(layers.MaxPooling1D(3))\n",
    "model.add(layers.Dropout(0.35))\n",
    "\n",
    "model.add(layers.Conv1D(100, 10))\n",
    "#model.add(layers.BatchNormalization())\n",
    "model.add(layers.Activation('relu'))\n",
    "model.add(layers.MaxPooling1D(3)) \n",
    "model.add(layers.GlobalAveragePooling1D())\n",
    "#model.add(layers.Dropout(0.35))\n",
    "\n",
    "model.add(layers.Flatten())\n",
    "model.add(layers.Dense(32))\n",
    "#model.add(layers.BatchNormalization())\n",
    "model.add(layers.Activation('relu'))\n",
    "model.add(layers.Dense(num_classes, activation='softmax'))\n",
    "\n",
    "print(model.summary())"
   ]
  },
  {
   "cell_type": "code",
   "execution_count": 173,
   "metadata": {},
   "outputs": [
    {
     "data": {
      "text/plain": [
       "(353069,)"
      ]
     },
     "execution_count": 173,
     "metadata": {},
     "output_type": "execute_result"
    }
   ],
   "source": [
    "train_Y.shape"
   ]
  },
  {
   "cell_type": "code",
   "execution_count": 174,
   "metadata": {},
   "outputs": [],
   "source": [
    "from tensorflow.keras.utils import multi_gpu_model\n",
    "#model_gpu = multi_gpu_model(model, gpus=2)\n",
    "\n",
    "#model_gpu.compile(loss='categorical_crossentropy',\n",
    "#              optimizer='adam', \n",
    "#              metrics=['accuracy'])\n",
    "\n",
    "model.compile(loss='categorical_crossentropy',\n",
    "              optimizer='adam', \n",
    "              metrics=['accuracy'])"
   ]
  },
  {
   "cell_type": "code",
   "execution_count": 175,
   "metadata": {},
   "outputs": [],
   "source": [
    "callbacks_list = [\n",
    "    #tensorflow.keras.callbacks.ModelCheckpoint(\n",
    "    #    filepath='best_model.{epoch:02d}-{val_loss:.2f}.h5',\n",
    "    #    monitor='val_loss', save_best_only=True),\n",
    "    #tensorflow.keras.callbacks.EarlyStopping(monitor='acc', patience=2)\n",
    "]"
   ]
  },
  {
   "cell_type": "code",
   "execution_count": 176,
   "metadata": {},
   "outputs": [],
   "source": [
    "tot_hist = []"
   ]
  },
  {
   "cell_type": "code",
   "execution_count": 183,
   "metadata": {
    "scrolled": true
   },
   "outputs": [
    {
     "name": "stdout",
     "output_type": "stream",
     "text": [
      "Train on 282455 samples, validate on 70614 samples\n",
      "Epoch 1/50\n",
      "282455/282455 [==============================] - 39s 137us/step - loss: 0.2638 - acc: 0.5215 - val_loss: 0.3868 - val_acc: 0.2001\n",
      "Epoch 2/50\n",
      "282455/282455 [==============================] - 39s 137us/step - loss: 0.2535 - acc: 0.5274 - val_loss: 0.4295 - val_acc: 0.2090\n",
      "Epoch 3/50\n",
      "282455/282455 [==============================] - 39s 139us/step - loss: 0.2591 - acc: 0.5183 - val_loss: 0.4226 - val_acc: 0.2072\n",
      "Epoch 4/50\n",
      "282455/282455 [==============================] - 39s 139us/step - loss: 0.2611 - acc: 0.5164 - val_loss: 0.4415 - val_acc: 0.2078\n",
      "Epoch 5/50\n",
      "282455/282455 [==============================] - 39s 138us/step - loss: 0.2877 - acc: 0.5248 - val_loss: 0.3859 - val_acc: 0.2043\n",
      "Epoch 6/50\n",
      "282455/282455 [==============================] - 39s 137us/step - loss: 0.2640 - acc: 0.5132 - val_loss: 0.3562 - val_acc: 0.2202\n",
      "Epoch 7/50\n",
      "282455/282455 [==============================] - 39s 137us/step - loss: 0.2648 - acc: 0.5232 - val_loss: 0.3793 - val_acc: 0.2008\n",
      "Epoch 8/50\n",
      "282455/282455 [==============================] - 38s 136us/step - loss: 0.2614 - acc: 0.5235 - val_loss: 0.3917 - val_acc: 0.1963\n",
      "Epoch 9/50\n",
      "282455/282455 [==============================] - 38s 133us/step - loss: 0.2750 - acc: 0.5188 - val_loss: 0.4051 - val_acc: 0.2052\n",
      "Epoch 10/50\n",
      "282455/282455 [==============================] - 38s 136us/step - loss: 0.2685 - acc: 0.5111 - val_loss: 0.4092 - val_acc: 0.2063\n",
      "Epoch 11/50\n",
      "282455/282455 [==============================] - 39s 136us/step - loss: 0.2577 - acc: 0.5191 - val_loss: 0.3470 - val_acc: 0.2090\n",
      "Epoch 12/50\n",
      "282455/282455 [==============================] - 38s 135us/step - loss: 0.2626 - acc: 0.5290 - val_loss: 0.3971 - val_acc: 0.2033\n",
      "Epoch 13/50\n",
      "282455/282455 [==============================] - 39s 137us/step - loss: 0.2708 - acc: 0.5150 - val_loss: 0.4342 - val_acc: 0.2072\n",
      "Epoch 14/50\n",
      "282455/282455 [==============================] - 38s 136us/step - loss: 0.2839 - acc: 0.5010 - val_loss: 0.3855 - val_acc: 0.2074\n",
      "Epoch 15/50\n",
      "282455/282455 [==============================] - 38s 136us/step - loss: 0.2666 - acc: 0.5101 - val_loss: 0.3470 - val_acc: 0.2147\n",
      "Epoch 16/50\n",
      "282455/282455 [==============================] - 38s 136us/step - loss: 0.2609 - acc: 0.5258 - val_loss: 0.3910 - val_acc: 0.2068\n",
      "Epoch 17/50\n",
      "282455/282455 [==============================] - 38s 135us/step - loss: 0.2629 - acc: 0.5194 - val_loss: 0.4024 - val_acc: 0.2087\n",
      "Epoch 18/50\n",
      "282455/282455 [==============================] - 38s 134us/step - loss: 0.2668 - acc: 0.5276 - val_loss: 0.4353 - val_acc: 0.1940\n",
      "Epoch 19/50\n",
      "282455/282455 [==============================] - 39s 137us/step - loss: 0.2666 - acc: 0.5104 - val_loss: 0.3548 - val_acc: 0.2093\n",
      "Epoch 20/50\n",
      "282455/282455 [==============================] - 38s 135us/step - loss: 0.2588 - acc: 0.5260 - val_loss: 0.4543 - val_acc: 0.2052\n",
      "Epoch 21/50\n",
      "282455/282455 [==============================] - 38s 135us/step - loss: 0.2664 - acc: 0.5125 - val_loss: 0.4127 - val_acc: 0.2071\n",
      "Epoch 22/50\n",
      "282455/282455 [==============================] - 38s 133us/step - loss: 0.2588 - acc: 0.5136 - val_loss: 0.3618 - val_acc: 0.2049\n",
      "Epoch 23/50\n",
      "282455/282455 [==============================] - 36s 127us/step - loss: 0.2627 - acc: 0.5272 - val_loss: 0.4084 - val_acc: 0.2164\n",
      "Epoch 24/50\n",
      "282455/282455 [==============================] - 37s 131us/step - loss: 0.2678 - acc: 0.5252 - val_loss: 0.4213 - val_acc: 0.2084\n",
      "Epoch 25/50\n",
      "282455/282455 [==============================] - 36s 127us/step - loss: 0.2696 - acc: 0.5161 - val_loss: 0.3678 - val_acc: 0.2092\n",
      "Epoch 26/50\n",
      "282455/282455 [==============================] - 36s 126us/step - loss: 0.2579 - acc: 0.5185 - val_loss: 0.3812 - val_acc: 0.2135\n",
      "Epoch 27/50\n",
      "282455/282455 [==============================] - 36s 126us/step - loss: 0.2627 - acc: 0.5177 - val_loss: 0.3613 - val_acc: 0.2086\n",
      "Epoch 28/50\n",
      "282455/282455 [==============================] - 36s 127us/step - loss: 0.2706 - acc: 0.5277 - val_loss: 0.4551 - val_acc: 0.2105\n",
      "Epoch 29/50\n",
      "282455/282455 [==============================] - 36s 126us/step - loss: 0.2750 - acc: 0.5225 - val_loss: 0.3751 - val_acc: 0.1967\n",
      "Epoch 30/50\n",
      "282455/282455 [==============================] - 36s 126us/step - loss: 0.2564 - acc: 0.5266 - val_loss: 0.3567 - val_acc: 0.2042\n",
      "Epoch 31/50\n",
      "282455/282455 [==============================] - 36s 127us/step - loss: 0.2576 - acc: 0.5281 - val_loss: 0.3744 - val_acc: 0.2191\n",
      "Epoch 32/50\n",
      "282455/282455 [==============================] - 36s 126us/step - loss: 0.2693 - acc: 0.5152 - val_loss: 0.4237 - val_acc: 0.2055\n",
      "Epoch 33/50\n",
      "282455/282455 [==============================] - 36s 126us/step - loss: 0.2694 - acc: 0.5195 - val_loss: 0.3773 - val_acc: 0.2124\n",
      "Epoch 34/50\n",
      "282455/282455 [==============================] - 35s 125us/step - loss: 0.2606 - acc: 0.5265 - val_loss: 0.4203 - val_acc: 0.1795\n",
      "Epoch 35/50\n",
      "282455/282455 [==============================] - 36s 127us/step - loss: 0.2675 - acc: 0.5230 - val_loss: 0.3762 - val_acc: 0.2040\n",
      "Epoch 36/50\n",
      "282455/282455 [==============================] - 36s 126us/step - loss: 0.2525 - acc: 0.5300 - val_loss: 0.4434 - val_acc: 0.1946\n",
      "Epoch 37/50\n",
      "282455/282455 [==============================] - 36s 126us/step - loss: 0.2949 - acc: 0.5254 - val_loss: 0.4021 - val_acc: 0.1753\n",
      "Epoch 38/50\n",
      "282455/282455 [==============================] - 36s 127us/step - loss: 0.2601 - acc: 0.5323 - val_loss: 0.3866 - val_acc: 0.2131\n",
      "Epoch 39/50\n",
      "282455/282455 [==============================] - 35s 126us/step - loss: 0.2652 - acc: 0.5423 - val_loss: 0.4258 - val_acc: 0.1813\n",
      "Epoch 40/50\n",
      "282455/282455 [==============================] - 36s 127us/step - loss: 0.2552 - acc: 0.5117 - val_loss: 0.3978 - val_acc: 0.2053\n",
      "Epoch 41/50\n",
      "282455/282455 [==============================] - 36s 127us/step - loss: 0.2614 - acc: 0.5273 - val_loss: 0.4162 - val_acc: 0.1947\n",
      "Epoch 42/50\n",
      "282455/282455 [==============================] - 36s 127us/step - loss: 0.2599 - acc: 0.5302 - val_loss: 0.3984 - val_acc: 0.2053\n",
      "Epoch 43/50\n",
      "282455/282455 [==============================] - 36s 128us/step - loss: 0.2632 - acc: 0.5279 - val_loss: 0.4260 - val_acc: 0.1949\n",
      "Epoch 44/50\n",
      "282455/282455 [==============================] - 36s 128us/step - loss: 0.2723 - acc: 0.5211 - val_loss: 0.3905 - val_acc: 0.2081\n",
      "Epoch 45/50\n",
      "282455/282455 [==============================] - 36s 126us/step - loss: 0.2569 - acc: 0.5191 - val_loss: 0.3817 - val_acc: 0.2005\n",
      "Epoch 46/50\n",
      "282455/282455 [==============================] - 35s 125us/step - loss: 0.2596 - acc: 0.5299 - val_loss: 0.3573 - val_acc: 0.2061\n",
      "Epoch 47/50\n",
      "282455/282455 [==============================] - 36s 127us/step - loss: 0.2690 - acc: 0.5269 - val_loss: 0.3525 - val_acc: 0.2056\n",
      "Epoch 48/50\n",
      "282455/282455 [==============================] - 35s 126us/step - loss: 0.2862 - acc: 0.5168 - val_loss: 0.3985 - val_acc: 0.2049\n",
      "Epoch 49/50\n",
      "282455/282455 [==============================] - 36s 126us/step - loss: 0.2615 - acc: 0.5188 - val_loss: 0.3888 - val_acc: 0.2035\n",
      "Epoch 50/50\n",
      "282455/282455 [==============================] - 36s 127us/step - loss: 0.2516 - acc: 0.5315 - val_loss: 0.3684 - val_acc: 0.1973\n"
     ]
    }
   ],
   "source": [
    "history = model.fit(train_X,  \n",
    "                        train_Y_cat,\n",
    "                        batch_size=128,\n",
    "                        epochs=50,\n",
    "                        #callbacks=callbacks_list,\n",
    "                        validation_split=0.2,\n",
    "                        verbose=1,\n",
    "                        class_weight=class_weight,                    \n",
    "                        #validation_data = (test_X, test_Y_cat)\n",
    "                       )\n",
    "\n",
    "tot_hist.append(history)"
   ]
  },
  {
   "cell_type": "code",
   "execution_count": 184,
   "metadata": {},
   "outputs": [
    {
     "name": "stdout",
     "output_type": "stream",
     "text": [
      "800/800 [==============================] - 0s 255us/step\n"
     ]
    },
    {
     "data": {
      "text/plain": [
       "[1.1372120046615601, 0.54000000000000004]"
      ]
     },
     "execution_count": 184,
     "metadata": {},
     "output_type": "execute_result"
    }
   ],
   "source": [
    "#model_gpu.evaluate(test_X, test_Y_cat)\n",
    "model.evaluate(test_X, test_Y_cat)"
   ]
  },
  {
   "cell_type": "code",
   "execution_count": 116,
   "metadata": {},
   "outputs": [
    {
     "ename": "ImportError",
     "evalue": "`save_weights` requires h5py when saving in hdf5.",
     "output_type": "error",
     "traceback": [
      "\u001b[0;31m---------------------------------------------------------------------------\u001b[0m",
      "\u001b[0;31mImportError\u001b[0m                               Traceback (most recent call last)",
      "\u001b[0;32m<ipython-input-116-38766d214bed>\u001b[0m in \u001b[0;36m<module>\u001b[0;34m\u001b[0m\n\u001b[0;32m----> 1\u001b[0;31m \u001b[0mmodel\u001b[0m\u001b[0;34m.\u001b[0m\u001b[0msave_weights\u001b[0m\u001b[0;34m(\u001b[0m\u001b[0;34m'./weights_78_on_test.h5'\u001b[0m\u001b[0;34m)\u001b[0m\u001b[0;34m\u001b[0m\u001b[0m\n\u001b[0m",
      "\u001b[0;32m/usr/local/lib/python3.5/dist-packages/tensorflow/python/keras/engine/network.py\u001b[0m in \u001b[0;36msave_weights\u001b[0;34m(self, filepath, overwrite, save_format)\u001b[0m\n\u001b[1;32m   1288\u001b[0m     \u001b[0;32mif\u001b[0m \u001b[0msave_format\u001b[0m \u001b[0;34m==\u001b[0m \u001b[0;34m'h5'\u001b[0m \u001b[0;32mand\u001b[0m \u001b[0mh5py\u001b[0m \u001b[0;32mis\u001b[0m \u001b[0;32mNone\u001b[0m\u001b[0;34m:\u001b[0m\u001b[0;34m\u001b[0m\u001b[0m\n\u001b[1;32m   1289\u001b[0m       raise ImportError(\n\u001b[0;32m-> 1290\u001b[0;31m           '`save_weights` requires h5py when saving in hdf5.')\n\u001b[0m\u001b[1;32m   1291\u001b[0m     \u001b[0;32mif\u001b[0m \u001b[0msave_format\u001b[0m \u001b[0;34m==\u001b[0m \u001b[0;34m'tf'\u001b[0m\u001b[0;34m:\u001b[0m\u001b[0;34m\u001b[0m\u001b[0m\n\u001b[1;32m   1292\u001b[0m       \u001b[0mcheck_filepath\u001b[0m \u001b[0;34m=\u001b[0m \u001b[0mfilepath\u001b[0m \u001b[0;34m+\u001b[0m \u001b[0;34m'.index'\u001b[0m\u001b[0;34m\u001b[0m\u001b[0m\n",
      "\u001b[0;31mImportError\u001b[0m: `save_weights` requires h5py when saving in hdf5."
     ]
    }
   ],
   "source": [
    "model.save_weights('./weights_78_on_test.h5')"
   ]
  },
  {
   "cell_type": "code",
   "execution_count": 113,
   "metadata": {},
   "outputs": [
    {
     "name": "stdout",
     "output_type": "stream",
     "text": [
      "1D_conv.ipynb  dataset.mat  weights_78_on_test.data-00000-of-00001\r\n",
      "checkpoint     recc.ipynb   weights_78_on_test.index\r\n"
     ]
    }
   ],
   "source": [
    "%ls"
   ]
  },
  {
   "cell_type": "code",
   "execution_count": 125,
   "metadata": {},
   "outputs": [
    {
     "name": "stdout",
     "output_type": "stream",
     "text": [
      "Test:\n",
      "[[135   9   3   3]\n",
      " [ 23 164   0  13]\n",
      " [  8   5 153  15]\n",
      " [ 34  22  44 169]]\n",
      "Train:\n",
      "[[172200      8     35    998]\n",
      " [ 38391    878     31   3095]\n",
      " [  5923      2   5820   4733]\n",
      " [ 51389     25    278  69263]]\n"
     ]
    }
   ],
   "source": [
    "print('Test:')\n",
    "pred_test_Y = model.predict(test_X)\n",
    "pred_test_Y = numpy.argmax(pred_test_Y, axis=1)# where(pred_Y < 0.5, 0, 1)\n",
    "print(confusion_matrix(pred_test_Y, test_Y))\n",
    "\n",
    "print('Train:')\n",
    "pred_train_Y = model.predict(train_X)\n",
    "pred_train_Y = numpy.argmax(pred_train_Y, axis=1)# where(pred_Y < 0.5, 0, 1)\n",
    "print(confusion_matrix(pred_train_Y, train_Y))"
   ]
  },
  {
   "cell_type": "code",
   "execution_count": 124,
   "metadata": {},
   "outputs": [
    {
     "data": {
      "text/plain": [
       "<matplotlib.legend.Legend at 0x7fa14b2e34a8>"
      ]
     },
     "execution_count": 124,
     "metadata": {},
     "output_type": "execute_result"
    },
    {
     "data": {
      "image/png": "[encoded data removed]",
      "text/plain": [
       "<Figure size 720x720 with 2 Axes>"
      ]
     },
     "metadata": {
      "needs_background": "light"
     },
     "output_type": "display_data"
    }
   ],
   "source": [
    "acc = []\n",
    "loss = []\n",
    "val_acc = []\n",
    "val_loss = []\n",
    "models = []\n",
    "\n",
    "plot_to = -1\n",
    "\n",
    "for h in tot_hist:\n",
    "    acc += h.history['acc']\n",
    "    loss += h.history['loss']\n",
    "    val_acc += h.history['val_acc']\n",
    "    val_loss += h.history['val_loss']\n",
    "    models.append(h.model)\n",
    "    \n",
    "fig = plt.figure(figsize=(10,10))\n",
    "ax = fig.add_subplot(211)\n",
    "ax.plot(acc[:plot_to], label='acc')\n",
    "ax.plot(val_acc[:plot_to], label='val_acc')\n",
    "plt.legend()\n",
    "\n",
    "ax = fig.add_subplot(212)\n",
    "ax.plot(loss[:plot_to], label='loss')\n",
    "ax.plot(val_loss[:plot_to], label='val_loss')\n",
    "\n",
    "plt.legend()\n"
   ]
  },
  {
   "cell_type": "code",
   "execution_count": 48,
   "metadata": {},
   "outputs": [
    {
     "data": {
      "text/plain": [
       "<tensorflow.python.keras.engine.training.Model at 0x7f44164ddc88>"
      ]
     },
     "execution_count": 48,
     "metadata": {},
     "output_type": "execute_result"
    }
   ],
   "source": [
    "history.model"
   ]
  },
  {
   "cell_type": "code",
   "execution_count": 118,
   "metadata": {},
   "outputs": [
    {
     "name": "stdout",
     "output_type": "stream",
     "text": [
      "800/800 [==============================] - 0s 97us/step\n"
     ]
    },
    {
     "data": {
      "text/plain": [
       "[0.62688499927520747, 0.78000000000000003]"
      ]
     },
     "execution_count": 118,
     "metadata": {},
     "output_type": "execute_result"
    }
   ],
   "source": [
    "model.evaluate(test_X, test_Y_cat)"
   ]
  },
  {
   "cell_type": "code",
   "execution_count": null,
   "metadata": {},
   "outputs": [],
   "source": []
  },
  {
   "cell_type": "code",
   "execution_count": 51,
   "metadata": {},
   "outputs": [
    {
     "data": {
      "text/plain": [
       "(400,)"
      ]
     },
     "execution_count": 51,
     "metadata": {},
     "output_type": "execute_result"
    }
   ],
   "source": [
    "test_Y.shape"
   ]
  },
  {
   "cell_type": "code",
   "execution_count": 52,
   "metadata": {},
   "outputs": [],
   "source": [
    "import copy\n",
    "history_1000 = copy.copy(history)"
   ]
  },
  {
   "cell_type": "code",
   "execution_count": 53,
   "metadata": {},
   "outputs": [
    {
     "data": {
      "text/plain": [
       "False"
      ]
     },
     "execution_count": 53,
     "metadata": {},
     "output_type": "execute_result"
    }
   ],
   "source": [
    "history_1000 is history"
   ]
  },
  {
   "cell_type": "markdown",
   "metadata": {},
   "source": [
    "## another model"
   ]
  },
  {
   "cell_type": "code",
   "execution_count": 126,
   "metadata": {},
   "outputs": [
    {
     "name": "stdout",
     "output_type": "stream",
     "text": [
      "_________________________________________________________________\n",
      "Layer (type)                 Output Shape              Param #   \n",
      "=================================================================\n",
      "conv1d_9 (Conv1D)            (None, 381, 60)           3660      \n",
      "_________________________________________________________________\n",
      "batch_normalization_3 (Batch (None, 381, 60)           240       \n",
      "_________________________________________________________________\n",
      "activation_12 (Activation)   (None, 381, 60)           0         \n",
      "_________________________________________________________________\n",
      "conv1d_10 (Conv1D)           (None, 362, 60)           72060     \n",
      "_________________________________________________________________\n",
      "activation_13 (Activation)   (None, 362, 60)           0         \n",
      "_________________________________________________________________\n",
      "max_pooling1d_6 (MaxPooling1 (None, 120, 60)           0         \n",
      "_________________________________________________________________\n",
      "dropout_3 (Dropout)          (None, 120, 60)           0         \n",
      "_________________________________________________________________\n",
      "conv1d_11 (Conv1D)           (None, 101, 60)           72060     \n",
      "_________________________________________________________________\n",
      "activation_14 (Activation)   (None, 101, 60)           0         \n",
      "_________________________________________________________________\n",
      "max_pooling1d_7 (MaxPooling1 (None, 33, 60)            0         \n",
      "_________________________________________________________________\n",
      "global_average_pooling1d_3 ( (None, 60)                0         \n",
      "_________________________________________________________________\n",
      "flatten_3 (Flatten)          (None, 60)                0         \n",
      "_________________________________________________________________\n",
      "dense_6 (Dense)              (None, 32)                1952      \n",
      "_________________________________________________________________\n",
      "activation_15 (Activation)   (None, 32)                0         \n",
      "_________________________________________________________________\n",
      "dense_7 (Dense)              (None, 4)                 132       \n",
      "=================================================================\n",
      "Total params: 150,104\n",
      "Trainable params: 149,984\n",
      "Non-trainable params: 120\n",
      "_________________________________________________________________\n",
      "None\n"
     ]
    }
   ],
   "source": [
    "model1 = tensorflow.keras.Sequential()\n",
    "\n",
    "model1.add(layers.Conv1D(60, 20, input_shape=(SAMPLES, 3)))\n",
    "model1.add(layers.BatchNormalization())\n",
    "model1.add(layers.Activation('relu'))\n",
    "model1.add(layers.Conv1D(60, 20))\n",
    "#model.add(layers.BatchNormalization())\n",
    "model1.add(layers.Activation('relu'))\n",
    "model1.add(layers.MaxPooling1D(3))\n",
    "model1.add(layers.Dropout(0.35))\n",
    "\n",
    "model1.add(layers.Conv1D(60, 20))\n",
    "#model.add(layers.BatchNormalization())\n",
    "model1.add(layers.Activation('relu'))\n",
    "model1.add(layers.MaxPooling1D(3)) \n",
    "model1.add(layers.GlobalAveragePooling1D())\n",
    "#model.add(layers.Dropout(0.35))\n",
    "\n",
    "model1.add(layers.Flatten())\n",
    "model1.add(layers.Dense(32))\n",
    "#model.add(layers.BatchNormalization())\n",
    "model1.add(layers.Activation('relu'))\n",
    "model1.add(layers.Dense(num_classes, activation='softmax'))\n",
    "\n",
    "print(model1.summary())"
   ]
  },
  {
   "cell_type": "code",
   "execution_count": 127,
   "metadata": {},
   "outputs": [],
   "source": [
    "model1.compile(loss='categorical_crossentropy',\n",
    "              optimizer='adam', \n",
    "              metrics=['accuracy'])"
   ]
  },
  {
   "cell_type": "code",
   "execution_count": 151,
   "metadata": {},
   "outputs": [
    {
     "name": "stdout",
     "output_type": "stream",
     "text": [
      "{0: 0.05, 1: 50, 2: 5, 3: 1}\n"
     ]
    }
   ],
   "source": [
    "class_weights_1 = {CLASS_CODES['N']: 0.05, #1./N_train_tot * WIGHTS_CONST, \n",
    "                CLASS_CODES['S']: 50,#./S_train_tot * WIGHTS_CONST, \n",
    "                CLASS_CODES['P']: 5, #1./P_train_tot * WIGHTS_CONST , \n",
    "                CLASS_CODES['T']: 1} #./T_train_tot * WIGHTS_CONST}\n",
    "# optimal [  0.32947466  96.67825849  14.31980045   1.13034166]\n",
    "print(class_weights_1)"
   ]
  },
  {
   "cell_type": "code",
   "execution_count": 131,
   "metadata": {},
   "outputs": [],
   "source": [
    "tot_hist_1 = []"
   ]
  },
  {
   "cell_type": "code",
   "execution_count": 156,
   "metadata": {},
   "outputs": [
    {
     "name": "stdout",
     "output_type": "stream",
     "text": [
      "Train on 282455 samples, validate on 70614 samples\n",
      "Epoch 1/10\n",
      "282455/282455 [==============================] - 29s 102us/step - loss: 0.1763 - acc: 0.6564 - val_loss: 0.2202 - val_acc: 0.6187\n",
      "Epoch 2/10\n",
      "282455/282455 [==============================] - 29s 103us/step - loss: 0.1768 - acc: 0.6535 - val_loss: 0.2216 - val_acc: 0.6224\n",
      "Epoch 3/10\n",
      "282455/282455 [==============================] - 29s 102us/step - loss: 0.1695 - acc: 0.6646 - val_loss: 0.2559 - val_acc: 0.6686\n",
      "Epoch 4/10\n",
      "282455/282455 [==============================] - 29s 104us/step - loss: 0.1744 - acc: 0.6541 - val_loss: 0.2472 - val_acc: 0.6924\n",
      "Epoch 5/10\n",
      "282455/282455 [==============================] - 29s 103us/step - loss: 0.1732 - acc: 0.6695 - val_loss: 0.2292 - val_acc: 0.5895\n",
      "Epoch 6/10\n",
      "282455/282455 [==============================] - 29s 103us/step - loss: 0.1717 - acc: 0.6563 - val_loss: 0.2300 - val_acc: 0.6472\n",
      "Epoch 7/10\n",
      "282455/282455 [==============================] - 30s 106us/step - loss: 0.1700 - acc: 0.6730 - val_loss: 0.2359 - val_acc: 0.6104\n",
      "Epoch 8/10\n",
      "282455/282455 [==============================] - 29s 104us/step - loss: 0.1743 - acc: 0.6545 - val_loss: 0.2615 - val_acc: 0.7215\n",
      "Epoch 9/10\n",
      "282455/282455 [==============================] - 29s 103us/step - loss: 0.1721 - acc: 0.6603 - val_loss: 0.2394 - val_acc: 0.5751\n",
      "Epoch 10/10\n",
      "282455/282455 [==============================] - 29s 103us/step - loss: 0.1737 - acc: 0.6577 - val_loss: 0.2674 - val_acc: 0.6995\n"
     ]
    }
   ],
   "source": [
    "history = model1.fit(train_X,  \n",
    "                    train_Y_cat,\n",
    "                    batch_size=128,\n",
    "                    epochs=10,\n",
    "                    #callbacks=callbacks_list,\n",
    "                    validation_split=0.2,\n",
    "                    verbose=1,\n",
    "                    class_weight=class_weights_1,                    \n",
    "                    )\n",
    "\n",
    "tot_hist_1.append(history)"
   ]
  },
  {
   "cell_type": "code",
   "execution_count": 157,
   "metadata": {},
   "outputs": [
    {
     "name": "stdout",
     "output_type": "stream",
     "text": [
      "800/800 [==============================] - 0s 256us/step\n"
     ]
    },
    {
     "data": {
      "text/plain": [
       "[0.68353803157806392, 0.77000000000000002]"
      ]
     },
     "execution_count": 157,
     "metadata": {},
     "output_type": "execute_result"
    }
   ],
   "source": [
    "model1.evaluate(test_X, test_Y_cat)"
   ]
  },
  {
   "cell_type": "code",
   "execution_count": 158,
   "metadata": {},
   "outputs": [
    {
     "name": "stdout",
     "output_type": "stream",
     "text": [
      "Test:\n",
      "[[129  10   2   4]\n",
      " [ 23 169   1  11]\n",
      " [ 13   5 141   8]\n",
      " [ 35  16  56 177]]\n",
      "Train:\n",
      "[[174005     13     69   1678]\n",
      " [ 33966    877     47   2875]\n",
      " [  7574      4   4710   3758]\n",
      " [ 52358     19   1338  69778]]\n"
     ]
    }
   ],
   "source": [
    "print('Test:')\n",
    "pred_test_Y = model1.predict(test_X)\n",
    "pred_test_Y = numpy.argmax(pred_test_Y, axis=1)# where(pred_Y < 0.5, 0, 1)\n",
    "print(confusion_matrix(pred_test_Y, test_Y))\n",
    "\n",
    "print('Train:')\n",
    "pred_train_Y = model1.predict(train_X)\n",
    "pred_train_Y = numpy.argmax(pred_train_Y, axis=1)# where(pred_Y < 0.5, 0, 1)\n",
    "print(confusion_matrix(pred_train_Y, train_Y))"
   ]
  },
  {
   "cell_type": "markdown",
   "metadata": {},
   "source": [
    "## another model with different weight classes"
   ]
  },
  {
   "cell_type": "code",
   "execution_count": 139,
   "metadata": {},
   "outputs": [
    {
     "name": "stdout",
     "output_type": "stream",
     "text": [
      "_________________________________________________________________\n",
      "Layer (type)                 Output Shape              Param #   \n",
      "=================================================================\n",
      "conv1d_12 (Conv1D)           (None, 381, 60)           3660      \n",
      "_________________________________________________________________\n",
      "batch_normalization_4 (Batch (None, 381, 60)           240       \n",
      "_________________________________________________________________\n",
      "activation_16 (Activation)   (None, 381, 60)           0         \n",
      "_________________________________________________________________\n",
      "conv1d_13 (Conv1D)           (None, 362, 60)           72060     \n",
      "_________________________________________________________________\n",
      "activation_17 (Activation)   (None, 362, 60)           0         \n",
      "_________________________________________________________________\n",
      "max_pooling1d_8 (MaxPooling1 (None, 120, 60)           0         \n",
      "_________________________________________________________________\n",
      "dropout_4 (Dropout)          (None, 120, 60)           0         \n",
      "_________________________________________________________________\n",
      "conv1d_14 (Conv1D)           (None, 101, 60)           72060     \n",
      "_________________________________________________________________\n",
      "activation_18 (Activation)   (None, 101, 60)           0         \n",
      "_________________________________________________________________\n",
      "max_pooling1d_9 (MaxPooling1 (None, 33, 60)            0         \n",
      "_________________________________________________________________\n",
      "global_average_pooling1d_4 ( (None, 60)                0         \n",
      "_________________________________________________________________\n",
      "flatten_4 (Flatten)          (None, 60)                0         \n",
      "_________________________________________________________________\n",
      "dense_8 (Dense)              (None, 32)                1952      \n",
      "_________________________________________________________________\n",
      "activation_19 (Activation)   (None, 32)                0         \n",
      "_________________________________________________________________\n",
      "dense_9 (Dense)              (None, 4)                 132       \n",
      "=================================================================\n",
      "Total params: 150,104\n",
      "Trainable params: 149,984\n",
      "Non-trainable params: 120\n",
      "_________________________________________________________________\n",
      "None\n"
     ]
    }
   ],
   "source": [
    "model2 = tensorflow.keras.Sequential()\n",
    "\n",
    "model2.add(layers.Conv1D(60, 20, input_shape=(SAMPLES, 3)))\n",
    "model2.add(layers.BatchNormalization())\n",
    "model2.add(layers.Activation('relu'))\n",
    "model2.add(layers.Conv1D(60, 20))\n",
    "#model.add(layers.BatchNormalization())\n",
    "model2.add(layers.Activation('relu'))\n",
    "model2.add(layers.MaxPooling1D(3))\n",
    "model2.add(layers.Dropout(0.35))\n",
    "\n",
    "model2.add(layers.Conv1D(60, 20))\n",
    "#model.add(layers.BatchNormalization())\n",
    "model2.add(layers.Activation('relu'))\n",
    "model2.add(layers.MaxPooling1D(3)) \n",
    "model2.add(layers.GlobalAveragePooling1D())\n",
    "#model.add(layers.Dropout(0.35))\n",
    "\n",
    "model2.add(layers.Flatten())\n",
    "model2.add(layers.Dense(32))\n",
    "#model.add(layers.BatchNormalization())\n",
    "model2.add(layers.Activation('relu'))\n",
    "model2.add(layers.Dense(num_classes, activation='softmax'))\n",
    "\n",
    "print(model2.summary())"
   ]
  },
  {
   "cell_type": "code",
   "execution_count": 141,
   "metadata": {},
   "outputs": [],
   "source": [
    "model2.compile(loss='categorical_crossentropy',\n",
    "              optimizer='adam', \n",
    "              metrics=['accuracy'])"
   ]
  },
  {
   "cell_type": "code",
   "execution_count": 150,
   "metadata": {},
   "outputs": [
    {
     "name": "stdout",
     "output_type": "stream",
     "text": [
      "[  0.32947466  96.67825849  14.31980045   1.13034166]\n"
     ]
    }
   ],
   "source": [
    "#optimum class weighjts from keras\n",
    "from sklearn.utils import class_weight\n",
    "class_weights_2 = class_weight.compute_class_weight('balanced', numpy.unique(train_Y), train_Y)\n",
    "print(class_weights_2)"
   ]
  },
  {
   "cell_type": "code",
   "execution_count": 142,
   "metadata": {},
   "outputs": [],
   "source": [
    "tot_hist_2 = []"
   ]
  },
  {
   "cell_type": "code",
   "execution_count": 147,
   "metadata": {},
   "outputs": [
    {
     "name": "stdout",
     "output_type": "stream",
     "text": [
      "Train on 282455 samples, validate on 70614 samples\n",
      "Epoch 1/10\n",
      "282455/282455 [==============================] - 29s 102us/step - loss: 0.1876 - acc: 0.9313 - val_loss: 0.1904 - val_acc: 0.9310\n",
      "Epoch 2/10\n",
      "282455/282455 [==============================] - 29s 102us/step - loss: 0.1854 - acc: 0.9323 - val_loss: 0.1890 - val_acc: 0.9317\n",
      "Epoch 3/10\n",
      "282455/282455 [==============================] - 28s 101us/step - loss: 0.1841 - acc: 0.9332 - val_loss: 0.1971 - val_acc: 0.9304\n",
      "Epoch 4/10\n",
      "282455/282455 [==============================] - 29s 102us/step - loss: 0.1823 - acc: 0.9335 - val_loss: 0.1929 - val_acc: 0.9306\n",
      "Epoch 5/10\n",
      "282455/282455 [==============================] - 28s 101us/step - loss: 0.1808 - acc: 0.9340 - val_loss: 0.2041 - val_acc: 0.9270\n",
      "Epoch 6/10\n",
      "282455/282455 [==============================] - 29s 102us/step - loss: 0.1787 - acc: 0.9348 - val_loss: 0.1901 - val_acc: 0.9315\n",
      "Epoch 7/10\n",
      "282455/282455 [==============================] - 29s 103us/step - loss: 0.1773 - acc: 0.9355 - val_loss: 0.1887 - val_acc: 0.9320\n",
      "Epoch 8/10\n",
      "282455/282455 [==============================] - 29s 104us/step - loss: 0.1765 - acc: 0.9357 - val_loss: 0.1941 - val_acc: 0.9294\n",
      "Epoch 9/10\n",
      "282455/282455 [==============================] - 30s 105us/step - loss: 0.1749 - acc: 0.9364 - val_loss: 0.1959 - val_acc: 0.9289\n",
      "Epoch 10/10\n",
      "282455/282455 [==============================] - 29s 104us/step - loss: 0.1737 - acc: 0.9367 - val_loss: 0.1934 - val_acc: 0.9296\n"
     ]
    }
   ],
   "source": [
    "history = model2.fit(train_X,  \n",
    "                    train_Y_cat,\n",
    "                    batch_size=128,\n",
    "                    epochs=10,\n",
    "                    #callbacks=callbacks_list,\n",
    "                    validation_split=0.2,\n",
    "                    verbose=1,\n",
    "                    class_weight=class_weights_2,                    \n",
    "                    )\n",
    "\n",
    "tot_hist_2.append(history)"
   ]
  },
  {
   "cell_type": "code",
   "execution_count": 148,
   "metadata": {},
   "outputs": [
    {
     "name": "stdout",
     "output_type": "stream",
     "text": [
      "800/800 [==============================] - 0s 204us/step\n"
     ]
    },
    {
     "data": {
      "text/plain": [
       "[1.2835234686732293, 0.5625]"
      ]
     },
     "execution_count": 148,
     "metadata": {},
     "output_type": "execute_result"
    }
   ],
   "source": [
    "model2.evaluate(test_X, test_Y_cat)"
   ]
  },
  {
   "cell_type": "code",
   "execution_count": null,
   "metadata": {},
   "outputs": [],
   "source": []
  }
 ],
 "metadata": {
  "kernelspec": {
   "display_name": "Python 3",
   "language": "python",
   "name": "python3"
  },
  "language_info": {
   "codemirror_mode": {
    "name": "ipython",
    "version": 3
   },
   "file_extension": ".py",
   "mimetype": "text/x-python",
   "name": "python",
   "nbconvert_exporter": "python",
   "pygments_lexer": "ipython3",
   "version": "3.5.2"
  }
 },
 "nbformat": 4,
 "nbformat_minor": 2
}
