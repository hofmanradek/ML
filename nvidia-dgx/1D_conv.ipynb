{
 "cells": [
  {
   "cell_type": "code",
   "execution_count": 1,
   "metadata": {},
   "outputs": [
    {
     "data": {
      "text/plain": [
       "'/device:GPU:0'"
      ]
     },
     "execution_count": 1,
     "metadata": {},
     "output_type": "execute_result"
    }
   ],
   "source": [
    "import os\n",
    "os.environ[\"CUDA_DEVICE_ORDER\"] = \"PCI_BUS_ID\"\n",
    "os.environ['CUDA_VISIBLE_DEVICES'] = '1,3'\n",
    "import tensorflow\n",
    "tensorflow.test.gpu_device_name()"
   ]
  },
  {
   "cell_type": "code",
   "execution_count": 2,
   "metadata": {},
   "outputs": [],
   "source": [
    "import tensorflow.keras\n",
    "from tensorflow.keras import layers"
   ]
  },
  {
   "cell_type": "code",
   "execution_count": 3,
   "metadata": {},
   "outputs": [
    {
     "data": {
      "text/plain": [
       "<module 'tensorflow.keras' from '/usr/local/lib/python3.5/dist-packages/tensorflow/keras/__init__.py'>"
      ]
     },
     "execution_count": 3,
     "metadata": {},
     "output_type": "execute_result"
    }
   ],
   "source": [
    "# is keras present?\n",
    "tensorflow.keras"
   ]
  },
  {
   "cell_type": "code",
   "execution_count": 4,
   "metadata": {},
   "outputs": [],
   "source": [
    "import os\n",
    "import pandas\n",
    "import numpy\n",
    "from sklearn.metrics import confusion_matrix"
   ]
  },
  {
   "cell_type": "code",
   "execution_count": 5,
   "metadata": {},
   "outputs": [],
   "source": [
    "%matplotlib inline\n",
    "import matplotlib.pyplot as plt"
   ]
  },
  {
   "cell_type": "code",
   "execution_count": 6,
   "metadata": {},
   "outputs": [],
   "source": [
    "SAMPLES = 400"
   ]
  },
  {
   "cell_type": "markdown",
   "metadata": {},
   "source": [
    "### Load data"
   ]
  },
  {
   "cell_type": "code",
   "execution_count": 7,
   "metadata": {},
   "outputs": [],
   "source": [
    "data_path = os.path.join('..','data','dataset_timeseries_3ch.txt')"
   ]
  },
  {
   "cell_type": "code",
   "execution_count": 8,
   "metadata": {},
   "outputs": [],
   "source": [
    "df = pandas.read_csv(data_path, sep=';')\n",
    "df = df.drop('Unnamed: 6', axis=1)"
   ]
  },
  {
   "cell_type": "code",
   "execution_count": 9,
   "metadata": {},
   "outputs": [
    {
     "data": {
      "text/html": [
       "<div>\n",
       "<style scoped>\n",
       "    .dataframe tbody tr th:only-of-type {\n",
       "        vertical-align: middle;\n",
       "    }\n",
       "\n",
       "    .dataframe tbody tr th {\n",
       "        vertical-align: top;\n",
       "    }\n",
       "\n",
       "    .dataframe thead th {\n",
       "        text-align: right;\n",
       "    }\n",
       "</style>\n",
       "<table border=\"1\" class=\"dataframe\">\n",
       "  <thead>\n",
       "    <tr style=\"text-align: right;\">\n",
       "      <th></th>\n",
       "      <th>receptor_id</th>\n",
       "      <th>class</th>\n",
       "      <th>nsamp_per_chan</th>\n",
       "      <th>chan_E_samples</th>\n",
       "      <th>chan_N_samples</th>\n",
       "      <th>chan_Z_samples</th>\n",
       "    </tr>\n",
       "  </thead>\n",
       "  <tbody>\n",
       "    <tr>\n",
       "      <th>0</th>\n",
       "      <td>0</td>\n",
       "      <td>0</td>\n",
       "      <td>400</td>\n",
       "      <td>0.29495,0.41152,0.71334,1.19304,1.72107,2.1319...</td>\n",
       "      <td>0.49177,0.56177,0.84997,1.38184,1.99726,2.4611...</td>\n",
       "      <td>0.15294,0.15589,0.04885,-0.17813,-0.44809,-0.6...</td>\n",
       "    </tr>\n",
       "    <tr>\n",
       "      <th>1</th>\n",
       "      <td>1</td>\n",
       "      <td>0</td>\n",
       "      <td>400</td>\n",
       "      <td>0.08697,-0.05178,-0.40827,-0.97186,-1.58907,-2...</td>\n",
       "      <td>-0.18031,-0.43404,-0.76179,-1.16899,-1.57189,-...</td>\n",
       "      <td>0.17619,0.10835,-0.06327,-0.31164,-0.58474,-0....</td>\n",
       "    </tr>\n",
       "    <tr>\n",
       "      <th>2</th>\n",
       "      <td>2</td>\n",
       "      <td>0</td>\n",
       "      <td>400</td>\n",
       "      <td>-0.79922,-1.26171,-1.40667,-1.2125,-0.85398,-0...</td>\n",
       "      <td>2.36226,2.64067,2.76791,2.76611,2.66017,2.4915...</td>\n",
       "      <td>0.47433,-0.35791,-1.11644,-1.72523,-2.2055,-2....</td>\n",
       "    </tr>\n",
       "    <tr>\n",
       "      <th>3</th>\n",
       "      <td>3</td>\n",
       "      <td>0</td>\n",
       "      <td>400</td>\n",
       "      <td>0.04591,0.04574,-0.24254,-0.82716,-1.52647,-2....</td>\n",
       "      <td>-0.12581,-0.32034,-0.80886,-1.67523,-2.67637,-...</td>\n",
       "      <td>-0.56093,-0.61042,-0.84127,-1.33623,-1.92725,-...</td>\n",
       "    </tr>\n",
       "    <tr>\n",
       "      <th>4</th>\n",
       "      <td>4</td>\n",
       "      <td>3</td>\n",
       "      <td>400</td>\n",
       "      <td>0.10673,-0.11991,-0.68573,-1.618,-2.67277,-3.5...</td>\n",
       "      <td>-0.18146,-0.25581,-0.55374,-1.0699,-1.64551,-2...</td>\n",
       "      <td>-0.07987,-0.1264,-0.24434,-0.42169,-0.60204,-0...</td>\n",
       "    </tr>\n",
       "  </tbody>\n",
       "</table>\n",
       "</div>"
      ],
      "text/plain": [
       "   receptor_id   class   nsamp_per_chan  \\\n",
       "0            0       0              400   \n",
       "1            1       0              400   \n",
       "2            2       0              400   \n",
       "3            3       0              400   \n",
       "4            4       3              400   \n",
       "\n",
       "                                      chan_E_samples  \\\n",
       "0  0.29495,0.41152,0.71334,1.19304,1.72107,2.1319...   \n",
       "1  0.08697,-0.05178,-0.40827,-0.97186,-1.58907,-2...   \n",
       "2  -0.79922,-1.26171,-1.40667,-1.2125,-0.85398,-0...   \n",
       "3  0.04591,0.04574,-0.24254,-0.82716,-1.52647,-2....   \n",
       "4  0.10673,-0.11991,-0.68573,-1.618,-2.67277,-3.5...   \n",
       "\n",
       "                                      chan_N_samples  \\\n",
       "0  0.49177,0.56177,0.84997,1.38184,1.99726,2.4611...   \n",
       "1  -0.18031,-0.43404,-0.76179,-1.16899,-1.57189,-...   \n",
       "2  2.36226,2.64067,2.76791,2.76611,2.66017,2.4915...   \n",
       "3  -0.12581,-0.32034,-0.80886,-1.67523,-2.67637,-...   \n",
       "4  -0.18146,-0.25581,-0.55374,-1.0699,-1.64551,-2...   \n",
       "\n",
       "                                      chan_Z_samples  \n",
       "0  0.15294,0.15589,0.04885,-0.17813,-0.44809,-0.6...  \n",
       "1  0.17619,0.10835,-0.06327,-0.31164,-0.58474,-0....  \n",
       "2  0.47433,-0.35791,-1.11644,-1.72523,-2.2055,-2....  \n",
       "3  -0.56093,-0.61042,-0.84127,-1.33623,-1.92725,-...  \n",
       "4  -0.07987,-0.1264,-0.24434,-0.42169,-0.60204,-0...  "
      ]
     },
     "execution_count": 9,
     "metadata": {},
     "output_type": "execute_result"
    }
   ],
   "source": [
    "df.head()"
   ]
  },
  {
   "cell_type": "code",
   "execution_count": 10,
   "metadata": {},
   "outputs": [
    {
     "data": {
      "text/plain": [
       "Index(['receptor_id', ' class', ' nsamp_per_chan', ' chan_E_samples',\n",
       "       ' chan_N_samples', ' chan_Z_samples'],\n",
       "      dtype='object')"
      ]
     },
     "execution_count": 10,
     "metadata": {},
     "output_type": "execute_result"
    }
   ],
   "source": [
    "df.columns"
   ]
  },
  {
   "cell_type": "code",
   "execution_count": 11,
   "metadata": {},
   "outputs": [],
   "source": [
    "# trip column names of possible spaces\n",
    "df = df.rename(index=str, columns={x: x.strip() for x in df.columns})"
   ]
  },
  {
   "cell_type": "code",
   "execution_count": 12,
   "metadata": {},
   "outputs": [],
   "source": [
    "# shuffle dataframe rows\n",
    "df = df.sample(frac=1).reset_index(drop=True)"
   ]
  },
  {
   "cell_type": "code",
   "execution_count": 13,
   "metadata": {},
   "outputs": [
    {
     "data": {
      "text/plain": [
       "['receptor_id',\n",
       " 'class',\n",
       " 'nsamp_per_chan',\n",
       " 'chan_E_samples',\n",
       " 'chan_N_samples',\n",
       " 'chan_Z_samples']"
      ]
     },
     "execution_count": 13,
     "metadata": {},
     "output_type": "execute_result"
    }
   ],
   "source": [
    "[x for x in df.columns]"
   ]
  },
  {
   "cell_type": "code",
   "execution_count": 14,
   "metadata": {},
   "outputs": [
    {
     "name": "stdout",
     "output_type": "stream",
     "text": [
      "(353869,)\n",
      "(353869,)\n",
      "(353869,)\n"
     ]
    }
   ],
   "source": [
    "print(df['chan_E_samples'].shape)\n",
    "print(df['chan_N_samples'].shape)\n",
    "print(df['chan_Z_samples'].shape)"
   ]
  },
  {
   "cell_type": "code",
   "execution_count": 15,
   "metadata": {},
   "outputs": [],
   "source": [
    "N = df['chan_E_samples'].shape[0]"
   ]
  },
  {
   "cell_type": "code",
   "execution_count": 16,
   "metadata": {},
   "outputs": [],
   "source": [
    "CHAN_CODES = {'E': 0, 'N': 1, 'Z': 2}\n",
    "CLASS_CODES = {'N': 0, 'S': 1, 'P': 2, 'T': 3}"
   ]
  },
  {
   "cell_type": "code",
   "execution_count": 17,
   "metadata": {},
   "outputs": [],
   "source": [
    "data_X = numpy.zeros((N, SAMPLES, 3))  # number of cases, length of a sigle case, number of channels\n",
    "data_Y = df['class'].values"
   ]
  },
  {
   "cell_type": "code",
   "execution_count": 18,
   "metadata": {},
   "outputs": [
    {
     "data": {
      "text/plain": [
       "(400,)"
      ]
     },
     "execution_count": 18,
     "metadata": {},
     "output_type": "execute_result"
    }
   ],
   "source": [
    "# test of conversion function expression\n",
    "numpy.array(list(map(float, df['chan_E_samples'][0].split(',')))).shape"
   ]
  },
  {
   "cell_type": "code",
   "execution_count": 38,
   "metadata": {},
   "outputs": [],
   "source": [
    "for i in range(N):\n",
    "    data_X[i,:,CHAN_CODES['E']] = numpy.array(list(map(float, df['chan_E_samples'][i].split(','))))[:]\n",
    "    data_X[i,:,CHAN_CODES['N']] = numpy.array(list(map(float, df['chan_N_samples'][i].split(','))))[:]\n",
    "    data_X[i,:,CHAN_CODES['Z']] = numpy.array(list(map(float, df['chan_Z_samples'][i].split(','))))[:]    "
   ]
  },
  {
   "cell_type": "code",
   "execution_count": 39,
   "metadata": {},
   "outputs": [
    {
     "data": {
      "text/plain": [
       "(353869, 400, 3)"
      ]
     },
     "execution_count": 39,
     "metadata": {},
     "output_type": "execute_result"
    }
   ],
   "source": [
    "data_X.shape"
   ]
  },
  {
   "cell_type": "code",
   "execution_count": 40,
   "metadata": {},
   "outputs": [
    {
     "name": "stdout",
     "output_type": "stream",
     "text": [
      "(353869,) 0 3\n"
     ]
    }
   ],
   "source": [
    "print(data_Y.shape, data_Y.min(), data_Y.max())"
   ]
  },
  {
   "cell_type": "code",
   "execution_count": 41,
   "metadata": {},
   "outputs": [],
   "source": [
    "import scipy.io\n",
    "scipy.io.savemat('dataset', {'data_X': data_X,\n",
    "                             'data_Y': data_Y}, do_compression=False)"
   ]
  },
  {
   "cell_type": "markdown",
   "metadata": {},
   "source": [
    "#### Load data from a *.mat file"
   ]
  },
  {
   "cell_type": "code",
   "execution_count": 7,
   "metadata": {},
   "outputs": [],
   "source": [
    "import scipy.io\n",
    "d = scipy.io.loadmat('dataset')\n",
    "data_X = d['data_X']\n",
    "data_Y = d['data_Y'].ravel()"
   ]
  },
  {
   "cell_type": "code",
   "execution_count": 8,
   "metadata": {},
   "outputs": [
    {
     "data": {
      "text/plain": [
       "((353869, 400, 3), (353869,))"
      ]
     },
     "execution_count": 8,
     "metadata": {},
     "output_type": "execute_result"
    }
   ],
   "source": [
    "data_X.shape, data_Y.shape"
   ]
  },
  {
   "cell_type": "code",
   "execution_count": 9,
   "metadata": {},
   "outputs": [
    {
     "name": "stdout",
     "output_type": "stream",
     "text": [
      "(353869, 1, 3) (353869, 1, 1)\n"
     ]
    }
   ],
   "source": [
    "means_in_channels = numpy.mean(data_X, axis=1, keepdims=True)\n",
    "max_in_channels = numpy.max(numpy.max(numpy.abs(data_X), axis=1, keepdims=True), axis=2, keepdims=True)\n",
    "print(means_in_channels.shape, max_in_channels.shape)"
   ]
  },
  {
   "cell_type": "code",
   "execution_count": 10,
   "metadata": {},
   "outputs": [],
   "source": [
    "# normalize data\n",
    "data_X_norm = (data_X - means_in_channels)/max_in_channels"
   ]
  },
  {
   "cell_type": "code",
   "execution_count": 11,
   "metadata": {},
   "outputs": [
    {
     "name": "stdout",
     "output_type": "stream",
     "text": [
      "-292416.208532 274045.124071\n",
      "0 3\n"
     ]
    }
   ],
   "source": [
    "rr = (data_X-data_X.mean(axis=0))\n",
    "print(rr.min(), rr.max())\n",
    "print(data_Y.min(), data_Y.max())"
   ]
  },
  {
   "cell_type": "code",
   "execution_count": 12,
   "metadata": {
    "scrolled": true
   },
   "outputs": [
    {
     "data": {
      "image/png": "[encoded data removed]",
      "text/plain": [
       "<Figure size 432x288 with 2 Axes>"
      ]
     },
     "metadata": {
      "needs_background": "light"
     },
     "output_type": "display_data"
    }
   ],
   "source": [
    "index = 15612\n",
    "\n",
    "fig = plt.figure()\n",
    "ax = fig.add_subplot(211)\n",
    "ax.plot(data_X_norm[index,:,0])\n",
    "ax.plot(data_X_norm[index,:,1])\n",
    "ax.plot(data_X_norm[index,:,2])\n",
    "ax.set_title('filtered normalized')\n",
    "\n",
    "ax = fig.add_subplot(212)\n",
    "ax.plot(data_X[index,:,0])\n",
    "ax.plot(data_X[index,:,1])\n",
    "ax.plot(data_X[index,:,2])\n",
    "ax.set_title('filtered original')\n",
    "\n",
    "plt.tight_layout()"
   ]
  },
  {
   "cell_type": "code",
   "execution_count": 13,
   "metadata": {},
   "outputs": [
    {
     "name": "stdout",
     "output_type": "stream",
     "text": [
      "(268103, 400, 3) (1113, 400, 3) (6364, 400, 3) (78289, 400, 3)\n"
     ]
    }
   ],
   "source": [
    "CLASS_CODES = {'N': 0, 'S': 1, 'P': 2, 'T': 3}\n",
    "data_X_N = data_X_norm[data_Y == CLASS_CODES['N'],:,:]\n",
    "data_X_S = data_X_norm[data_Y == CLASS_CODES['S'],:,:]\n",
    "data_X_P = data_X_norm[data_Y == CLASS_CODES['P'],:,:]\n",
    "data_X_T = data_X_norm[data_Y == CLASS_CODES['T'],:,:]\n",
    "print(data_X_N.shape, data_X_S.shape, data_X_P.shape, data_X_T.shape)"
   ]
  },
  {
   "cell_type": "code",
   "execution_count": 14,
   "metadata": {},
   "outputs": [
    {
     "data": {
      "text/plain": [
       "array([0, 0, 0, ..., 3, 1, 0])"
      ]
     },
     "execution_count": 14,
     "metadata": {},
     "output_type": "execute_result"
    }
   ],
   "source": [
    "data_Y"
   ]
  },
  {
   "cell_type": "code",
   "execution_count": 15,
   "metadata": {},
   "outputs": [],
   "source": [
    "# split test/train by count\n",
    "test_num = 100  # we take the first test_num samples for test\n",
    "N_train_tot = data_X_N[test_num:].shape[0]\n",
    "S_train_tot = data_X_S[test_num:].shape[0]\n",
    "P_train_tot = data_X_P[test_num:].shape[0]\n",
    "T_train_tot = data_X_T[test_num:].shape[0]\n",
    "\n",
    "train_X = numpy.vstack((data_X_N[test_num:], \n",
    "                        data_X_S[test_num:],\n",
    "                        data_X_P[test_num:],\n",
    "                        data_X_T[test_num:]))\n",
    "\n",
    "train_Y = numpy.hstack((numpy.ones(N_train_tot)*CLASS_CODES['N'],\n",
    "                        numpy.ones(S_train_tot)*CLASS_CODES['S'],\n",
    "                        numpy.ones(P_train_tot)*CLASS_CODES['P'],\n",
    "                        numpy.ones(T_train_tot)*CLASS_CODES['T']))\n",
    "\n",
    "test_X = numpy.vstack((data_X_N[:test_num], \n",
    "                       data_X_S[:test_num],\n",
    "                       data_X_P[:test_num],\n",
    "                       data_X_T[:test_num]))\n",
    "\n",
    "test_Y = numpy.hstack((numpy.ones(test_num)*CLASS_CODES['N'],\n",
    "                       numpy.ones(test_num)*CLASS_CODES['S'],\n",
    "                       numpy.ones(test_num)*CLASS_CODES['P'],\n",
    "                       numpy.ones(test_num)*CLASS_CODES['T']))\n",
    "\n",
    "train_tot  = train_X.shape[0]"
   ]
  },
  {
   "cell_type": "code",
   "execution_count": null,
   "metadata": {},
   "outputs": [],
   "source": [
    "# split test/train by a ratio\n",
    "\"\"\"\n",
    "test_frac = 0.1  # we take the first test_num samples for test\n",
    "N_test_tot = round(data_X_N.shape[0] * test_frac)\n",
    "S_test_tot = round(data_X_S.shape[0] * test_frac)\n",
    "P_test_tot = round(data_X_P.shape[0] * test_frac)\n",
    "T_test_tot = round(data_X_T.shape[0] * test_frac)\n",
    "\n",
    "train_frac = 1-test_frac  # we take the first test_num samples for test\n",
    "N_train_tot = round(data_X_N.shape[0] * train_frac)\n",
    "S_train_tot = round(data_X_S.shape[0] * train_frac)\n",
    "P_train_tot = round(data_X_P.shape[0] * train_frac)\n",
    "T_train_tot = round(data_X_T.shape[0] * train_frac)\n",
    "\n",
    "# check if we have all cases\n",
    "assert N_train_tot+N_test_tot == data_X_N.shape[0]\n",
    "assert S_train_tot+S_test_tot == data_X_S.shape[0]\n",
    "assert P_train_tot+P_test_tot == data_X_P.shape[0]\n",
    "assert T_train_tot+T_test_tot == data_X_T.shape[0]\n",
    "\n",
    "train_X = numpy.vstack((data_X_N[N_test_tot:], \n",
    "                        data_X_S[S_test_tot:],\n",
    "                        data_X_P[P_test_tot:],\n",
    "                        data_X_T[T_test_tot:]))\n",
    "\n",
    "train_Y = numpy.hstack((numpy.ones(N_train_tot)*CLASS_CODES['N'],\n",
    "                        numpy.ones(S_train_tot)*CLASS_CODES['S'],\n",
    "                        numpy.ones(P_train_tot)*CLASS_CODES['P'],\n",
    "                        numpy.ones(T_train_tot)*CLASS_CODES['T']))\n",
    "\n",
    "test_X = numpy.vstack((data_X_N[:N_test_tot], \n",
    "                       data_X_S[:S_test_tot],\n",
    "                       data_X_P[:P_test_tot],\n",
    "                       data_X_T[:T_test_tot]))\n",
    "\n",
    "test_Y = numpy.hstack((numpy.ones(N_test_tot)*CLASS_CODES['N'],\n",
    "                       numpy.ones(S_test_tot)*CLASS_CODES['S'],\n",
    "                       numpy.ones(P_test_tot)*CLASS_CODES['P'],\n",
    "                       numpy.ones(T_test_tot)*CLASS_CODES['T']))\n",
    "\n",
    "train_tot  = train_X.shape[0]\n",
    "\"\"\""
   ]
  },
  {
   "cell_type": "code",
   "execution_count": null,
   "metadata": {},
   "outputs": [],
   "source": []
  },
  {
   "cell_type": "code",
   "execution_count": 17,
   "metadata": {},
   "outputs": [],
   "source": [
    "# let's shuffle train data - both X and Y in the same way\n",
    "indices = numpy.random.permutation(train_tot)\n",
    "train_X = numpy.take(train_X, indices, axis=0)\n",
    "train_Y = numpy.take(train_Y, indices, axis=0)"
   ]
  },
  {
   "cell_type": "code",
   "execution_count": 18,
   "metadata": {},
   "outputs": [],
   "source": [
    "# one-hot encoding of train_Y/test_Y\n",
    "from tensorflow.keras.utils import to_categorical\n",
    "train_Y_cat = to_categorical(train_Y)\n",
    "test_Y_cat = to_categorical(test_Y)"
   ]
  },
  {
   "cell_type": "code",
   "execution_count": 19,
   "metadata": {},
   "outputs": [
    {
     "name": "stdout",
     "output_type": "stream",
     "text": [
      "(353469, 400, 3) (353469,)\n",
      "(400, 400, 3) (400,)\n"
     ]
    }
   ],
   "source": [
    "# let's review tensor shapes\n",
    "print(train_X.shape, train_Y.shape)\n",
    "print(test_X.shape, test_Y.shape)"
   ]
  },
  {
   "cell_type": "code",
   "execution_count": 20,
   "metadata": {},
   "outputs": [
    {
     "data": {
      "text/plain": [
       "{0: 0.05, 1: 100, 2: 10, 3: 1}"
      ]
     },
     "execution_count": 20,
     "metadata": {},
     "output_type": "execute_result"
    }
   ],
   "source": [
    "WIGHTS_CONST = 1000.\n",
    "\n",
    "class_weight = {CLASS_CODES['N']: 0.05, #1./N_train_tot * WIGHTS_CONST, \n",
    "                CLASS_CODES['S']: 100,#./S_train_tot * WIGHTS_CONST, \n",
    "                CLASS_CODES['P']: 10, #1./P_train_tot * WIGHTS_CONST , \n",
    "                CLASS_CODES['T']: 1} #./T_train_tot * WIGHTS_CONST}\n",
    "\n",
    "#class_weight = {CLASS_CODES['N']: 1./N_train_tot * WIGHTS_CONST, \n",
    "#                CLASS_CODES['S']: 1./S_train_tot * WIGHTS_CONST, \n",
    "#                CLASS_CODES['P']:  1./P_train_tot * WIGHTS_CONST , \n",
    "#                CLASS_CODES['T']:   1./T_train_tot * WIGHTS_CONST}\n",
    "\n",
    "class_weight"
   ]
  },
  {
   "cell_type": "markdown",
   "metadata": {},
   "source": [
    "## Network"
   ]
  },
  {
   "cell_type": "code",
   "execution_count": 21,
   "metadata": {},
   "outputs": [],
   "source": [
    "num_classes = len(CLASS_CODES)"
   ]
  },
  {
   "cell_type": "markdown",
   "metadata": {},
   "source": [
    "#### Let's build the model"
   ]
  },
  {
   "cell_type": "code",
   "execution_count": 38,
   "metadata": {},
   "outputs": [
    {
     "name": "stdout",
     "output_type": "stream",
     "text": [
      "_________________________________________________________________\n",
      "Layer (type)                 Output Shape              Param #   \n",
      "=================================================================\n",
      "conv1d_6 (Conv1D)            (None, 391, 100)          3100      \n",
      "_________________________________________________________________\n",
      "batch_normalization_4 (Batch (None, 391, 100)          400       \n",
      "_________________________________________________________________\n",
      "activation_8 (Activation)    (None, 391, 100)          0         \n",
      "_________________________________________________________________\n",
      "conv1d_7 (Conv1D)            (None, 382, 100)          100100    \n",
      "_________________________________________________________________\n",
      "activation_9 (Activation)    (None, 382, 100)          0         \n",
      "_________________________________________________________________\n",
      "max_pooling1d_3 (MaxPooling1 (None, 127, 100)          0         \n",
      "_________________________________________________________________\n",
      "dropout_1 (Dropout)          (None, 127, 100)          0         \n",
      "_________________________________________________________________\n",
      "conv1d_8 (Conv1D)            (None, 118, 100)          100100    \n",
      "_________________________________________________________________\n",
      "activation_10 (Activation)   (None, 118, 100)          0         \n",
      "_________________________________________________________________\n",
      "max_pooling1d_4 (MaxPooling1 (None, 39, 100)           0         \n",
      "_________________________________________________________________\n",
      "global_average_pooling1d_2 ( (None, 100)               0         \n",
      "_________________________________________________________________\n",
      "flatten_2 (Flatten)          (None, 100)               0         \n",
      "_________________________________________________________________\n",
      "dense_4 (Dense)              (None, 32)                3232      \n",
      "_________________________________________________________________\n",
      "activation_11 (Activation)   (None, 32)                0         \n",
      "_________________________________________________________________\n",
      "dense_5 (Dense)              (None, 4)                 132       \n",
      "=================================================================\n",
      "Total params: 207,064\n",
      "Trainable params: 206,864\n",
      "Non-trainable params: 200\n",
      "_________________________________________________________________\n",
      "None\n"
     ]
    }
   ],
   "source": [
    "model = tensorflow.keras.Sequential()\n",
    "\n",
    "model.add(layers.Conv1D(100, 10, input_shape=(SAMPLES, 3)))\n",
    "model.add(layers.BatchNormalization())\n",
    "model.add(layers.Activation('relu'))\n",
    "model.add(layers.Conv1D(100, 10))\n",
    "#model.add(layers.BatchNormalization())\n",
    "model.add(layers.Activation('relu'))\n",
    "model.add(layers.MaxPooling1D(3))\n",
    "model.add(layers.Dropout(0.35))\n",
    "\n",
    "model.add(layers.Conv1D(100, 10))\n",
    "#model.add(layers.BatchNormalization())\n",
    "model.add(layers.Activation('relu'))\n",
    "model.add(layers.MaxPooling1D(3)) \n",
    "model.add(layers.GlobalAveragePooling1D())\n",
    "#model.add(layers.Dropout(0.35))\n",
    "\n",
    "model.add(layers.Flatten())\n",
    "model.add(layers.Dense(32))\n",
    "#model.add(layers.BatchNormalization())\n",
    "model.add(layers.Activation('relu'))\n",
    "model.add(layers.Dense(num_classes, activation='softmax'))\n",
    "\n",
    "print(model.summary())"
   ]
  },
  {
   "cell_type": "code",
   "execution_count": 39,
   "metadata": {},
   "outputs": [
    {
     "data": {
      "text/plain": [
       "(353469,)"
      ]
     },
     "execution_count": 39,
     "metadata": {},
     "output_type": "execute_result"
    }
   ],
   "source": [
    "train_Y.shape"
   ]
  },
  {
   "cell_type": "code",
   "execution_count": 40,
   "metadata": {},
   "outputs": [],
   "source": [
    "from tensorflow.keras.utils import multi_gpu_model\n",
    "model_gpu = multi_gpu_model(model, gpus=2)\n",
    "\n",
    "model_gpu.compile(loss='categorical_crossentropy',\n",
    "              optimizer='adam', \n",
    "              metrics=['accuracy'])\n",
    "\n",
    "#model.compile(loss='categorical_crossentropy',\n",
    "#              optimizer='adam', \n",
    "#              metrics=['accuracy'])"
   ]
  },
  {
   "cell_type": "code",
   "execution_count": 41,
   "metadata": {},
   "outputs": [],
   "source": [
    "callbacks_list = [\n",
    "    #tensorflow.keras.callbacks.ModelCheckpoint(\n",
    "    #    filepath='best_model.{epoch:02d}-{val_loss:.2f}.h5',\n",
    "    #    monitor='val_loss', save_best_only=True),\n",
    "    #tensorflow.keras.callbacks.EarlyStopping(monitor='acc', patience=2)\n",
    "]"
   ]
  },
  {
   "cell_type": "code",
   "execution_count": 42,
   "metadata": {},
   "outputs": [],
   "source": [
    "tot_hist = []"
   ]
  },
  {
   "cell_type": "code",
   "execution_count": 54,
   "metadata": {
    "scrolled": true
   },
   "outputs": [
    {
     "name": "stdout",
     "output_type": "stream",
     "text": [
      "Train on 353469 samples, validate on 400 samples\n",
      "Epoch 1/50\n",
      "353469/353469 [==============================] - 17s 48us/step - loss: 0.1635 - acc: 0.6682 - val_loss: 0.7215 - val_acc: 0.7700\n",
      "Epoch 2/50\n",
      "353469/353469 [==============================] - 17s 49us/step - loss: 0.1654 - acc: 0.6616 - val_loss: 0.7583 - val_acc: 0.7675\n",
      "Epoch 3/50\n",
      "353469/353469 [==============================] - 17s 49us/step - loss: 0.1690 - acc: 0.6559 - val_loss: 0.8325 - val_acc: 0.7475\n",
      "Epoch 4/50\n",
      "353469/353469 [==============================] - 17s 48us/step - loss: 0.1692 - acc: 0.6625 - val_loss: 0.6544 - val_acc: 0.7825\n",
      "Epoch 5/50\n",
      "353469/353469 [==============================] - 17s 49us/step - loss: 0.1620 - acc: 0.6689 - val_loss: 0.7337 - val_acc: 0.7800\n",
      "Epoch 6/50\n",
      "353469/353469 [==============================] - 17s 49us/step - loss: 0.1606 - acc: 0.6646 - val_loss: 0.8367 - val_acc: 0.7450\n",
      "Epoch 7/50\n",
      "353469/353469 [==============================] - 17s 48us/step - loss: 0.1646 - acc: 0.6681 - val_loss: 0.7088 - val_acc: 0.7750\n",
      "Epoch 8/50\n",
      "353469/353469 [==============================] - 17s 48us/step - loss: 0.1655 - acc: 0.6639 - val_loss: 0.7827 - val_acc: 0.7550\n",
      "Epoch 9/50\n",
      "353469/353469 [==============================] - 17s 49us/step - loss: 0.1600 - acc: 0.6670 - val_loss: 0.7617 - val_acc: 0.7600\n",
      "Epoch 10/50\n",
      "353469/353469 [==============================] - 17s 49us/step - loss: 0.1547 - acc: 0.6754 - val_loss: 0.7202 - val_acc: 0.7725\n",
      "Epoch 11/50\n",
      "353469/353469 [==============================] - 17s 49us/step - loss: 0.1622 - acc: 0.6665 - val_loss: 0.7133 - val_acc: 0.7675\n",
      "Epoch 12/50\n",
      "353469/353469 [==============================] - 17s 49us/step - loss: 0.1696 - acc: 0.6572 - val_loss: 0.6920 - val_acc: 0.7825\n",
      "Epoch 13/50\n",
      "353469/353469 [==============================] - 17s 49us/step - loss: 0.1588 - acc: 0.6696 - val_loss: 0.7235 - val_acc: 0.7650\n",
      "Epoch 14/50\n",
      "353469/353469 [==============================] - 17s 49us/step - loss: 0.1632 - acc: 0.6692 - val_loss: 0.6993 - val_acc: 0.7900\n",
      "Epoch 15/50\n",
      "353469/353469 [==============================] - 17s 49us/step - loss: 0.1570 - acc: 0.6738 - val_loss: 0.6979 - val_acc: 0.7775\n",
      "Epoch 16/50\n",
      "353469/353469 [==============================] - 17s 49us/step - loss: 0.1583 - acc: 0.6711 - val_loss: 0.7631 - val_acc: 0.7800\n",
      "Epoch 17/50\n",
      "353469/353469 [==============================] - 17s 49us/step - loss: 0.1568 - acc: 0.6781 - val_loss: 0.7827 - val_acc: 0.7600\n",
      "Epoch 18/50\n",
      "353469/353469 [==============================] - 17s 49us/step - loss: 0.1556 - acc: 0.6774 - val_loss: 0.8305 - val_acc: 0.7425\n",
      "Epoch 19/50\n",
      "353469/353469 [==============================] - 17s 49us/step - loss: 0.1566 - acc: 0.6701 - val_loss: 0.8196 - val_acc: 0.7500\n",
      "Epoch 20/50\n",
      "353469/353469 [==============================] - 17s 49us/step - loss: 0.1618 - acc: 0.6680 - val_loss: 0.8205 - val_acc: 0.7600\n",
      "Epoch 21/50\n",
      "353469/353469 [==============================] - 17s 49us/step - loss: 0.1572 - acc: 0.6753 - val_loss: 0.8761 - val_acc: 0.7500\n",
      "Epoch 22/50\n",
      "353469/353469 [==============================] - 17s 49us/step - loss: 0.1589 - acc: 0.6784 - val_loss: 0.8067 - val_acc: 0.7600\n",
      "Epoch 23/50\n",
      "353469/353469 [==============================] - 17s 48us/step - loss: 0.1502 - acc: 0.6808 - val_loss: 0.8248 - val_acc: 0.7675\n",
      "Epoch 24/50\n",
      "353469/353469 [==============================] - 17s 49us/step - loss: 0.1561 - acc: 0.6700 - val_loss: 0.7288 - val_acc: 0.7775\n",
      "Epoch 25/50\n",
      "353469/353469 [==============================] - 17s 49us/step - loss: 0.1570 - acc: 0.6693 - val_loss: 0.7568 - val_acc: 0.7700\n",
      "Epoch 26/50\n",
      "353469/353469 [==============================] - 17s 49us/step - loss: 0.1571 - acc: 0.6725 - val_loss: 0.7900 - val_acc: 0.7675\n",
      "Epoch 27/50\n",
      "353469/353469 [==============================] - 17s 49us/step - loss: 0.1572 - acc: 0.6706 - val_loss: 0.7321 - val_acc: 0.7725\n",
      "Epoch 28/50\n",
      "353469/353469 [==============================] - 17s 49us/step - loss: 0.1525 - acc: 0.6824 - val_loss: 0.7998 - val_acc: 0.7725\n",
      "Epoch 29/50\n",
      "353469/353469 [==============================] - 17s 48us/step - loss: 0.1523 - acc: 0.6811 - val_loss: 0.8714 - val_acc: 0.7725\n",
      "Epoch 30/50\n",
      "353469/353469 [==============================] - 17s 49us/step - loss: 0.1572 - acc: 0.6750 - val_loss: 0.8405 - val_acc: 0.7625\n",
      "Epoch 31/50\n",
      "353469/353469 [==============================] - 17s 49us/step - loss: 0.1495 - acc: 0.6851 - val_loss: 0.7516 - val_acc: 0.7675\n",
      "Epoch 32/50\n",
      "353469/353469 [==============================] - 17s 49us/step - loss: 0.1507 - acc: 0.6755 - val_loss: 0.8053 - val_acc: 0.7800\n",
      "Epoch 33/50\n",
      "353469/353469 [==============================] - 17s 49us/step - loss: 0.1515 - acc: 0.6796 - val_loss: 0.7541 - val_acc: 0.7600\n",
      "Epoch 34/50\n",
      "353469/353469 [==============================] - 17s 49us/step - loss: 0.1580 - acc: 0.6744 - val_loss: 0.6684 - val_acc: 0.7800\n",
      "Epoch 35/50\n",
      "353469/353469 [==============================] - 17s 49us/step - loss: 0.1538 - acc: 0.6750 - val_loss: 0.8160 - val_acc: 0.7625\n",
      "Epoch 36/50\n",
      "353469/353469 [==============================] - 17s 49us/step - loss: 0.1535 - acc: 0.6767 - val_loss: 0.7877 - val_acc: 0.7625\n",
      "Epoch 37/50\n",
      "353469/353469 [==============================] - 17s 49us/step - loss: 0.1531 - acc: 0.6740 - val_loss: 0.7696 - val_acc: 0.7875\n",
      "Epoch 38/50\n",
      "353469/353469 [==============================] - 17s 49us/step - loss: 0.1515 - acc: 0.6879 - val_loss: 0.8535 - val_acc: 0.7575\n",
      "Epoch 39/50\n",
      "353469/353469 [==============================] - 17s 49us/step - loss: 0.1539 - acc: 0.6734 - val_loss: 0.7638 - val_acc: 0.7525\n",
      "Epoch 40/50\n",
      "353469/353469 [==============================] - 17s 49us/step - loss: 0.1547 - acc: 0.6699 - val_loss: 0.7645 - val_acc: 0.7700\n",
      "Epoch 41/50\n",
      "353469/353469 [==============================] - 17s 48us/step - loss: 0.1499 - acc: 0.6813 - val_loss: 0.9249 - val_acc: 0.7375\n",
      "Epoch 42/50\n",
      "353469/353469 [==============================] - 17s 49us/step - loss: 0.1573 - acc: 0.6711 - val_loss: 0.7592 - val_acc: 0.7600\n",
      "Epoch 43/50\n",
      "353469/353469 [==============================] - 17s 49us/step - loss: 0.1506 - acc: 0.6820 - val_loss: 0.8176 - val_acc: 0.7600\n",
      "Epoch 44/50\n",
      "353469/353469 [==============================] - 17s 49us/step - loss: 0.1528 - acc: 0.6739 - val_loss: 0.7721 - val_acc: 0.7925\n",
      "Epoch 45/50\n",
      "353469/353469 [==============================] - 17s 49us/step - loss: 0.1555 - acc: 0.6681 - val_loss: 0.8038 - val_acc: 0.7625\n",
      "Epoch 46/50\n",
      "353469/353469 [==============================] - 17s 49us/step - loss: 0.1538 - acc: 0.6732 - val_loss: 0.7191 - val_acc: 0.7725\n",
      "Epoch 47/50\n",
      "353469/353469 [==============================] - 17s 49us/step - loss: 0.1531 - acc: 0.6792 - val_loss: 0.8178 - val_acc: 0.7525\n",
      "Epoch 48/50\n",
      "353469/353469 [==============================] - 17s 48us/step - loss: 0.1542 - acc: 0.6715 - val_loss: 0.8491 - val_acc: 0.7525\n",
      "Epoch 49/50\n",
      "353469/353469 [==============================] - 17s 48us/step - loss: 0.1460 - acc: 0.6860 - val_loss: 0.7864 - val_acc: 0.7500\n",
      "Epoch 50/50\n",
      "353469/353469 [==============================] - 17s 49us/step - loss: 0.1469 - acc: 0.6859 - val_loss: 0.8771 - val_acc: 0.7625\n"
     ]
    }
   ],
   "source": [
    "history = model_gpu.fit(train_X,\n",
    "                        train_Y_cat,\n",
    "                        batch_size=512,\n",
    "                        epochs=50,\n",
    "                        #callbacks=callbacks_list,\n",
    "                        #validation_split=0.1,\n",
    "                        verbose=1,\n",
    "                        class_weight=class_weight,                    \n",
    "                        validation_data = (test_X, test_Y_cat)\n",
    "                       )\n",
    "\n",
    "tot_hist.append(history)"
   ]
  },
  {
   "cell_type": "code",
   "execution_count": 55,
   "metadata": {},
   "outputs": [
    {
     "name": "stdout",
     "output_type": "stream",
     "text": [
      "400/400 [==============================] - 0s 115us/step\n"
     ]
    },
    {
     "data": {
      "text/plain": [
       "[0.87714860796928407, 0.76249999999999996]"
      ]
     },
     "execution_count": 55,
     "metadata": {},
     "output_type": "execute_result"
    }
   ],
   "source": [
    "model_gpu.evaluate(test_X, test_Y_cat)"
   ]
  },
  {
   "cell_type": "code",
   "execution_count": 56,
   "metadata": {},
   "outputs": [
    {
     "name": "stdout",
     "output_type": "stream",
     "text": [
      "Test:\n",
      "[[78 22  4  3]\n",
      " [ 1 62  0  1]\n",
      " [ 4  2 75  6]\n",
      " [17 14 21 90]]\n",
      "Train:\n",
      "[[187948      0      5   2453]\n",
      " [ 13078   1013      0    737]\n",
      " [ 12334      0   6195   6457]\n",
      " [ 54643      0     64  68542]]\n"
     ]
    }
   ],
   "source": [
    "print('Test:')\n",
    "pred_test_Y = model_gpu.predict(test_X)\n",
    "pred_test_Y = numpy.argmax(pred_test_Y, axis=1)# where(pred_Y < 0.5, 0, 1)\n",
    "print(confusion_matrix(pred_test_Y, test_Y))\n",
    "\n",
    "print('Train:')\n",
    "pred_train_Y = model.predict(train_X)\n",
    "pred_train_Y = numpy.argmax(pred_train_Y, axis=1)# where(pred_Y < 0.5, 0, 1)\n",
    "print(confusion_matrix(pred_train_Y, train_Y))"
   ]
  },
  {
   "cell_type": "code",
   "execution_count": 57,
   "metadata": {},
   "outputs": [
    {
     "data": {
      "text/plain": [
       "<matplotlib.legend.Legend at 0x7f440b623ac8>"
      ]
     },
     "execution_count": 57,
     "metadata": {},
     "output_type": "execute_result"
    },
    {
     "data": {
      "image/png": "[encoded data removed]",
      "text/plain": [
       "<Figure size 720x720 with 2 Axes>"
      ]
     },
     "metadata": {
      "needs_background": "light"
     },
     "output_type": "display_data"
    }
   ],
   "source": [
    "acc = []\n",
    "loss = []\n",
    "val_acc = []\n",
    "val_loss = []\n",
    "models = []\n",
    "\n",
    "plot_to = -1\n",
    "\n",
    "for h in tot_hist:\n",
    "    acc += h.history['acc']\n",
    "    loss += h.history['loss']\n",
    "    val_acc += h.history['val_acc']\n",
    "    val_loss += h.history['val_loss']\n",
    "    models.append(h.model)\n",
    "    \n",
    "fig = plt.figure(figsize=(10,10))\n",
    "ax = fig.add_subplot(211)\n",
    "ax.plot(acc[:plot_to], label='acc')\n",
    "ax.plot(val_acc[:plot_to], label='val_acc')\n",
    "plt.legend()\n",
    "\n",
    "ax = fig.add_subplot(212)\n",
    "ax.plot(loss[:plot_to], label='loss')\n",
    "ax.plot(val_loss[:plot_to], label='val_loss')\n",
    "\n",
    "plt.legend()\n"
   ]
  },
  {
   "cell_type": "code",
   "execution_count": 48,
   "metadata": {},
   "outputs": [
    {
     "data": {
      "text/plain": [
       "<tensorflow.python.keras.engine.training.Model at 0x7f44164ddc88>"
      ]
     },
     "execution_count": 48,
     "metadata": {},
     "output_type": "execute_result"
    }
   ],
   "source": [
    "history.model"
   ]
  },
  {
   "cell_type": "code",
   "execution_count": 50,
   "metadata": {},
   "outputs": [
    {
     "name": "stdout",
     "output_type": "stream",
     "text": [
      "400/400 [==============================] - 0s 106us/step\n"
     ]
    },
    {
     "data": {
      "text/plain": [
       "[0.72432595491409302, 0.77000000000000002]"
      ]
     },
     "execution_count": 50,
     "metadata": {},
     "output_type": "execute_result"
    }
   ],
   "source": [
    "model_gpu.evaluate(test_X, test_Y_cat)"
   ]
  },
  {
   "cell_type": "code",
   "execution_count": null,
   "metadata": {},
   "outputs": [],
   "source": []
  },
  {
   "cell_type": "code",
   "execution_count": 51,
   "metadata": {},
   "outputs": [
    {
     "data": {
      "text/plain": [
       "(400,)"
      ]
     },
     "execution_count": 51,
     "metadata": {},
     "output_type": "execute_result"
    }
   ],
   "source": [
    "test_Y.shape"
   ]
  },
  {
   "cell_type": "code",
   "execution_count": 52,
   "metadata": {},
   "outputs": [],
   "source": [
    "import copy\n",
    "history_1000 = copy.copy(history)"
   ]
  },
  {
   "cell_type": "code",
   "execution_count": 53,
   "metadata": {},
   "outputs": [
    {
     "data": {
      "text/plain": [
       "False"
      ]
     },
     "execution_count": 53,
     "metadata": {},
     "output_type": "execute_result"
    }
   ],
   "source": [
    "history_1000 is history"
   ]
  },
  {
   "cell_type": "code",
   "execution_count": null,
   "metadata": {},
   "outputs": [],
   "source": []
  }
 ],
 "metadata": {
  "kernelspec": {
   "display_name": "Python 3",
   "language": "python",
   "name": "python3"
  },
  "language_info": {
   "codemirror_mode": {
    "name": "ipython",
    "version": 3
   },
   "file_extension": ".py",
   "mimetype": "text/x-python",
   "name": "python",
   "nbconvert_exporter": "python",
   "pygments_lexer": "ipython3",
   "version": "3.5.2"
  }
 },
 "nbformat": 4,
 "nbformat_minor": 2
}
