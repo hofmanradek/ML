{
 "cells": [
  {
   "cell_type": "code",
   "execution_count": 1,
   "metadata": {},
   "outputs": [
    {
     "name": "stderr",
     "output_type": "stream",
     "text": [
      "/dvlscratch/SHI/users/hofman/ML/venv3.6/lib/python3.6/site-packages/h5py/__init__.py:36: FutureWarning: Conversion of the second argument of issubdtype from `float` to `np.floating` is deprecated. In future, it will be treated as `np.float64 == np.dtype(float).type`.\n",
      "  from ._conv import register_converters as _register_converters\n",
      "Using Theano backend.\n"
     ]
    }
   ],
   "source": [
    "import os\n",
    "import numpy\n",
    "import scipy.io\n",
    "import pandas as pd\n",
    "import matplotlib.pyplot as plt\n",
    "import keras"
   ]
  },
  {
   "cell_type": "code",
   "execution_count": 2,
   "metadata": {},
   "outputs": [],
   "source": [
    "STA = 'STKA'"
   ]
  },
  {
   "cell_type": "code",
   "execution_count": 3,
   "metadata": {},
   "outputs": [],
   "source": [
    "#load data from oracle do pandas\n",
    "#connect to udb\n",
    "with open(os.path.join('/','home','hofman','.dbp.txt'), 'r') as f: password_old = f.read().strip()\n",
    "import cx_Oracle\n",
    "connection = cx_Oracle.connect('hofman', password_old, 'udb')"
   ]
  },
  {
   "cell_type": "code",
   "execution_count": 4,
   "metadata": {},
   "outputs": [],
   "source": [
    "from datetime import datetime as dt\n",
    "ts_2017 = dt(2017,1,1,0,0,0).timestamp()\n",
    "ts_2018 = dt(2018,1,1,0,0,0).timestamp()\n",
    "ts_2019 = dt(2019,1,1,0,0,0).timestamp()"
   ]
  },
  {
   "cell_type": "code",
   "execution_count": 27,
   "metadata": {
    "scrolled": true
   },
   "outputs": [],
   "source": [
    "query = f\"select * from EVAL_QANDEF_STKA\"   ## where sta='{STA}'\"\n",
    "df_all_ = pd.read_sql(query, con=connection)"
   ]
  },
  {
   "cell_type": "code",
   "execution_count": 28,
   "metadata": {},
   "outputs": [
    {
     "data": {
      "text/plain": [
       "(153816, 12)"
      ]
     },
     "execution_count": 28,
     "metadata": {},
     "output_type": "execute_result"
    }
   ],
   "source": [
    "df_all_.shape"
   ]
  },
  {
   "cell_type": "code",
   "execution_count": 29,
   "metadata": {},
   "outputs": [],
   "source": [
    "ind = [{False: True, True:False}[x] for x in numpy.isnan(df_all_['NCLS_PHASE_ODB'])]"
   ]
  },
  {
   "cell_type": "code",
   "execution_count": 30,
   "metadata": {},
   "outputs": [],
   "source": [
    "df_all = df_all_[ind]"
   ]
  },
  {
   "cell_type": "code",
   "execution_count": 31,
   "metadata": {
    "scrolled": true
   },
   "outputs": [
    {
     "data": {
      "text/html": [
       "<div>\n",
       "<style scoped>\n",
       "    .dataframe tbody tr th:only-of-type {\n",
       "        vertical-align: middle;\n",
       "    }\n",
       "\n",
       "    .dataframe tbody tr th {\n",
       "        vertical-align: top;\n",
       "    }\n",
       "\n",
       "    .dataframe thead th {\n",
       "        text-align: right;\n",
       "    }\n",
       "</style>\n",
       "<table border=\"1\" class=\"dataframe\">\n",
       "  <thead>\n",
       "    <tr style=\"text-align: right;\">\n",
       "      <th></th>\n",
       "      <th>ARID_ODB</th>\n",
       "      <th>TIME_ODB</th>\n",
       "      <th>AZI_ODB</th>\n",
       "      <th>IPHASE_QANDEF</th>\n",
       "      <th>IPHASE_ODB</th>\n",
       "      <th>ASSOC_PHASE</th>\n",
       "      <th>CLASS_IPHASE_QANDEF</th>\n",
       "      <th>CLASS_IPHASE_ODB</th>\n",
       "      <th>CLASS_PHASE_ODB</th>\n",
       "      <th>NCLS_IPHASE_QANDEF</th>\n",
       "      <th>NCLS_IPHASE_ODB</th>\n",
       "      <th>NCLS_PHASE_ODB</th>\n",
       "    </tr>\n",
       "  </thead>\n",
       "  <tbody>\n",
       "    <tr>\n",
       "      <th>0</th>\n",
       "      <td>128815337</td>\n",
       "      <td>1.514765e+09</td>\n",
       "      <td>134.064260</td>\n",
       "      <td>N</td>\n",
       "      <td>N</td>\n",
       "      <td>S</td>\n",
       "      <td>N</td>\n",
       "      <td>N</td>\n",
       "      <td>T</td>\n",
       "      <td>0</td>\n",
       "      <td>0</td>\n",
       "      <td>1</td>\n",
       "    </tr>\n",
       "    <tr>\n",
       "      <th>1</th>\n",
       "      <td>128815338</td>\n",
       "      <td>1.514765e+09</td>\n",
       "      <td>108.852400</td>\n",
       "      <td>N</td>\n",
       "      <td>P</td>\n",
       "      <td>None</td>\n",
       "      <td>N</td>\n",
       "      <td>T</td>\n",
       "      <td>N</td>\n",
       "      <td>0</td>\n",
       "      <td>1</td>\n",
       "      <td>0</td>\n",
       "    </tr>\n",
       "    <tr>\n",
       "      <th>2</th>\n",
       "      <td>128815542</td>\n",
       "      <td>1.514766e+09</td>\n",
       "      <td>320.088700</td>\n",
       "      <td>N</td>\n",
       "      <td>Sx</td>\n",
       "      <td>None</td>\n",
       "      <td>N</td>\n",
       "      <td>regS</td>\n",
       "      <td>N</td>\n",
       "      <td>0</td>\n",
       "      <td>3</td>\n",
       "      <td>0</td>\n",
       "    </tr>\n",
       "    <tr>\n",
       "      <th>3</th>\n",
       "      <td>128815688</td>\n",
       "      <td>1.514766e+09</td>\n",
       "      <td>343.943600</td>\n",
       "      <td>P</td>\n",
       "      <td>N</td>\n",
       "      <td>P</td>\n",
       "      <td>T</td>\n",
       "      <td>N</td>\n",
       "      <td>T</td>\n",
       "      <td>1</td>\n",
       "      <td>0</td>\n",
       "      <td>1</td>\n",
       "    </tr>\n",
       "    <tr>\n",
       "      <th>4</th>\n",
       "      <td>128815962</td>\n",
       "      <td>1.514768e+09</td>\n",
       "      <td>16.134881</td>\n",
       "      <td>tx</td>\n",
       "      <td>tx</td>\n",
       "      <td>None</td>\n",
       "      <td>T</td>\n",
       "      <td>T</td>\n",
       "      <td>N</td>\n",
       "      <td>1</td>\n",
       "      <td>1</td>\n",
       "      <td>0</td>\n",
       "    </tr>\n",
       "  </tbody>\n",
       "</table>\n",
       "</div>"
      ],
      "text/plain": [
       "    ARID_ODB      TIME_ODB     AZI_ODB IPHASE_QANDEF IPHASE_ODB ASSOC_PHASE  \\\n",
       "0  128815337  1.514765e+09  134.064260             N          N           S   \n",
       "1  128815338  1.514765e+09  108.852400             N          P        None   \n",
       "2  128815542  1.514766e+09  320.088700             N         Sx        None   \n",
       "3  128815688  1.514766e+09  343.943600             P          N           P   \n",
       "4  128815962  1.514768e+09   16.134881            tx         tx        None   \n",
       "\n",
       "  CLASS_IPHASE_QANDEF CLASS_IPHASE_ODB CLASS_PHASE_ODB  NCLS_IPHASE_QANDEF  \\\n",
       "0                   N                N               T                   0   \n",
       "1                   N                T               N                   0   \n",
       "2                   N             regS               N                   0   \n",
       "3                   T                N               T                   1   \n",
       "4                   T                T               N                   1   \n",
       "\n",
       "   NCLS_IPHASE_ODB  NCLS_PHASE_ODB  \n",
       "0                0               1  \n",
       "1                1               0  \n",
       "2                3               0  \n",
       "3                0               1  \n",
       "4                1               0  "
      ]
     },
     "execution_count": 31,
     "metadata": {},
     "output_type": "execute_result"
    }
   ],
   "source": [
    "df_all.head()"
   ]
  },
  {
   "cell_type": "code",
   "execution_count": 32,
   "metadata": {},
   "outputs": [],
   "source": [
    "import warnings\n",
    "\n",
    "with warnings.catch_warnings():\n",
    "    warnings.simplefilter(\"ignore\")\n",
    "    NCLS_IPHASE_QANDEF = df_all['NCLS_IPHASE_QANDEF'].as_matrix()\n",
    "    NCLS_IPHASE_ODB = df_all['NCLS_IPHASE_ODB'].as_matrix()\n",
    "    NCLS_PHASE_ODB = numpy.array(df_all['NCLS_PHASE_ODB'].as_matrix(), dtype=numpy.int)"
   ]
  },
  {
   "cell_type": "code",
   "execution_count": 33,
   "metadata": {},
   "outputs": [
    {
     "data": {
      "text/plain": [
       "(0, 3)"
      ]
     },
     "execution_count": 33,
     "metadata": {},
     "output_type": "execute_result"
    }
   ],
   "source": [
    "NCLS_PHASE_ODB.min(), NCLS_PHASE_ODB.max()"
   ]
  },
  {
   "cell_type": "code",
   "execution_count": 34,
   "metadata": {
    "scrolled": true
   },
   "outputs": [
    {
     "data": {
      "text/html": [
       "<div>\n",
       "<style scoped>\n",
       "    .dataframe tbody tr th:only-of-type {\n",
       "        vertical-align: middle;\n",
       "    }\n",
       "\n",
       "    .dataframe tbody tr th {\n",
       "        vertical-align: top;\n",
       "    }\n",
       "\n",
       "    .dataframe thead th {\n",
       "        text-align: right;\n",
       "    }\n",
       "</style>\n",
       "<table border=\"1\" class=\"dataframe\">\n",
       "  <thead>\n",
       "    <tr style=\"text-align: right;\">\n",
       "      <th></th>\n",
       "      <th>ARID_ODB</th>\n",
       "      <th>TIME_ODB</th>\n",
       "      <th>AZI_ODB</th>\n",
       "      <th>IPHASE_QANDEF</th>\n",
       "      <th>IPHASE_ODB</th>\n",
       "      <th>ASSOC_PHASE</th>\n",
       "      <th>CLASS_IPHASE_QANDEF</th>\n",
       "      <th>CLASS_IPHASE_ODB</th>\n",
       "      <th>CLASS_PHASE_ODB</th>\n",
       "      <th>NCLS_IPHASE_QANDEF</th>\n",
       "      <th>NCLS_IPHASE_ODB</th>\n",
       "      <th>NCLS_PHASE_ODB</th>\n",
       "    </tr>\n",
       "  </thead>\n",
       "  <tbody>\n",
       "  </tbody>\n",
       "</table>\n",
       "</div>"
      ],
      "text/plain": [
       "Empty DataFrame\n",
       "Columns: [ARID_ODB, TIME_ODB, AZI_ODB, IPHASE_QANDEF, IPHASE_ODB, ASSOC_PHASE, CLASS_IPHASE_QANDEF, CLASS_IPHASE_ODB, CLASS_PHASE_ODB, NCLS_IPHASE_QANDEF, NCLS_IPHASE_ODB, NCLS_PHASE_ODB]\n",
       "Index: []"
      ]
     },
     "execution_count": 34,
     "metadata": {},
     "output_type": "execute_result"
    }
   ],
   "source": [
    "df_all[numpy.isnan(df_all['NCLS_PHASE_ODB'])]\n"
   ]
  },
  {
   "cell_type": "code",
   "execution_count": 35,
   "metadata": {},
   "outputs": [],
   "source": [
    "from sklearn.metrics import confusion_matrix"
   ]
  },
  {
   "cell_type": "code",
   "execution_count": 46,
   "metadata": {},
   "outputs": [],
   "source": [
    "def confmat(x,y):\n",
    "    C = confusion_matrix(x,y)\n",
    "    diagsum = numpy.diag(C).sum()\n",
    "    accuracy = diagsum/C.sum()\n",
    "    print(C)\n",
    "    print(C.sum(axis=0), C.sum()) \n",
    "    AACC = (numpy.diag(C)[1:].sum())/(C[:,1:].sum())*100\n",
    "    ACC = (accuracy*100)\n",
    "    N = (C[0,1:].sum()/C[:,1:].sum()*100)\n",
    "    print('Overal accuracy: %3.1f%%' % ACC)\n",
    "    print('Assoc accuracy: %3.1f%%' % AACC)\n",
    "    print('N phase rate: %3.1f%%' % N)\n",
    "    return ACC, AACC, N"
   ]
  },
  {
   "cell_type": "code",
   "execution_count": 47,
   "metadata": {},
   "outputs": [
    {
     "name": "stdout",
     "output_type": "stream",
     "text": [
      "OLD:\n",
      "[[86809   675     3    19]\n",
      " [39520  6304     5     3]\n",
      " [11789  1311    44    17]\n",
      " [ 7256    29     0    32]]\n",
      "[145374   8319     52     71] 153816\n",
      "Overal accuracy: 60.6%\n",
      "Assoc accuracy: 75.6%\n",
      "N phase rate: 8.3%\n",
      "NEW\n",
      "[[93523   275     3    45]\n",
      " [39775  6806     7     9]\n",
      " [ 9841  1209    42    10]\n",
      " [ 2235    29     0     7]]\n",
      "[145374   8319     52     71] 153816\n",
      "Overal accuracy: 65.3%\n",
      "Assoc accuracy: 81.2%\n",
      "N phase rate: 3.8%\n",
      "Difference:\n",
      "4.7%  5.6%  -4.4%\n"
     ]
    }
   ],
   "source": [
    "#confusion_matrix(y_true, y_pred)\n",
    "print('OLD:')\n",
    "ACC1, AACC1, N1 = confmat(NCLS_IPHASE_ODB, NCLS_PHASE_ODB)\n",
    "\n",
    "print('NEW')\n",
    "ACC2, AACC2, N2 = confmat(NCLS_IPHASE_QANDEF, NCLS_PHASE_ODB)\n",
    "\n",
    "print('Difference:')\n",
    "print(\"%3.1f%%\" % (ACC2-ACC1), \" %3.1f%%\" % (AACC2-AACC1), \" %3.1f%%\" % (N2-N1))"
   ]
  },
  {
   "cell_type": "code",
   "execution_count": 23,
   "metadata": {},
   "outputs": [
    {
     "name": "stdout",
     "output_type": "stream",
     "text": [
      "145374\n",
      "145414\n"
     ]
    }
   ],
   "source": [
    "45+9+10+7\n",
    "19+3+17+32\n",
    "print(86809+39520+11789+7256)\n",
    "print(92719+39754+10057+2884)\n"
   ]
  },
  {
   "cell_type": "markdown",
   "metadata": {},
   "source": [
    "partial results, retreined just n-tps:\n",
    "\n",
    "OLD:\n",
    "[[86809   675     3    19]\n",
    " [39520  6304     5     3]\n",
    " [11789  1311    44    17]\n",
    " [ 7256    29     0    32]]\n",
    "[145374   8319     52     71] 153816\n",
    "Assoc accuracy: 75.57%\n",
    "Overal accuracy: 60.58%\n",
    "N phase rate: 8.26%\n",
    "NEW\n",
    "[[92719   306     3    41]\n",
    " [39754  6757     7     8]\n",
    " [10057  1226    42    11]\n",
    " [ 2844    30     0    11]]\n",
    "[145374   8319     52     71] 153816\n",
    "Assoc accuracy: 80.67%\n",
    "Overal accuracy: 64.71%\n",
    "N phase rate: 4.15%\n",
    "\n",
    "=================================================\n",
    "\n",
    "OLD:\n",
    "[[86809   675     3    19]\n",
    " [39520  6304     5     3]\n",
    " [11789  1311    44    17]\n",
    " [ 7256    29     0    32]]\n",
    "Assoc accuracy: 75.57%\n",
    "Overal accuracy: 60.58%\n",
    "N phase rate: 8.26%\n",
    "NEW\n",
    "[[92719   306     3    41]\n",
    " [39754  6757     7     8]\n",
    " [10057  1226    42    11]\n",
    " [ 2844    30     0    11]]\n",
    "Assoc accuracy: 80.67%\n",
    "Overal accuracy: 64.71%\n",
    "N phase rate: 4.15%\n"
   ]
  },
  {
   "cell_type": "code",
   "execution_count": 27,
   "metadata": {
    "scrolled": true
   },
   "outputs": [
    {
     "name": "stdout",
     "output_type": "stream",
     "text": [
      "OLD:\n",
      "[[86809   675     3    19]\n",
      " [39520  6304     5     3]\n",
      " [11789  1311    44    17]\n",
      " [ 7256    29     0    32]]\n",
      "Assoc accuracy: 75.57%\n",
      "Overal accuracy: 60.58%\n",
      "N phase rate: 8.26%\n",
      "NEW\n",
      "[[93523   275     3    45]\n",
      " [21446  5978     3     3]\n",
      " [ 4883  1309    26     4]\n",
      " [25522   757    20    19]]\n",
      "Assoc accuracy: 71.35%\n",
      "Overal accuracy: 64.72%\n",
      "N phase rate: 3.83%\n"
     ]
    }
   ],
   "source": []
  },
  {
   "cell_type": "markdown",
   "metadata": {},
   "source": [
    "model_NTPS = load_model('h5/%s_NTPS20.h5' % STA)\n",
    "model_STP = load_model('h5/%s_TPS3.h5' % STA)\n",
    "model_PT = load_model('h5/%s_TP3.h5' % STA)\n",
    "OLD:\n",
    "[[86809   675     3    19]\n",
    " [39520  6304     5     3]\n",
    " [11789  1311    44    17]\n",
    " [ 7256    29     0    32]]\n",
    "Assoc accuracy: 75.57%\n",
    "Overal accuracy: 60.58%\n",
    "N phase rate: 8.26%\n",
    "NEW\n",
    "[[89283   657     1    10]\n",
    " [12462  5578     4     0]\n",
    " [10129  1726    41    10]\n",
    " [33500   358     6    51]]\n",
    "Assoc accuracy: 67.16%\n",
    "Overal accuracy: 61.73%\n",
    "N phase rate: 7.91%\n"
   ]
  },
  {
   "cell_type": "markdown",
   "metadata": {},
   "source": [
    "OLD:\n",
    "[[86809   675     3    19]\n",
    " [39520  6304     5     3]\n",
    " [11789  1311    44    17]\n",
    " [ 7256    29     0    32]]\n",
    "Assoc accuracy: 75.57%\n",
    "Overal accuracy: 60.58%\n",
    "N phase rate: 8.26%\n",
    "NEW\n",
    "[[89662   701     1     8]\n",
    " [11293  5535     5     1]\n",
    " [ 9170  1724    40    10]\n",
    " [35249   359     6    52]]\n",
    "Assoc accuracy: 66.65%\n",
    "Overal accuracy: 61.95%\n",
    "N phase rate: 8.41%\n"
   ]
  },
  {
   "cell_type": "markdown",
   "metadata": {},
   "source": [
    "OLD:\n",
    "[[86809   675     3    19]\n",
    " [39520  6304     5     3]\n",
    " [11789  1311    44    17]\n",
    " [ 7256    29     0    32]]\n",
    "Assoc accuracy: 75.57%\n",
    "Overal accuracy: 60.58%\n",
    "N phase rate: 8.26%\n",
    "NEW\n",
    "[[93523   275     3    45]\n",
    " [21446  5978     3     3]\n",
    " [ 4883  1309    26     4]\n",
    " [25522   757    20    19]]\n",
    "Assoc accuracy: 71.35%\n",
    "Overal accuracy: 64.72%\n",
    "N phase rate: 3.83%\n"
   ]
  },
  {
   "cell_type": "code",
   "execution_count": 35,
   "metadata": {},
   "outputs": [],
   "source": [
    "a = {x+1:('a','b','c')[x] for x in range(3)}"
   ]
  },
  {
   "cell_type": "code",
   "execution_count": 36,
   "metadata": {},
   "outputs": [
    {
     "data": {
      "text/plain": [
       "{1: 'a', 2: 'b', 3: 'c'}"
      ]
     },
     "execution_count": 36,
     "metadata": {},
     "output_type": "execute_result"
    }
   ],
   "source": [
    "a\n"
   ]
  },
  {
   "cell_type": "code",
   "execution_count": null,
   "metadata": {},
   "outputs": [],
   "source": []
  }
 ],
 "metadata": {
  "kernelspec": {
   "display_name": "Python 3",
   "language": "python",
   "name": "python3"
  },
  "language_info": {
   "codemirror_mode": {
    "name": "ipython",
    "version": 3
   },
   "file_extension": ".py",
   "mimetype": "text/x-python",
   "name": "python",
   "nbconvert_exporter": "python",
   "pygments_lexer": "ipython3",
   "version": "3.6.5"
  }
 },
 "nbformat": 4,
 "nbformat_minor": 2
}
