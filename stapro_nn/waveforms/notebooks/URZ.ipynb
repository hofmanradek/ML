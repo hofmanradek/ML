{
 "cells": [
  {
   "cell_type": "markdown",
   "metadata": {},
   "source": [
    "# NN cascade for URZ\n",
    "\n",
    "* Radek Hofman, Jan 2018"
   ]
  },
  {
   "cell_type": "markdown",
   "metadata": {},
   "source": [
    "### Imports and axiliary functions and stuff"
   ]
  },
  {
   "cell_type": "code",
   "execution_count": 1,
   "metadata": {},
   "outputs": [],
   "source": [
    "%load_ext sql\n",
    "%matplotlib inline"
   ]
  },
  {
   "cell_type": "code",
   "execution_count": 2,
   "metadata": {},
   "outputs": [],
   "source": [
    "import os\n",
    "import numpy\n",
    "import scipy.io\n",
    "import pandas as pd\n",
    "import matplotlib.pyplot as plt"
   ]
  },
  {
   "cell_type": "code",
   "execution_count": 3,
   "metadata": {},
   "outputs": [],
   "source": [
    "with open(os.path.join('/','home','hofman','.dbp.txt'), 'r') as f: password = f.read().strip()"
   ]
  },
  {
   "cell_type": "code",
   "execution_count": 4,
   "metadata": {},
   "outputs": [
    {
     "data": {
      "text/plain": [
       "'Connected: hofman@udb'"
      ]
     },
     "execution_count": 4,
     "metadata": {},
     "output_type": "execute_result"
    }
   ],
   "source": [
    "query = \"oracle://hofman:%s@mycelium.ctbto.org:1521/udb\" % password\n",
    "%sql $query"
   ]
  },
  {
   "cell_type": "code",
   "execution_count": 312,
   "metadata": {},
   "outputs": [
    {
     "name": "stdout",
     "output_type": "stream",
     "text": [
      "0 rows affected.\n"
     ]
    },
    {
     "data": {
      "text/html": [
       "<table>\n",
       "    <tr>\n",
       "        <th>COUNT(*)</th>\n",
       "    </tr>\n",
       "    <tr>\n",
       "        <td>369846</td>\n",
       "    </tr>\n",
       "</table>"
      ],
      "text/plain": [
       "[(369846,)]"
      ]
     },
     "execution_count": 312,
     "metadata": {},
     "output_type": "execute_result"
    }
   ],
   "source": [
    "% sql select count(*) from ml_features where sta='URZ'"
   ]
  },
  {
   "cell_type": "code",
   "execution_count": 6,
   "metadata": {},
   "outputs": [],
   "source": [
    "def plot(history):\n",
    "    fig = plt.figure()\n",
    "    ax = fig.add_subplot(211)\n",
    "    ax.plot(history['acc'], label='acc')\n",
    "    ax.plot(history['val_acc'], label='val_acc')\n",
    "    ax.set_ylabel('accuracy')\n",
    "    plt.legend(loc='best')\n",
    "    ax = fig.add_subplot(212)\n",
    "    ax.plot(history['loss'], label='loss')\n",
    "    ax.plot(history['val_loss'], label='val_loss')\n",
    "    plt.legend(loc='best')\n",
    "    ax.set_xlabel('epoch')\n",
    "    ax.set_ylabel('loss')"
   ]
  },
  {
   "cell_type": "code",
   "execution_count": 7,
   "metadata": {},
   "outputs": [],
   "source": [
    "#load data from oracle do pandas\n",
    "import cx_Oracle\n",
    "connection = cx_Oracle.connect('hofman', password, 'udb')"
   ]
  },
  {
   "cell_type": "markdown",
   "metadata": {},
   "source": [
    "### What is the misclassification rate now for all arrivals in our DB?\n",
    "\n",
    "* #(class_iphase != class_phase) / (#automatic which are not noise) "
   ]
  },
  {
   "cell_type": "code",
   "execution_count": 308,
   "metadata": {},
   "outputs": [
    {
     "name": "stdout",
     "output_type": "stream",
     "text": [
      "0 rows affected.\n",
      "0 rows affected.\n"
     ]
    }
   ],
   "source": [
    "#select from database required numbers\n",
    "wrong_type = %sql select count(*) from ml_features where sta='URZ' and class_phase != class_iphase\n",
    "total_number = %sql select count(*) from ml_features where sta='URZ' and phase!='N' and source!='M'"
   ]
  },
  {
   "cell_type": "code",
   "execution_count": 309,
   "metadata": {},
   "outputs": [
    {
     "name": "stdout",
     "output_type": "stream",
     "text": [
      "Percentage of misclassified initial wave types: 47.86%\n"
     ]
    }
   ],
   "source": [
    "print('Percentage of misclassified initial wave types: %3.2f%%' % (wrong_type[0][0]/total_number[0][0]*100))"
   ]
  },
  {
   "cell_type": "markdown",
   "metadata": {},
   "source": [
    "### Dataframes per class phase type"
   ]
  },
  {
   "cell_type": "code",
   "execution_count": 11,
   "metadata": {},
   "outputs": [],
   "source": [
    "query = \"\"\"select * from ml_features where sta='URZ' and class_phase='regS'\"\"\"\n",
    "df_S_all = pd.read_sql(query, con=connection)"
   ]
  },
  {
   "cell_type": "code",
   "execution_count": 12,
   "metadata": {},
   "outputs": [
    {
     "data": {
      "text/html": [
       "<div>\n",
       "<style scoped>\n",
       "    .dataframe tbody tr th:only-of-type {\n",
       "        vertical-align: middle;\n",
       "    }\n",
       "\n",
       "    .dataframe tbody tr th {\n",
       "        vertical-align: top;\n",
       "    }\n",
       "\n",
       "    .dataframe thead th {\n",
       "        text-align: right;\n",
       "    }\n",
       "</style>\n",
       "<table border=\"1\" class=\"dataframe\">\n",
       "  <thead>\n",
       "    <tr style=\"text-align: right;\">\n",
       "      <th></th>\n",
       "      <th>ARID</th>\n",
       "      <th>STA</th>\n",
       "      <th>TIME</th>\n",
       "      <th>IPHASE</th>\n",
       "      <th>CLASS_IPHASE</th>\n",
       "      <th>PHASE</th>\n",
       "      <th>CLASS_PHASE</th>\n",
       "      <th>RETIME</th>\n",
       "      <th>SOURCE</th>\n",
       "      <th>PER</th>\n",
       "      <th>...</th>\n",
       "      <th>HMXMN</th>\n",
       "      <th>HVRATP</th>\n",
       "      <th>HVRAT</th>\n",
       "      <th>NAB</th>\n",
       "      <th>TAB</th>\n",
       "      <th>HTOV1</th>\n",
       "      <th>HTOV2</th>\n",
       "      <th>HTOV3</th>\n",
       "      <th>HTOV4</th>\n",
       "      <th>HTOV5</th>\n",
       "    </tr>\n",
       "  </thead>\n",
       "  <tbody>\n",
       "    <tr>\n",
       "      <th>0</th>\n",
       "      <td>25050735</td>\n",
       "      <td>URZ</td>\n",
       "      <td>1.125386e+09</td>\n",
       "      <td>Sx</td>\n",
       "      <td>regS</td>\n",
       "      <td>Sn</td>\n",
       "      <td>regS</td>\n",
       "      <td>1.000</td>\n",
       "      <td>A</td>\n",
       "      <td>0.166667</td>\n",
       "      <td>...</td>\n",
       "      <td>1.526004</td>\n",
       "      <td>0.786459</td>\n",
       "      <td>1.174982</td>\n",
       "      <td>-0.1</td>\n",
       "      <td>-0.27</td>\n",
       "      <td>1.216724</td>\n",
       "      <td>0.363039</td>\n",
       "      <td>2.166968</td>\n",
       "      <td>1.844924</td>\n",
       "      <td>0.626604</td>\n",
       "    </tr>\n",
       "    <tr>\n",
       "      <th>1</th>\n",
       "      <td>25058004</td>\n",
       "      <td>URZ</td>\n",
       "      <td>1.125423e+09</td>\n",
       "      <td>Lg</td>\n",
       "      <td>regS</td>\n",
       "      <td>Sn</td>\n",
       "      <td>regS</td>\n",
       "      <td>1.925</td>\n",
       "      <td>A</td>\n",
       "      <td>0.444444</td>\n",
       "      <td>...</td>\n",
       "      <td>2.762988</td>\n",
       "      <td>15.337161</td>\n",
       "      <td>15.337161</td>\n",
       "      <td>-0.1</td>\n",
       "      <td>-0.31</td>\n",
       "      <td>0.423843</td>\n",
       "      <td>1.384683</td>\n",
       "      <td>0.724611</td>\n",
       "      <td>6.547078</td>\n",
       "      <td>1.569841</td>\n",
       "    </tr>\n",
       "    <tr>\n",
       "      <th>2</th>\n",
       "      <td>25075768</td>\n",
       "      <td>URZ</td>\n",
       "      <td>1.125508e+09</td>\n",
       "      <td>Lg</td>\n",
       "      <td>regS</td>\n",
       "      <td>Sn</td>\n",
       "      <td>regS</td>\n",
       "      <td>1.050</td>\n",
       "      <td>A</td>\n",
       "      <td>0.333333</td>\n",
       "      <td>...</td>\n",
       "      <td>1.395858</td>\n",
       "      <td>1.296030</td>\n",
       "      <td>2.398118</td>\n",
       "      <td>0.0</td>\n",
       "      <td>0.00</td>\n",
       "      <td>0.713705</td>\n",
       "      <td>1.641215</td>\n",
       "      <td>0.940403</td>\n",
       "      <td>1.211333</td>\n",
       "      <td>1.909713</td>\n",
       "    </tr>\n",
       "    <tr>\n",
       "      <th>3</th>\n",
       "      <td>25092371</td>\n",
       "      <td>URZ</td>\n",
       "      <td>1.125587e+09</td>\n",
       "      <td>Sn</td>\n",
       "      <td>regS</td>\n",
       "      <td>Sn</td>\n",
       "      <td>regS</td>\n",
       "      <td>0.175</td>\n",
       "      <td>A</td>\n",
       "      <td>0.166667</td>\n",
       "      <td>...</td>\n",
       "      <td>1.746398</td>\n",
       "      <td>5.561389</td>\n",
       "      <td>2.205452</td>\n",
       "      <td>0.0</td>\n",
       "      <td>0.00</td>\n",
       "      <td>1.155050</td>\n",
       "      <td>0.646231</td>\n",
       "      <td>0.997092</td>\n",
       "      <td>1.326985</td>\n",
       "      <td>4.507104</td>\n",
       "    </tr>\n",
       "    <tr>\n",
       "      <th>4</th>\n",
       "      <td>25094351</td>\n",
       "      <td>URZ</td>\n",
       "      <td>1.125598e+09</td>\n",
       "      <td>Sn</td>\n",
       "      <td>regS</td>\n",
       "      <td>Sn</td>\n",
       "      <td>regS</td>\n",
       "      <td>1.400</td>\n",
       "      <td>A</td>\n",
       "      <td>0.444444</td>\n",
       "      <td>...</td>\n",
       "      <td>2.816413</td>\n",
       "      <td>5.135686</td>\n",
       "      <td>8.557762</td>\n",
       "      <td>0.0</td>\n",
       "      <td>0.00</td>\n",
       "      <td>1.682028</td>\n",
       "      <td>0.309588</td>\n",
       "      <td>2.783780</td>\n",
       "      <td>8.199625</td>\n",
       "      <td>2.007485</td>\n",
       "    </tr>\n",
       "  </tbody>\n",
       "</table>\n",
       "<p>5 rows × 25 columns</p>\n",
       "</div>"
      ],
      "text/plain": [
       "       ARID  STA          TIME IPHASE CLASS_IPHASE PHASE CLASS_PHASE  RETIME  \\\n",
       "0  25050735  URZ  1.125386e+09     Sx         regS    Sn        regS   1.000   \n",
       "1  25058004  URZ  1.125423e+09     Lg         regS    Sn        regS   1.925   \n",
       "2  25075768  URZ  1.125508e+09     Lg         regS    Sn        regS   1.050   \n",
       "3  25092371  URZ  1.125587e+09     Sn         regS    Sn        regS   0.175   \n",
       "4  25094351  URZ  1.125598e+09     Sn         regS    Sn        regS   1.400   \n",
       "\n",
       "  SOURCE       PER    ...        HMXMN     HVRATP      HVRAT  NAB   TAB  \\\n",
       "0      A  0.166667    ...     1.526004   0.786459   1.174982 -0.1 -0.27   \n",
       "1      A  0.444444    ...     2.762988  15.337161  15.337161 -0.1 -0.31   \n",
       "2      A  0.333333    ...     1.395858   1.296030   2.398118  0.0  0.00   \n",
       "3      A  0.166667    ...     1.746398   5.561389   2.205452  0.0  0.00   \n",
       "4      A  0.444444    ...     2.816413   5.135686   8.557762  0.0  0.00   \n",
       "\n",
       "      HTOV1     HTOV2     HTOV3     HTOV4     HTOV5  \n",
       "0  1.216724  0.363039  2.166968  1.844924  0.626604  \n",
       "1  0.423843  1.384683  0.724611  6.547078  1.569841  \n",
       "2  0.713705  1.641215  0.940403  1.211333  1.909713  \n",
       "3  1.155050  0.646231  0.997092  1.326985  4.507104  \n",
       "4  1.682028  0.309588  2.783780  8.199625  2.007485  \n",
       "\n",
       "[5 rows x 25 columns]"
      ]
     },
     "execution_count": 12,
     "metadata": {},
     "output_type": "execute_result"
    }
   ],
   "source": [
    "df_S_all.head()"
   ]
  },
  {
   "cell_type": "code",
   "execution_count": 13,
   "metadata": {},
   "outputs": [],
   "source": [
    "query = \"\"\"select * from ml_features where sta='URZ' and class_phase='regP'\"\"\"\n",
    "df_P_all = pd.read_sql(query, con=connection)"
   ]
  },
  {
   "cell_type": "code",
   "execution_count": 14,
   "metadata": {},
   "outputs": [
    {
     "data": {
      "text/html": [
       "<div>\n",
       "<style scoped>\n",
       "    .dataframe tbody tr th:only-of-type {\n",
       "        vertical-align: middle;\n",
       "    }\n",
       "\n",
       "    .dataframe tbody tr th {\n",
       "        vertical-align: top;\n",
       "    }\n",
       "\n",
       "    .dataframe thead th {\n",
       "        text-align: right;\n",
       "    }\n",
       "</style>\n",
       "<table border=\"1\" class=\"dataframe\">\n",
       "  <thead>\n",
       "    <tr style=\"text-align: right;\">\n",
       "      <th></th>\n",
       "      <th>ARID</th>\n",
       "      <th>STA</th>\n",
       "      <th>TIME</th>\n",
       "      <th>IPHASE</th>\n",
       "      <th>CLASS_IPHASE</th>\n",
       "      <th>PHASE</th>\n",
       "      <th>CLASS_PHASE</th>\n",
       "      <th>RETIME</th>\n",
       "      <th>SOURCE</th>\n",
       "      <th>PER</th>\n",
       "      <th>...</th>\n",
       "      <th>HMXMN</th>\n",
       "      <th>HVRATP</th>\n",
       "      <th>HVRAT</th>\n",
       "      <th>NAB</th>\n",
       "      <th>TAB</th>\n",
       "      <th>HTOV1</th>\n",
       "      <th>HTOV2</th>\n",
       "      <th>HTOV3</th>\n",
       "      <th>HTOV4</th>\n",
       "      <th>HTOV5</th>\n",
       "    </tr>\n",
       "  </thead>\n",
       "  <tbody>\n",
       "    <tr>\n",
       "      <th>0</th>\n",
       "      <td>14972252</td>\n",
       "      <td>URZ</td>\n",
       "      <td>1.069735e+09</td>\n",
       "      <td>Pn</td>\n",
       "      <td>regP</td>\n",
       "      <td>Pn</td>\n",
       "      <td>regP</td>\n",
       "      <td>2.94244</td>\n",
       "      <td>A</td>\n",
       "      <td>0.166667</td>\n",
       "      <td>...</td>\n",
       "      <td>1.542596</td>\n",
       "      <td>0.124299</td>\n",
       "      <td>0.176237</td>\n",
       "      <td>0.1</td>\n",
       "      <td>0.100</td>\n",
       "      <td>0.509125</td>\n",
       "      <td>0.983261</td>\n",
       "      <td>0.619635</td>\n",
       "      <td>0.118464</td>\n",
       "      <td>0.058735</td>\n",
       "    </tr>\n",
       "    <tr>\n",
       "      <th>1</th>\n",
       "      <td>14992929</td>\n",
       "      <td>URZ</td>\n",
       "      <td>1.070059e+09</td>\n",
       "      <td>Pn</td>\n",
       "      <td>regP</td>\n",
       "      <td>Pn</td>\n",
       "      <td>regP</td>\n",
       "      <td>0.00000</td>\n",
       "      <td>A</td>\n",
       "      <td>0.333333</td>\n",
       "      <td>...</td>\n",
       "      <td>1.301846</td>\n",
       "      <td>1.112025</td>\n",
       "      <td>0.258914</td>\n",
       "      <td>0.2</td>\n",
       "      <td>0.245</td>\n",
       "      <td>3.730434</td>\n",
       "      <td>0.738458</td>\n",
       "      <td>0.704325</td>\n",
       "      <td>0.247701</td>\n",
       "      <td>0.060989</td>\n",
       "    </tr>\n",
       "    <tr>\n",
       "      <th>2</th>\n",
       "      <td>15029724</td>\n",
       "      <td>URZ</td>\n",
       "      <td>1.070386e+09</td>\n",
       "      <td>Pn</td>\n",
       "      <td>regP</td>\n",
       "      <td>Pn</td>\n",
       "      <td>regP</td>\n",
       "      <td>0.65000</td>\n",
       "      <td>A</td>\n",
       "      <td>0.166667</td>\n",
       "      <td>...</td>\n",
       "      <td>1.828008</td>\n",
       "      <td>0.132138</td>\n",
       "      <td>0.192003</td>\n",
       "      <td>0.2</td>\n",
       "      <td>0.375</td>\n",
       "      <td>0.629496</td>\n",
       "      <td>0.632947</td>\n",
       "      <td>0.277982</td>\n",
       "      <td>0.542543</td>\n",
       "      <td>0.041916</td>\n",
       "    </tr>\n",
       "    <tr>\n",
       "      <th>3</th>\n",
       "      <td>15031571</td>\n",
       "      <td>URZ</td>\n",
       "      <td>1.070403e+09</td>\n",
       "      <td>Pn</td>\n",
       "      <td>regP</td>\n",
       "      <td>Pn</td>\n",
       "      <td>regP</td>\n",
       "      <td>3.22500</td>\n",
       "      <td>A</td>\n",
       "      <td>0.444444</td>\n",
       "      <td>...</td>\n",
       "      <td>1.375773</td>\n",
       "      <td>0.282216</td>\n",
       "      <td>0.589090</td>\n",
       "      <td>0.1</td>\n",
       "      <td>0.050</td>\n",
       "      <td>0.924411</td>\n",
       "      <td>0.941318</td>\n",
       "      <td>0.304547</td>\n",
       "      <td>0.520954</td>\n",
       "      <td>0.131296</td>\n",
       "    </tr>\n",
       "    <tr>\n",
       "      <th>4</th>\n",
       "      <td>15073977</td>\n",
       "      <td>URZ</td>\n",
       "      <td>1.070752e+09</td>\n",
       "      <td>Pg</td>\n",
       "      <td>regP</td>\n",
       "      <td>Pn</td>\n",
       "      <td>regP</td>\n",
       "      <td>0.00000</td>\n",
       "      <td>A</td>\n",
       "      <td>0.166667</td>\n",
       "      <td>...</td>\n",
       "      <td>3.529159</td>\n",
       "      <td>0.085323</td>\n",
       "      <td>0.486815</td>\n",
       "      <td>0.1</td>\n",
       "      <td>0.290</td>\n",
       "      <td>0.211185</td>\n",
       "      <td>0.225393</td>\n",
       "      <td>0.257161</td>\n",
       "      <td>0.413598</td>\n",
       "      <td>0.287086</td>\n",
       "    </tr>\n",
       "  </tbody>\n",
       "</table>\n",
       "<p>5 rows × 25 columns</p>\n",
       "</div>"
      ],
      "text/plain": [
       "       ARID  STA          TIME IPHASE CLASS_IPHASE PHASE CLASS_PHASE   RETIME  \\\n",
       "0  14972252  URZ  1.069735e+09     Pn         regP    Pn        regP  2.94244   \n",
       "1  14992929  URZ  1.070059e+09     Pn         regP    Pn        regP  0.00000   \n",
       "2  15029724  URZ  1.070386e+09     Pn         regP    Pn        regP  0.65000   \n",
       "3  15031571  URZ  1.070403e+09     Pn         regP    Pn        regP  3.22500   \n",
       "4  15073977  URZ  1.070752e+09     Pg         regP    Pn        regP  0.00000   \n",
       "\n",
       "  SOURCE       PER    ...        HMXMN    HVRATP     HVRAT  NAB    TAB  \\\n",
       "0      A  0.166667    ...     1.542596  0.124299  0.176237  0.1  0.100   \n",
       "1      A  0.333333    ...     1.301846  1.112025  0.258914  0.2  0.245   \n",
       "2      A  0.166667    ...     1.828008  0.132138  0.192003  0.2  0.375   \n",
       "3      A  0.444444    ...     1.375773  0.282216  0.589090  0.1  0.050   \n",
       "4      A  0.166667    ...     3.529159  0.085323  0.486815  0.1  0.290   \n",
       "\n",
       "      HTOV1     HTOV2     HTOV3     HTOV4     HTOV5  \n",
       "0  0.509125  0.983261  0.619635  0.118464  0.058735  \n",
       "1  3.730434  0.738458  0.704325  0.247701  0.060989  \n",
       "2  0.629496  0.632947  0.277982  0.542543  0.041916  \n",
       "3  0.924411  0.941318  0.304547  0.520954  0.131296  \n",
       "4  0.211185  0.225393  0.257161  0.413598  0.287086  \n",
       "\n",
       "[5 rows x 25 columns]"
      ]
     },
     "execution_count": 14,
     "metadata": {},
     "output_type": "execute_result"
    }
   ],
   "source": [
    "df_P_all.head()"
   ]
  },
  {
   "cell_type": "code",
   "execution_count": 15,
   "metadata": {},
   "outputs": [],
   "source": [
    "query = \"\"\"select * from ml_features where sta='URZ' and class_phase='tele'\"\"\"\n",
    "df_T_all = pd.read_sql(query, con=connection)"
   ]
  },
  {
   "cell_type": "code",
   "execution_count": 16,
   "metadata": {},
   "outputs": [
    {
     "data": {
      "text/html": [
       "<div>\n",
       "<style scoped>\n",
       "    .dataframe tbody tr th:only-of-type {\n",
       "        vertical-align: middle;\n",
       "    }\n",
       "\n",
       "    .dataframe tbody tr th {\n",
       "        vertical-align: top;\n",
       "    }\n",
       "\n",
       "    .dataframe thead th {\n",
       "        text-align: right;\n",
       "    }\n",
       "</style>\n",
       "<table border=\"1\" class=\"dataframe\">\n",
       "  <thead>\n",
       "    <tr style=\"text-align: right;\">\n",
       "      <th></th>\n",
       "      <th>ARID</th>\n",
       "      <th>STA</th>\n",
       "      <th>TIME</th>\n",
       "      <th>IPHASE</th>\n",
       "      <th>CLASS_IPHASE</th>\n",
       "      <th>PHASE</th>\n",
       "      <th>CLASS_PHASE</th>\n",
       "      <th>RETIME</th>\n",
       "      <th>SOURCE</th>\n",
       "      <th>PER</th>\n",
       "      <th>...</th>\n",
       "      <th>HMXMN</th>\n",
       "      <th>HVRATP</th>\n",
       "      <th>HVRAT</th>\n",
       "      <th>NAB</th>\n",
       "      <th>TAB</th>\n",
       "      <th>HTOV1</th>\n",
       "      <th>HTOV2</th>\n",
       "      <th>HTOV3</th>\n",
       "      <th>HTOV4</th>\n",
       "      <th>HTOV5</th>\n",
       "    </tr>\n",
       "  </thead>\n",
       "  <tbody>\n",
       "    <tr>\n",
       "      <th>0</th>\n",
       "      <td>28541585</td>\n",
       "      <td>URZ</td>\n",
       "      <td>1.143123e+09</td>\n",
       "      <td>P</td>\n",
       "      <td>tele</td>\n",
       "      <td>P</td>\n",
       "      <td>tele</td>\n",
       "      <td>0.550</td>\n",
       "      <td>A</td>\n",
       "      <td>0.666667</td>\n",
       "      <td>...</td>\n",
       "      <td>1.702892</td>\n",
       "      <td>0.042081</td>\n",
       "      <td>0.042081</td>\n",
       "      <td>0.0</td>\n",
       "      <td>0.000</td>\n",
       "      <td>0.467387</td>\n",
       "      <td>0.594238</td>\n",
       "      <td>0.057473</td>\n",
       "      <td>0.053682</td>\n",
       "      <td>0.463873</td>\n",
       "    </tr>\n",
       "    <tr>\n",
       "      <th>1</th>\n",
       "      <td>28556291</td>\n",
       "      <td>URZ</td>\n",
       "      <td>1.143197e+09</td>\n",
       "      <td>P</td>\n",
       "      <td>tele</td>\n",
       "      <td>P</td>\n",
       "      <td>tele</td>\n",
       "      <td>0.500</td>\n",
       "      <td>A</td>\n",
       "      <td>0.333333</td>\n",
       "      <td>...</td>\n",
       "      <td>1.957241</td>\n",
       "      <td>0.223522</td>\n",
       "      <td>0.223522</td>\n",
       "      <td>0.0</td>\n",
       "      <td>0.000</td>\n",
       "      <td>0.954016</td>\n",
       "      <td>0.705002</td>\n",
       "      <td>1.308694</td>\n",
       "      <td>0.193754</td>\n",
       "      <td>0.114283</td>\n",
       "    </tr>\n",
       "    <tr>\n",
       "      <th>2</th>\n",
       "      <td>28557837</td>\n",
       "      <td>URZ</td>\n",
       "      <td>1.143204e+09</td>\n",
       "      <td>P</td>\n",
       "      <td>tele</td>\n",
       "      <td>P</td>\n",
       "      <td>tele</td>\n",
       "      <td>3.100</td>\n",
       "      <td>A</td>\n",
       "      <td>0.333333</td>\n",
       "      <td>...</td>\n",
       "      <td>1.190828</td>\n",
       "      <td>0.240041</td>\n",
       "      <td>0.613747</td>\n",
       "      <td>0.0</td>\n",
       "      <td>-0.195</td>\n",
       "      <td>0.577677</td>\n",
       "      <td>1.020239</td>\n",
       "      <td>0.372745</td>\n",
       "      <td>0.277075</td>\n",
       "      <td>0.067225</td>\n",
       "    </tr>\n",
       "    <tr>\n",
       "      <th>3</th>\n",
       "      <td>28559193</td>\n",
       "      <td>URZ</td>\n",
       "      <td>1.143210e+09</td>\n",
       "      <td>P</td>\n",
       "      <td>tele</td>\n",
       "      <td>P</td>\n",
       "      <td>tele</td>\n",
       "      <td>0.000</td>\n",
       "      <td>A</td>\n",
       "      <td>0.333333</td>\n",
       "      <td>...</td>\n",
       "      <td>1.531207</td>\n",
       "      <td>0.084376</td>\n",
       "      <td>0.084376</td>\n",
       "      <td>0.1</td>\n",
       "      <td>0.130</td>\n",
       "      <td>0.689514</td>\n",
       "      <td>0.333741</td>\n",
       "      <td>0.336678</td>\n",
       "      <td>0.119060</td>\n",
       "      <td>0.092935</td>\n",
       "    </tr>\n",
       "    <tr>\n",
       "      <th>4</th>\n",
       "      <td>28561877</td>\n",
       "      <td>URZ</td>\n",
       "      <td>1.143223e+09</td>\n",
       "      <td>P</td>\n",
       "      <td>tele</td>\n",
       "      <td>P</td>\n",
       "      <td>tele</td>\n",
       "      <td>0.375</td>\n",
       "      <td>A</td>\n",
       "      <td>0.444444</td>\n",
       "      <td>...</td>\n",
       "      <td>2.808070</td>\n",
       "      <td>0.038871</td>\n",
       "      <td>0.097918</td>\n",
       "      <td>0.1</td>\n",
       "      <td>0.205</td>\n",
       "      <td>0.358785</td>\n",
       "      <td>0.042658</td>\n",
       "      <td>0.127151</td>\n",
       "      <td>0.064076</td>\n",
       "      <td>0.062188</td>\n",
       "    </tr>\n",
       "  </tbody>\n",
       "</table>\n",
       "<p>5 rows × 25 columns</p>\n",
       "</div>"
      ],
      "text/plain": [
       "       ARID  STA          TIME IPHASE CLASS_IPHASE PHASE CLASS_PHASE  RETIME  \\\n",
       "0  28541585  URZ  1.143123e+09      P         tele     P        tele   0.550   \n",
       "1  28556291  URZ  1.143197e+09      P         tele     P        tele   0.500   \n",
       "2  28557837  URZ  1.143204e+09      P         tele     P        tele   3.100   \n",
       "3  28559193  URZ  1.143210e+09      P         tele     P        tele   0.000   \n",
       "4  28561877  URZ  1.143223e+09      P         tele     P        tele   0.375   \n",
       "\n",
       "  SOURCE       PER    ...        HMXMN    HVRATP     HVRAT  NAB    TAB  \\\n",
       "0      A  0.666667    ...     1.702892  0.042081  0.042081  0.0  0.000   \n",
       "1      A  0.333333    ...     1.957241  0.223522  0.223522  0.0  0.000   \n",
       "2      A  0.333333    ...     1.190828  0.240041  0.613747  0.0 -0.195   \n",
       "3      A  0.333333    ...     1.531207  0.084376  0.084376  0.1  0.130   \n",
       "4      A  0.444444    ...     2.808070  0.038871  0.097918  0.1  0.205   \n",
       "\n",
       "      HTOV1     HTOV2     HTOV3     HTOV4     HTOV5  \n",
       "0  0.467387  0.594238  0.057473  0.053682  0.463873  \n",
       "1  0.954016  0.705002  1.308694  0.193754  0.114283  \n",
       "2  0.577677  1.020239  0.372745  0.277075  0.067225  \n",
       "3  0.689514  0.333741  0.336678  0.119060  0.092935  \n",
       "4  0.358785  0.042658  0.127151  0.064076  0.062188  \n",
       "\n",
       "[5 rows x 25 columns]"
      ]
     },
     "execution_count": 16,
     "metadata": {},
     "output_type": "execute_result"
    }
   ],
   "source": [
    "df_T_all.head()"
   ]
  },
  {
   "cell_type": "code",
   "execution_count": 17,
   "metadata": {},
   "outputs": [],
   "source": [
    "query = \"\"\"select * from ml_features where sta='URZ' and class_phase='N'\"\"\"\n",
    "df_N_all = pd.read_sql(query, con=connection)"
   ]
  },
  {
   "cell_type": "code",
   "execution_count": 18,
   "metadata": {},
   "outputs": [
    {
     "data": {
      "text/html": [
       "<div>\n",
       "<style scoped>\n",
       "    .dataframe tbody tr th:only-of-type {\n",
       "        vertical-align: middle;\n",
       "    }\n",
       "\n",
       "    .dataframe tbody tr th {\n",
       "        vertical-align: top;\n",
       "    }\n",
       "\n",
       "    .dataframe thead th {\n",
       "        text-align: right;\n",
       "    }\n",
       "</style>\n",
       "<table border=\"1\" class=\"dataframe\">\n",
       "  <thead>\n",
       "    <tr style=\"text-align: right;\">\n",
       "      <th></th>\n",
       "      <th>ARID</th>\n",
       "      <th>STA</th>\n",
       "      <th>TIME</th>\n",
       "      <th>IPHASE</th>\n",
       "      <th>CLASS_IPHASE</th>\n",
       "      <th>PHASE</th>\n",
       "      <th>CLASS_PHASE</th>\n",
       "      <th>RETIME</th>\n",
       "      <th>SOURCE</th>\n",
       "      <th>PER</th>\n",
       "      <th>...</th>\n",
       "      <th>HMXMN</th>\n",
       "      <th>HVRATP</th>\n",
       "      <th>HVRAT</th>\n",
       "      <th>NAB</th>\n",
       "      <th>TAB</th>\n",
       "      <th>HTOV1</th>\n",
       "      <th>HTOV2</th>\n",
       "      <th>HTOV3</th>\n",
       "      <th>HTOV4</th>\n",
       "      <th>HTOV5</th>\n",
       "    </tr>\n",
       "  </thead>\n",
       "  <tbody>\n",
       "    <tr>\n",
       "      <th>0</th>\n",
       "      <td>13097443</td>\n",
       "      <td>URZ</td>\n",
       "      <td>1.055511e+09</td>\n",
       "      <td>N</td>\n",
       "      <td>N</td>\n",
       "      <td>None</td>\n",
       "      <td>N</td>\n",
       "      <td>0.0</td>\n",
       "      <td>A</td>\n",
       "      <td>0.166667</td>\n",
       "      <td>...</td>\n",
       "      <td>2.948945</td>\n",
       "      <td>9.600216</td>\n",
       "      <td>9.600216</td>\n",
       "      <td>0.0</td>\n",
       "      <td>0.00</td>\n",
       "      <td>0.396880</td>\n",
       "      <td>1.145887</td>\n",
       "      <td>0.421142</td>\n",
       "      <td>0.406116</td>\n",
       "      <td>1.439137</td>\n",
       "    </tr>\n",
       "    <tr>\n",
       "      <th>1</th>\n",
       "      <td>13097727</td>\n",
       "      <td>URZ</td>\n",
       "      <td>1.055513e+09</td>\n",
       "      <td>N</td>\n",
       "      <td>N</td>\n",
       "      <td>None</td>\n",
       "      <td>N</td>\n",
       "      <td>0.0</td>\n",
       "      <td>A</td>\n",
       "      <td>0.444444</td>\n",
       "      <td>...</td>\n",
       "      <td>5.750848</td>\n",
       "      <td>9.726424</td>\n",
       "      <td>3.211865</td>\n",
       "      <td>-0.1</td>\n",
       "      <td>-0.04</td>\n",
       "      <td>0.628241</td>\n",
       "      <td>0.617270</td>\n",
       "      <td>0.890586</td>\n",
       "      <td>2.788352</td>\n",
       "      <td>1.279634</td>\n",
       "    </tr>\n",
       "    <tr>\n",
       "      <th>2</th>\n",
       "      <td>13097728</td>\n",
       "      <td>URZ</td>\n",
       "      <td>1.055513e+09</td>\n",
       "      <td>N</td>\n",
       "      <td>N</td>\n",
       "      <td>None</td>\n",
       "      <td>N</td>\n",
       "      <td>0.0</td>\n",
       "      <td>A</td>\n",
       "      <td>1.000000</td>\n",
       "      <td>...</td>\n",
       "      <td>1.550819</td>\n",
       "      <td>0.163623</td>\n",
       "      <td>12.531935</td>\n",
       "      <td>0.1</td>\n",
       "      <td>0.50</td>\n",
       "      <td>2.625565</td>\n",
       "      <td>0.419386</td>\n",
       "      <td>0.502452</td>\n",
       "      <td>1.093746</td>\n",
       "      <td>0.228218</td>\n",
       "    </tr>\n",
       "    <tr>\n",
       "      <th>3</th>\n",
       "      <td>13097729</td>\n",
       "      <td>URZ</td>\n",
       "      <td>1.055513e+09</td>\n",
       "      <td>N</td>\n",
       "      <td>N</td>\n",
       "      <td>None</td>\n",
       "      <td>N</td>\n",
       "      <td>0.0</td>\n",
       "      <td>A</td>\n",
       "      <td>0.333333</td>\n",
       "      <td>...</td>\n",
       "      <td>2.203439</td>\n",
       "      <td>0.328290</td>\n",
       "      <td>0.511023</td>\n",
       "      <td>-0.1</td>\n",
       "      <td>-0.50</td>\n",
       "      <td>0.532591</td>\n",
       "      <td>1.455946</td>\n",
       "      <td>0.672186</td>\n",
       "      <td>0.730198</td>\n",
       "      <td>0.130826</td>\n",
       "    </tr>\n",
       "    <tr>\n",
       "      <th>4</th>\n",
       "      <td>13097946</td>\n",
       "      <td>URZ</td>\n",
       "      <td>1.055517e+09</td>\n",
       "      <td>N</td>\n",
       "      <td>N</td>\n",
       "      <td>None</td>\n",
       "      <td>N</td>\n",
       "      <td>0.0</td>\n",
       "      <td>A</td>\n",
       "      <td>1.000000</td>\n",
       "      <td>...</td>\n",
       "      <td>2.803004</td>\n",
       "      <td>0.827978</td>\n",
       "      <td>0.630203</td>\n",
       "      <td>0.0</td>\n",
       "      <td>0.00</td>\n",
       "      <td>1.039954</td>\n",
       "      <td>0.420590</td>\n",
       "      <td>0.983108</td>\n",
       "      <td>0.450562</td>\n",
       "      <td>0.274970</td>\n",
       "    </tr>\n",
       "  </tbody>\n",
       "</table>\n",
       "<p>5 rows × 25 columns</p>\n",
       "</div>"
      ],
      "text/plain": [
       "       ARID  STA          TIME IPHASE CLASS_IPHASE PHASE CLASS_PHASE  RETIME  \\\n",
       "0  13097443  URZ  1.055511e+09      N            N  None           N     0.0   \n",
       "1  13097727  URZ  1.055513e+09      N            N  None           N     0.0   \n",
       "2  13097728  URZ  1.055513e+09      N            N  None           N     0.0   \n",
       "3  13097729  URZ  1.055513e+09      N            N  None           N     0.0   \n",
       "4  13097946  URZ  1.055517e+09      N            N  None           N     0.0   \n",
       "\n",
       "  SOURCE       PER    ...        HMXMN    HVRATP      HVRAT  NAB   TAB  \\\n",
       "0      A  0.166667    ...     2.948945  9.600216   9.600216  0.0  0.00   \n",
       "1      A  0.444444    ...     5.750848  9.726424   3.211865 -0.1 -0.04   \n",
       "2      A  1.000000    ...     1.550819  0.163623  12.531935  0.1  0.50   \n",
       "3      A  0.333333    ...     2.203439  0.328290   0.511023 -0.1 -0.50   \n",
       "4      A  1.000000    ...     2.803004  0.827978   0.630203  0.0  0.00   \n",
       "\n",
       "      HTOV1     HTOV2     HTOV3     HTOV4     HTOV5  \n",
       "0  0.396880  1.145887  0.421142  0.406116  1.439137  \n",
       "1  0.628241  0.617270  0.890586  2.788352  1.279634  \n",
       "2  2.625565  0.419386  0.502452  1.093746  0.228218  \n",
       "3  0.532591  1.455946  0.672186  0.730198  0.130826  \n",
       "4  1.039954  0.420590  0.983108  0.450562  0.274970  \n",
       "\n",
       "[5 rows x 25 columns]"
      ]
     },
     "execution_count": 18,
     "metadata": {},
     "output_type": "execute_result"
    }
   ],
   "source": [
    "df_N_all.head()"
   ]
  },
  {
   "cell_type": "code",
   "execution_count": 19,
   "metadata": {},
   "outputs": [],
   "source": [
    "#save to csv\n",
    "#df_ora.to_csv('URZ_pandas.csv')"
   ]
  },
  {
   "cell_type": "code",
   "execution_count": 20,
   "metadata": {},
   "outputs": [
    {
     "name": "stdout",
     "output_type": "stream",
     "text": [
      "regS (11204, 25)\n",
      "regP (11828, 25)\n",
      "tele (38108, 25)\n",
      "noise (308706, 25)\n"
     ]
    }
   ],
   "source": [
    "#how much data we have\n",
    "print('regS', df_S_all.shape)\n",
    "print('regP', df_P_all.shape)\n",
    "print('tele', df_T_all.shape)\n",
    "print('noise', df_N_all.shape)"
   ]
  },
  {
   "cell_type": "markdown",
   "metadata": {},
   "source": [
    "# Definition of input and output"
   ]
  },
  {
   "cell_type": "code",
   "execution_count": 21,
   "metadata": {},
   "outputs": [
    {
     "name": "stdout",
     "output_type": "stream",
     "text": [
      "features count: 15\n"
     ]
    }
   ],
   "source": [
    "# columns corresponding to input\n",
    "x_indices = ['PER', 'RECT', 'PLANS', 'INANG1', 'INANG3', 'HMXMN', 'HVRATP', 'HVRAT', 'NAB', 'TAB',  \n",
    "             'HTOV1', 'HTOV2', 'HTOV3', 'HTOV4', 'HTOV5']\n",
    "print('features count:', len(x_indices))\n",
    "# columns corresponding to output\n",
    "y_indices = ['CLASS_PHASE']"
   ]
  },
  {
   "cell_type": "markdown",
   "metadata": {},
   "source": [
    "# Dataset for first phase of the cascade: N vs TPS"
   ]
  },
  {
   "cell_type": "code",
   "execution_count": 22,
   "metadata": {},
   "outputs": [
    {
     "name": "stdout",
     "output_type": "stream",
     "text": [
      "(9202, 25) (9202, 25) (9202, 25)\n",
      "(27606, 25)\n",
      "(27606, 25)\n"
     ]
    }
   ],
   "source": [
    "#counts of all classes\n",
    "ns = df_S_all.shape[0]\n",
    "np = df_P_all.shape[0]\n",
    "nt = df_T_all.shape[0]\n",
    "nn = df_N_all.shape[0]\n",
    "\n",
    "#those from automatic\n",
    "nsa = df_S_all[df_S_all['SOURCE'] != 'M'].shape[0]\n",
    "npa = df_P_all[df_P_all['SOURCE'] != 'M'].shape[0]\n",
    "nta = df_T_all[df_T_all['SOURCE'] != 'M'].shape[0]\n",
    "nna = df_N_all[df_N_all['SOURCE'] != 'M'].shape[0]\n",
    "\n",
    "#we build a balanced datased - the same portion of regS, regP and tele\n",
    "#we have this count of phases\n",
    "samp_count = min(nsa, npa, nta)\n",
    "\n",
    "#sample TPS dataset, random_state is a seed\n",
    "ssS = df_S_all[df_S_all['SOURCE'] != 'M'].sample(samp_count, random_state=11)\n",
    "ssP = df_P_all[df_P_all['SOURCE'] != 'M'].sample(samp_count)\n",
    "ssT = df_T_all[df_T_all['SOURCE'] != 'M'].sample(samp_count)\n",
    "TPS_data = pd.concat([ssS, ssP, ssT])\n",
    "\n",
    "#sample noise phases\n",
    "N_data = df_N_all[df_N_all['SOURCE'] != 'M'].sample(3*samp_count)\n",
    "\n",
    "#lets shuffle dataset\n",
    "TPS_data = TPS_data.sample(frac=1).reset_index(drop=True)\n",
    "N_data = N_data.sample(frac=1).reset_index(drop=True)\n",
    "\n",
    "print(ssS.shape, ssP.shape, ssT.shape)\n",
    "print(TPS_data.shape)\n",
    "print(N_data.shape)"
   ]
  },
  {
   "cell_type": "markdown",
   "metadata": {},
   "source": [
    "### The same for manually added arrivals"
   ]
  },
  {
   "cell_type": "code",
   "execution_count": 25,
   "metadata": {},
   "outputs": [
    {
     "name": "stderr",
     "output_type": "stream",
     "text": [
      "/dvlscratch/SHI/users/hofman/ML/env/lib/python3.6/site-packages/h5py/__init__.py:36: FutureWarning: Conversion of the second argument of issubdtype from `float` to `np.floating` is deprecated. In future, it will be treated as `np.float64 == np.dtype(float).type`.\n",
      "  from ._conv import register_converters as _register_converters\n",
      "Using Theano backend.\n"
     ]
    }
   ],
   "source": [
    "import keras.utils"
   ]
  },
  {
   "cell_type": "markdown",
   "metadata": {},
   "source": [
    "### Define train/test ratio"
   ]
  },
  {
   "cell_type": "code",
   "execution_count": 31,
   "metadata": {},
   "outputs": [
    {
     "name": "stdout",
     "output_type": "stream",
     "text": [
      "train count= 20704 test count= 6902\n"
     ]
    }
   ],
   "source": [
    "train_test_split_ratio = 0.75\n",
    "samp_count_train = int(TPS_data.shape[0] * train_test_split_ratio)\n",
    "samp_count_test = TPS_data.shape[0] - samp_count_train\n",
    "print('train count=', samp_count_train, 'test count=', samp_count_test)"
   ]
  },
  {
   "cell_type": "code",
   "execution_count": 32,
   "metadata": {},
   "outputs": [
    {
     "name": "stdout",
     "output_type": "stream",
     "text": [
      "TPS train: (20704, 25) TPS test: (6902, 25)\n",
      "N train:   (20704, 25) N test:   (6902, 25)\n"
     ]
    }
   ],
   "source": [
    "TPS_train = TPS_data[:samp_count_train]\n",
    "TPS_test = TPS_data[samp_count_train:]\n",
    "\n",
    "N_train = N_data[:samp_count_train]\n",
    "N_test = N_data[samp_count_train:]\n",
    "\n",
    "print('TPS train:',TPS_train.shape,'TPS test:',TPS_test.shape)\n",
    "print('N train:  ',N_train.shape,  'N test:  ',N_test.shape)"
   ]
  },
  {
   "cell_type": "markdown",
   "metadata": {},
   "source": [
    "### Check interclass balance of TPS"
   ]
  },
  {
   "cell_type": "code",
   "execution_count": 33,
   "metadata": {},
   "outputs": [
    {
     "name": "stdout",
     "output_type": "stream",
     "text": [
      "T in TPS train:    (6874, 25)\n",
      "regP in TPS train: (6960, 25)\n",
      "regS in TPS train: (6870, 25)\n",
      "T in TPS test:     (2328, 25)\n",
      "regP in TPS test:  (2242, 25)\n",
      "regS in TPS test:  (2332, 25)\n"
     ]
    }
   ],
   "source": [
    "print('T in TPS train:   ', TPS_train[TPS_train['CLASS_PHASE']=='tele'].shape)\n",
    "print('regP in TPS train:', TPS_train[TPS_train['CLASS_PHASE']=='regP'].shape)\n",
    "print('regS in TPS train:', TPS_train[TPS_train['CLASS_PHASE']=='regS'].shape)\n",
    "\n",
    "print('T in TPS test:    ', TPS_test[TPS_test['CLASS_PHASE']=='tele'].shape)\n",
    "print('regP in TPS test: ', TPS_test[TPS_test['CLASS_PHASE']=='regP'].shape)\n",
    "print('regS in TPS test: ', TPS_test[TPS_test['CLASS_PHASE']=='regS'].shape)"
   ]
  },
  {
   "cell_type": "markdown",
   "metadata": {},
   "source": [
    "### Form train and test sets and shuffle"
   ]
  },
  {
   "cell_type": "code",
   "execution_count": 34,
   "metadata": {},
   "outputs": [],
   "source": [
    "train = pd.concat([TPS_train, N_train]).sample(frac=1).reset_index(drop=True)\n",
    "test =  pd.concat([TPS_test, N_test]).sample(frac=1).reset_index(drop=True)\n",
    "#train.apply(pd.to_numeric, errors='ignore')\n",
    "#test.apply(pd.to_numeric, errors='ignore')"
   ]
  },
  {
   "cell_type": "markdown",
   "metadata": {},
   "source": [
    "### Extract features and class labels"
   ]
  },
  {
   "cell_type": "code",
   "execution_count": 139,
   "metadata": {},
   "outputs": [
    {
     "name": "stdout",
     "output_type": "stream",
     "text": [
      "(41408, 15) (41408, 2) (13804, 15) (13804, 2)\n"
     ]
    }
   ],
   "source": [
    "train_X = train[x_indices].values.astype(float)\n",
    "train_Y = train[y_indices]\n",
    "\n",
    "test_X = test[x_indices].values.astype(float)\n",
    "test_Y = test[y_indices]\n",
    "\n",
    "train_Y_ = numpy.array(numpy.where(train_Y == 'N', 0, 1), dtype=float)\n",
    "test_Y_ = numpy.array(numpy.where(test_Y == 'N', 0, 1), dtype=float)\n",
    "\n",
    "#convert to categorical\n",
    "train_Y = keras.utils.to_categorical(train_Y_)\n",
    "test_Y = keras.utils.to_categorical(test_Y_)\n",
    "\n",
    "print(train_X.shape, train_Y.shape, test_X.shape, test_Y.shape)"
   ]
  },
  {
   "cell_type": "markdown",
   "metadata": {},
   "source": [
    "#### Ground truth for all 4 classes"
   ]
  },
  {
   "cell_type": "code",
   "execution_count": 225,
   "metadata": {},
   "outputs": [
    {
     "name": "stderr",
     "output_type": "stream",
     "text": [
      "/dvlscratch/SHI/users/hofman/ML/env/lib/python3.6/site-packages/sklearn/preprocessing/label.py:128: DataConversionWarning: A column-vector y was passed when a 1d array was expected. Please change the shape of y to (n_samples, ), for example using ravel().\n",
      "  y = column_or_1d(y, warn=True)\n"
     ]
    },
    {
     "data": {
      "text/plain": [
       "array([0, 0, 0, 0, 0, 1, 2, 0, 1, 1, 0, 0, 3, 0, 0, 2, 1, 0, 0, 0])"
      ]
     },
     "execution_count": 225,
     "metadata": {},
     "output_type": "execute_result"
    }
   ],
   "source": [
    "from sklearn import preprocessing\n",
    "le = preprocessing.LabelEncoder()\n",
    "le.fit(['N', 'regS', 'regP', 'tele'])\n",
    "test_Y_GT = le.transform(test[y_indices])\n",
    "train_Y_GT = le.transform(train[y_indices])\n",
    "test_Y_GT[:20]"
   ]
  },
  {
   "cell_type": "markdown",
   "metadata": {},
   "source": [
    "# Neural network"
   ]
  },
  {
   "cell_type": "code",
   "execution_count": 36,
   "metadata": {},
   "outputs": [],
   "source": [
    "from keras.models import Sequential\n",
    "from keras.layers import Dense\n",
    "from keras.optimizers import SGD, Adam"
   ]
  },
  {
   "cell_type": "code",
   "execution_count": 37,
   "metadata": {},
   "outputs": [],
   "source": [
    "n_input = len(x_indices)\n",
    "numpy.random.seed(11)\n",
    "\n",
    "# create model\n",
    "model = Sequential()\n",
    "model.add(Dense(n_input, input_dim=n_input, activation='sigmoid'))\n",
    "model.add(Dense(6, activation='sigmoid'))\n",
    "model.add(Dense(2, activation='sigmoid'))\n",
    "\n",
    "sgd = SGD(lr=0.001, decay=1e-6, momentum=0.9, nesterov=True, clipnorm=1., clipvalue=0.5)\n",
    "adam = Adam(lr=0.0001) #, clipnorm, clipvalue=0.5)\n",
    "\n",
    "model.compile(\n",
    "    loss = 'binary_crossentropy', \n",
    "    optimizer = 'adam',  # adam, sgd\n",
    "    metrics = ['accuracy'])"
   ]
  },
  {
   "cell_type": "code",
   "execution_count": 38,
   "metadata": {},
   "outputs": [
    {
     "name": "stdout",
     "output_type": "stream",
     "text": [
      "_________________________________________________________________\n",
      "Layer (type)                 Output Shape              Param #   \n",
      "=================================================================\n",
      "dense_1 (Dense)              (None, 15)                240       \n",
      "_________________________________________________________________\n",
      "dense_2 (Dense)              (None, 6)                 96        \n",
      "_________________________________________________________________\n",
      "dense_3 (Dense)              (None, 2)                 14        \n",
      "=================================================================\n",
      "Total params: 350\n",
      "Trainable params: 350\n",
      "Non-trainable params: 0\n",
      "_________________________________________________________________\n"
     ]
    }
   ],
   "source": [
    "model.summary()"
   ]
  },
  {
   "cell_type": "code",
   "execution_count": 39,
   "metadata": {},
   "outputs": [],
   "source": [
    "hist_keys = ('acc', 'val_acc', 'loss', 'val_loss')"
   ]
  },
  {
   "cell_type": "code",
   "execution_count": 40,
   "metadata": {},
   "outputs": [],
   "source": [
    "history = {k : [] for k in hist_keys}"
   ]
  },
  {
   "cell_type": "code",
   "execution_count": null,
   "metadata": {},
   "outputs": [],
   "source": [
    "h = model.fit(train_X[:], train_Y[:], \n",
    "          epochs=2000, \n",
    "          batch_size=32, \n",
    "          verbose=1,\n",
    "          shuffle=True,\n",
    "          #validation_split=0.1)\n",
    "          validation_data=(test_X, test_Y))\n",
    "\n",
    "history = {k : history[k] + h.history[k] for k in hist_keys}"
   ]
  },
  {
   "cell_type": "code",
   "execution_count": null,
   "metadata": {},
   "outputs": [],
   "source": [
    "train_Y[train_Y==0].shape, train_Y[train_Y==1].shape\n",
    "test_Y[test_Y==0].shape, test_Y[test_Y==1].shape"
   ]
  },
  {
   "cell_type": "code",
   "execution_count": 44,
   "metadata": {},
   "outputs": [
    {
     "data": {
      "image/png": "[encoded data removed]",
      "text/plain": [
       "<matplotlib.figure.Figure at 0x7fce31842518>"
      ]
     },
     "metadata": {},
     "output_type": "display_data"
    }
   ],
   "source": [
    "plot(history)"
   ]
  },
  {
   "cell_type": "code",
   "execution_count": 45,
   "metadata": {},
   "outputs": [
    {
     "name": "stdout",
     "output_type": "stream",
     "text": [
      "[[9.7410142e-01 2.5898589e-02]\n",
      " [9.7761589e-01 2.2384083e-02]\n",
      " [9.7797078e-01 2.2029223e-02]\n",
      " [5.2552408e-01 4.7447595e-01]\n",
      " [8.1728786e-01 1.8271212e-01]\n",
      " [2.8420327e-02 9.7157967e-01]\n",
      " [1.0399166e-01 8.9600837e-01]\n",
      " [9.7105443e-01 2.8945554e-02]\n",
      " [1.0137895e-04 9.9989861e-01]\n",
      " [8.2810514e-04 9.9917191e-01]]\n"
     ]
    }
   ],
   "source": [
    "# calculate predicted values\n",
    "Y_pred_ = model.predict(test_X)\n",
    "# predictions are outputted as floats from [0,1]\n",
    "print(Y_pred_[:10])"
   ]
  },
  {
   "cell_type": "code",
   "execution_count": 46,
   "metadata": {},
   "outputs": [],
   "source": [
    "Y_pred = numpy.argmax(Y_pred_, axis=1)"
   ]
  },
  {
   "cell_type": "code",
   "execution_count": 47,
   "metadata": {},
   "outputs": [
    {
     "name": "stdout",
     "output_type": "stream",
     "text": [
      "[[5697 1205]\n",
      " [ 965 5937]]\n"
     ]
    }
   ],
   "source": [
    "from sklearn.metrics import confusion_matrix\n",
    "\n",
    "# we must translate it to 0, 1 based on thresholding at 0.5\n",
    "# where < 0.5 set to 0, to 1 otherwise\n",
    "Y_pred = numpy.where(Y_pred < 0.5, 0, 1)\n",
    "\n",
    "# calculate confusion matrix\n",
    "conf_mat = confusion_matrix(test_Y_, Y_pred)\n",
    "print(conf_mat)"
   ]
  },
  {
   "cell_type": "code",
   "execution_count": 133,
   "metadata": {},
   "outputs": [
    {
     "name": "stdout",
     "output_type": "stream",
     "text": [
      "6902/6902 [==============================] - 0s 8us/step\n"
     ]
    },
    {
     "data": {
      "text/plain": [
       "[0.3273585427372188, 0.8601854534399264]"
      ]
     },
     "execution_count": 133,
     "metadata": {},
     "output_type": "execute_result"
    }
   ],
   "source": [
    "#eval on test data\n",
    "model.evaluate(test_X, test_Y)"
   ]
  },
  {
   "cell_type": "code",
   "execution_count": 136,
   "metadata": {},
   "outputs": [
    {
     "name": "stdout",
     "output_type": "stream",
     "text": [
      "41408/41408 [==============================] - 0s 8us/step\n"
     ]
    },
    {
     "data": {
      "text/plain": [
       "[0.33733608502278556, 0.8480245363214838]"
      ]
     },
     "execution_count": 136,
     "metadata": {},
     "output_type": "execute_result"
    }
   ],
   "source": [
    "model.evaluate(train_X, train_Y)"
   ]
  },
  {
   "cell_type": "code",
   "execution_count": 50,
   "metadata": {},
   "outputs": [],
   "source": [
    "#save model and weights\n",
    "model.save('URZ_model_NTPS.h5')"
   ]
  },
  {
   "cell_type": "markdown",
   "metadata": {},
   "source": [
    "## Adaptive step of the training\n",
    "\n",
    "* let's remove those training samples which are classified as noise by analysts but NN says the are real arrivals - could be a small arrivals omited by analysts"
   ]
  },
  {
   "cell_type": "markdown",
   "metadata": {},
   "source": [
    "#### Confusion matrix before removal of noise classified as signal from train set"
   ]
  },
  {
   "cell_type": "code",
   "execution_count": null,
   "metadata": {},
   "outputs": [],
   "source": [
    "#adaptive step of the training\n",
    "Y_train_pred = numpy.argmax(model.predict(train_X), axis=1)"
   ]
  },
  {
   "cell_type": "code",
   "execution_count": null,
   "metadata": {},
   "outputs": [],
   "source": [
    "#binarization, reshape\n",
    "Y_train_pred = numpy.reshape(numpy.where(Y_train_pred < 0.5, 0, 1), (len(Y_train_pred), 1))\n",
    "Y_train_pred"
   ]
  },
  {
   "cell_type": "code",
   "execution_count": null,
   "metadata": {},
   "outputs": [],
   "source": [
    "numpy.abs(Y_train_pred - train_Y_).sum()"
   ]
  },
  {
   "cell_type": "code",
   "execution_count": null,
   "metadata": {},
   "outputs": [],
   "source": [
    "conf_mat = confusion_matrix(train_Y_, Y_train_pred)\n",
    "conf_mat"
   ]
  },
  {
   "cell_type": "code",
   "execution_count": null,
   "metadata": {},
   "outputs": [],
   "source": [
    "conf_mat[0,1]+conf_mat[1,0]"
   ]
  },
  {
   "cell_type": "markdown",
   "metadata": {},
   "source": [
    "#### Removal of noise classified as signal from training set"
   ]
  },
  {
   "cell_type": "code",
   "execution_count": null,
   "metadata": {},
   "outputs": [],
   "source": [
    "#let's remove noise classified as signal in train set\n",
    "#0 - noise, 1 - signal\n",
    "#0 classified as 0: 0 - 0 = 0\n",
    "#1 classified as 0: 0 - 1 = -1\n",
    "#0 classified as 1: 1 - 0 = 1 - to be removed\n",
    "train_X_1 = train_X[(Y_train_pred - train_Y_)[:,0] < 1, :]\n",
    "train_Y_1 = train_Y[(Y_train_pred - train_Y_)[:,0] < 1, :]\n",
    "train_Y_1_ = numpy.reshape(numpy.argmax(train_Y_1, axis=1), (train_Y_1.shape[0], 1))\n",
    "train_X_1.shape, train_Y_1.shape, train_Y_1_.shape"
   ]
  },
  {
   "cell_type": "markdown",
   "metadata": {},
   "source": [
    "#### Re-training with a new training set"
   ]
  },
  {
   "cell_type": "code",
   "execution_count": null,
   "metadata": {},
   "outputs": [],
   "source": [
    "history_1 = {k : [] for k in hist_keys}"
   ]
  },
  {
   "cell_type": "code",
   "execution_count": null,
   "metadata": {},
   "outputs": [],
   "source": [
    "n_input = len(x_indices)\n",
    "numpy.random.seed(11)\n",
    "\n",
    "# create model\n",
    "model_1 = Sequential()\n",
    "model_1.add(Dense(n_input, input_dim=n_input, activation='sigmoid'))\n",
    "model_1.add(Dense(6, activation='sigmoid'))\n",
    "model_1.add(Dense(2, activation='sigmoid'))\n",
    "\n",
    "sgd = SGD(lr=0.001, decay=1e-6, momentum=0.9, nesterov=True, clipnorm=1., clipvalue=0.5)\n",
    "adam = Adam(lr=0.0001) #, clipnorm, clipvalue=0.5)\n",
    "\n",
    "model_1.compile(\n",
    "    loss = 'binary_crossentropy', \n",
    "    optimizer = 'adam',  # adam, sgd\n",
    "    metrics = ['accuracy'])"
   ]
  },
  {
   "cell_type": "code",
   "execution_count": null,
   "metadata": {},
   "outputs": [],
   "source": [
    "h = model_1.fit(train_X_1[:], train_Y_1[:], \n",
    "          epochs=500, \n",
    "          batch_size=32, \n",
    "          verbose=1,\n",
    "          shuffle=True,\n",
    "          #validation_split=0.1)\n",
    "          validation_data=([test_X, test_Y]))\n",
    "\n",
    "history_1 = {k : history_1[k] + h.history[k] for k in hist_keys}"
   ]
  },
  {
   "cell_type": "code",
   "execution_count": null,
   "metadata": {},
   "outputs": [],
   "source": [
    "plot(history_1)"
   ]
  },
  {
   "cell_type": "code",
   "execution_count": null,
   "metadata": {},
   "outputs": [],
   "source": [
    "#eval on test data\n",
    "model_1.evaluate(test_X, test_Y)"
   ]
  },
  {
   "cell_type": "markdown",
   "metadata": {},
   "source": [
    "#### Confusion matrix"
   ]
  },
  {
   "cell_type": "code",
   "execution_count": null,
   "metadata": {},
   "outputs": [],
   "source": [
    "Y_train_pred_1 = numpy.reshape(numpy.where(numpy.argmax(model_1.predict(train_X_1), axis=1) < 0.5, 0, 1), (train_X_1.shape[0], 1))"
   ]
  },
  {
   "cell_type": "code",
   "execution_count": null,
   "metadata": {},
   "outputs": [],
   "source": [
    "confusion_matrix(train_Y_1_, Y_train_pred_1)"
   ]
  },
  {
   "cell_type": "code",
   "execution_count": null,
   "metadata": {},
   "outputs": [],
   "source": []
  },
  {
   "cell_type": "markdown",
   "metadata": {},
   "source": [
    "# Neural network TP vs S \n",
    "\n",
    "* we need a new dataset for this"
   ]
  },
  {
   "cell_type": "code",
   "execution_count": null,
   "metadata": {},
   "outputs": [],
   "source": []
  },
  {
   "cell_type": "markdown",
   "metadata": {},
   "source": [
    "## Dataset for TP vs S"
   ]
  },
  {
   "cell_type": "code",
   "execution_count": 51,
   "metadata": {},
   "outputs": [
    {
     "name": "stdout",
     "output_type": "stream",
     "text": [
      "(20704, 25) (6902, 25)\n"
     ]
    }
   ],
   "source": [
    "print(TPS_train.shape, TPS_test.shape)"
   ]
  },
  {
   "cell_type": "code",
   "execution_count": 60,
   "metadata": {},
   "outputs": [
    {
     "name": "stdout",
     "output_type": "stream",
     "text": [
      "(20704, 15) (20704, 2) (6902, 15) (6902, 2)\n"
     ]
    }
   ],
   "source": [
    "train_X_TPS = TPS_train[x_indices].values.astype(float)\n",
    "train_Y_TPS = TPS_train[y_indices]\n",
    "\n",
    "test_X_TPS = TPS_test[x_indices].values.astype(float)\n",
    "test_Y_TPS = TPS_test[y_indices]\n",
    "\n",
    "#regS = 0, T/regP = 1\n",
    "train_Y_TPS_ = numpy.array(numpy.where(train_Y_TPS['CLASS_PHASE'] == 'regS', 0, 1), dtype=float)\n",
    "test_Y_TPS_ = numpy.array(numpy.where(test_Y_TPS['CLASS_PHASE'] == 'regS', 0, 1), dtype=float)\n",
    "\n",
    "#convert to categorical\n",
    "train_Y_TPS = keras.utils.to_categorical(train_Y_TPS_)\n",
    "test_Y_TPS = keras.utils.to_categorical(test_Y_TPS_)\n",
    "\n",
    "print(train_X_TPS.shape, train_Y_TPS.shape, test_X_TPS.shape, test_Y_TPS.shape)"
   ]
  },
  {
   "cell_type": "markdown",
   "metadata": {},
   "source": [
    "### Manually added datasets for testing"
   ]
  },
  {
   "cell_type": "code",
   "execution_count": 70,
   "metadata": {},
   "outputs": [
    {
     "name": "stdout",
     "output_type": "stream",
     "text": [
      "(6006, 15) (6006, 2) (6006, 1)\n"
     ]
    }
   ],
   "source": [
    "#those manually added\n",
    "nsm = df_S_all[df_S_all['SOURCE'] == 'M'].shape[0]\n",
    "npm = df_P_all[df_P_all['SOURCE'] == 'M'].shape[0]\n",
    "ntm = df_T_all[df_T_all['SOURCE'] == 'M'].shape[0]\n",
    "nnm = df_N_all[df_N_all['SOURCE'] == 'M'].shape[0]\n",
    "\n",
    "#we build a balanced datased - the same portion of regS, regP and tele\n",
    "#we have this count of phases\n",
    "man_samp_count = min(nsm, npm, ntm)\n",
    "\n",
    "#sample TPS dataset, random_state is a seed\n",
    "mssS = df_S_all[df_S_all['SOURCE'] == 'M'].sample(man_samp_count, random_state=11)\n",
    "mssP = df_P_all[df_P_all['SOURCE'] == 'M'].sample(man_samp_count)\n",
    "mssT = df_T_all[df_T_all['SOURCE'] == 'M'].sample(man_samp_count)\n",
    "MTPS_data = pd.concat([mssS, mssP, mssT])\n",
    "\n",
    "#manually added noise makes nos sense - we do not sanmple N\n",
    "\n",
    "#lets shuffle dataset\n",
    "MTPS_data = MTPS_data.sample(frac=1).reset_index(drop=True)\n",
    "\n",
    "manual_X = MTPS_data[x_indices].values.astype(float)\n",
    "#regS = 0, T/regP = 1\n",
    "manual_Y_TPS_ = numpy.array(numpy.where(MTPS_data[y_indices] == 'regS', 0, 1), dtype=float)\n",
    "manual_Y_TPS = keras.utils.to_categorical(manual_Y_)\n",
    "\n",
    "print(manual_X.shape, manual_Y_TPS.shape, manual_Y_TPS_.shape)"
   ]
  },
  {
   "cell_type": "markdown",
   "metadata": {},
   "source": [
    "#### Manual dataset ground truth"
   ]
  },
  {
   "cell_type": "code",
   "execution_count": 311,
   "metadata": {},
   "outputs": [
    {
     "name": "stderr",
     "output_type": "stream",
     "text": [
      "/dvlscratch/SHI/users/hofman/ML/env/lib/python3.6/site-packages/sklearn/preprocessing/label.py:128: DataConversionWarning: A column-vector y was passed when a 1d array was expected. Please change the shape of y to (n_samples, ), for example using ravel().\n",
      "  y = column_or_1d(y, warn=True)\n"
     ]
    },
    {
     "data": {
      "text/plain": [
       "array([2, 1, 3, 2, 2, 3, 3, 2, 1, 3, 2, 3, 3, 2, 1, 1, 2, 1, 2, 2])"
      ]
     },
     "execution_count": 311,
     "metadata": {},
     "output_type": "execute_result"
    }
   ],
   "source": [
    "manual_Y_GT = le.transform(MTPS_data[y_indices])\n",
    "manual_Y_GT[:20]"
   ]
  },
  {
   "cell_type": "markdown",
   "metadata": {},
   "source": [
    "### Neural network"
   ]
  },
  {
   "cell_type": "code",
   "execution_count": 61,
   "metadata": {},
   "outputs": [],
   "source": [
    "history_TPS = {k : [] for k in hist_keys}"
   ]
  },
  {
   "cell_type": "code",
   "execution_count": 62,
   "metadata": {},
   "outputs": [],
   "source": [
    "n_input = len(x_indices)\n",
    "numpy.random.seed(11)\n",
    "\n",
    "# create model\n",
    "model_TPS = Sequential()\n",
    "model_TPS.add(Dense(n_input, input_dim=n_input, activation='sigmoid'))\n",
    "model_TPS.add(Dense(6, activation='sigmoid'))\n",
    "model_TPS.add(Dense(2, activation='sigmoid'))\n",
    "\n",
    "model_TPS.compile(\n",
    "    loss = 'binary_crossentropy', \n",
    "    optimizer = 'adam',  # adam, sgd\n",
    "    metrics = ['accuracy'])"
   ]
  },
  {
   "cell_type": "code",
   "execution_count": null,
   "metadata": {},
   "outputs": [],
   "source": [
    "h = model_TPS.fit(train_X_TPS[:], train_Y_TPS[:], \n",
    "          epochs=1500, \n",
    "          batch_size=32, \n",
    "          verbose=1,\n",
    "          shuffle=True,\n",
    "          #validation_split=0.1)\n",
    "          validation_data=([test_X_TPS, test_Y_TPS]))\n",
    "\n",
    "history_TPS = {k : history_TPS[k] + h.history[k] for k in hist_keys}"
   ]
  },
  {
   "cell_type": "code",
   "execution_count": 66,
   "metadata": {},
   "outputs": [
    {
     "data": {
      "image/png": "[encoded data removed]",
      "text/plain": [
       "<matplotlib.figure.Figure at 0x7fcddabb9cc0>"
      ]
     },
     "metadata": {},
     "output_type": "display_data"
    }
   ],
   "source": [
    "plot(history_TPS)"
   ]
  },
  {
   "cell_type": "code",
   "execution_count": 67,
   "metadata": {},
   "outputs": [],
   "source": [
    "model.save('URZ_model_TPS.h5')"
   ]
  },
  {
   "cell_type": "code",
   "execution_count": 82,
   "metadata": {},
   "outputs": [
    {
     "name": "stdout",
     "output_type": "stream",
     "text": [
      "6902/6902 [==============================] - 0s 8us/step\n"
     ]
    },
    {
     "data": {
      "text/plain": [
       "[0.23861501366115936, 0.895392639900905]"
      ]
     },
     "execution_count": 82,
     "metadata": {},
     "output_type": "execute_result"
    }
   ],
   "source": [
    "model_TPS.evaluate(test_X_TPS, test_Y_TPS)"
   ]
  },
  {
   "cell_type": "markdown",
   "metadata": {},
   "source": [
    "#### Test data confusion matrix"
   ]
  },
  {
   "cell_type": "code",
   "execution_count": 108,
   "metadata": {},
   "outputs": [
    {
     "name": "stdout",
     "output_type": "stream",
     "text": [
      "[[2161  171]\n",
      " [ 547 4023]]\n"
     ]
    }
   ],
   "source": [
    "Y_pred = numpy.reshape(numpy.argmax(model_TPS.predict(test_X_TPS), axis=1), (test_X_TPS.shape[0],1))\n",
    "\n",
    "# calculate confusion matrix\n",
    "conf_mat = confusion_matrix(test_Y_TPS_, Y_pred)\n",
    "print(conf_mat)"
   ]
  },
  {
   "cell_type": "code",
   "execution_count": 109,
   "metadata": {},
   "outputs": [
    {
     "data": {
      "text/plain": [
       "0.11610608020698578"
      ]
     },
     "execution_count": 109,
     "metadata": {},
     "output_type": "execute_result"
    }
   ],
   "source": [
    "(547+171)/(2161+4023)"
   ]
  },
  {
   "cell_type": "markdown",
   "metadata": {},
   "source": [
    "#### Just for curiosity -  Manual associations confusion matrix"
   ]
  },
  {
   "cell_type": "code",
   "execution_count": 104,
   "metadata": {},
   "outputs": [
    {
     "name": "stdout",
     "output_type": "stream",
     "text": [
      "[[1822  180]\n",
      " [ 983 3021]]\n"
     ]
    }
   ],
   "source": [
    "Y_pred_man = numpy.argmax(model_TPS.predict(manual_X), axis=1)\n",
    "\n",
    "# calculate confusion matrix\n",
    "conf_mat = confusion_matrix(manual_Y_TPS_, Y_pred_man)\n",
    "print(conf_mat)"
   ]
  },
  {
   "cell_type": "markdown",
   "metadata": {},
   "source": [
    "# Neural network T vs regP \n",
    "\n",
    "* we need a new dataset for this"
   ]
  },
  {
   "cell_type": "markdown",
   "metadata": {},
   "source": [
    "### Dataset for T vs regP"
   ]
  },
  {
   "cell_type": "code",
   "execution_count": 87,
   "metadata": {},
   "outputs": [],
   "source": [
    "#exclude regS\n",
    "TP_train = TPS_train[TPS_train['CLASS_PHASE'] != 'regS']\n",
    "TP_test  = TPS_test [TPS_test ['CLASS_PHASE'] != 'regS']"
   ]
  },
  {
   "cell_type": "code",
   "execution_count": 88,
   "metadata": {},
   "outputs": [
    {
     "name": "stdout",
     "output_type": "stream",
     "text": [
      "(13834, 15) (13834, 2) (4570, 15) (4570, 2)\n"
     ]
    }
   ],
   "source": [
    "train_X_TP = TP_train[x_indices].values.astype(float)\n",
    "train_Y_TP = TP_train[y_indices]\n",
    "\n",
    "test_X_TP = TP_test[x_indices].values.astype(float)\n",
    "test_Y_TP = TP_test[y_indices]\n",
    "\n",
    "#regS = 0, T/regP = 1\n",
    "train_Y_TP_ = numpy.array(numpy.where(train_Y_TP['CLASS_PHASE'] == 'regP', 0, 1), dtype=float)\n",
    "test_Y_TP_ = numpy.array(numpy.where(test_Y_TP['CLASS_PHASE'] == 'regP', 0, 1), dtype=float)\n",
    "\n",
    "#convert to categorical\n",
    "train_Y_TP = keras.utils.to_categorical(train_Y_TP_)\n",
    "test_Y_TP = keras.utils.to_categorical(test_Y_TP_)\n",
    "\n",
    "print(train_X_TP.shape, train_Y_TP.shape, test_X_TP.shape, test_Y_TP.shape)"
   ]
  },
  {
   "cell_type": "markdown",
   "metadata": {},
   "source": [
    "### Neural network"
   ]
  },
  {
   "cell_type": "code",
   "execution_count": 94,
   "metadata": {},
   "outputs": [],
   "source": [
    "history_TP = {k : [] for k in hist_keys}"
   ]
  },
  {
   "cell_type": "code",
   "execution_count": 95,
   "metadata": {},
   "outputs": [],
   "source": [
    "n_input = len(x_indices)\n",
    "numpy.random.seed(11)\n",
    "\n",
    "# create model\n",
    "model_TP = Sequential()\n",
    "model_TP.add(Dense(n_input, input_dim=n_input, activation='sigmoid'))\n",
    "model_TP.add(Dense(6, activation='sigmoid'))\n",
    "model_TP.add(Dense(2, activation='sigmoid'))\n",
    "\n",
    "model_TP.compile(\n",
    "    loss = 'binary_crossentropy', \n",
    "    optimizer = 'adam',  # adam, sgd\n",
    "    metrics = ['accuracy'])"
   ]
  },
  {
   "cell_type": "code",
   "execution_count": null,
   "metadata": {},
   "outputs": [],
   "source": [
    "h = model_TP.fit(train_X_TP[:], train_Y_TP[:], \n",
    "          epochs=2000, \n",
    "          batch_size=32, \n",
    "          verbose=1,\n",
    "          shuffle=True,\n",
    "          #validation_split=0.1)\n",
    "          validation_data=([test_X_TP, test_Y_TP]))\n",
    "\n",
    "history_TP = {k : history_TP[k] + h.history[k] for k in hist_keys}"
   ]
  },
  {
   "cell_type": "code",
   "execution_count": 97,
   "metadata": {},
   "outputs": [
    {
     "data": {
      "image/png": "[encoded data removed]",
      "text/plain": [
       "<matplotlib.figure.Figure at 0x7fcdd8ae01d0>"
      ]
     },
     "metadata": {},
     "output_type": "display_data"
    }
   ],
   "source": [
    "plot(history_TP)"
   ]
  },
  {
   "cell_type": "code",
   "execution_count": 98,
   "metadata": {},
   "outputs": [],
   "source": [
    "model.save('URZ_model_TP.h5')"
   ]
  },
  {
   "cell_type": "code",
   "execution_count": 100,
   "metadata": {},
   "outputs": [
    {
     "name": "stdout",
     "output_type": "stream",
     "text": [
      "4570/4570 [==============================] - 0s 8us/step\n"
     ]
    },
    {
     "data": {
      "text/plain": [
       "[0.4463778110119133, 0.8004376368136583]"
      ]
     },
     "execution_count": 100,
     "metadata": {},
     "output_type": "execute_result"
    }
   ],
   "source": [
    "model_TP.evaluate(test_X_TP, test_Y_TP)"
   ]
  },
  {
   "cell_type": "markdown",
   "metadata": {},
   "source": [
    "#### Test data confusion matrix"
   ]
  },
  {
   "cell_type": "code",
   "execution_count": 103,
   "metadata": {},
   "outputs": [
    {
     "name": "stdout",
     "output_type": "stream",
     "text": [
      "[[1796  446]\n",
      " [ 466 1862]]\n"
     ]
    }
   ],
   "source": [
    "Y_pred = numpy.reshape(numpy.argmax(model_TP.predict(test_X_TP), axis=1), (test_X_TP.shape[0],1))\n",
    "\n",
    "# calculate confusion matrix\n",
    "conf_mat = confusion_matrix(test_Y_TP_, Y_pred)\n",
    "print(conf_mat)"
   ]
  },
  {
   "cell_type": "code",
   "execution_count": null,
   "metadata": {},
   "outputs": [],
   "source": []
  },
  {
   "cell_type": "markdown",
   "metadata": {},
   "source": [
    "# Cascade of all three models"
   ]
  },
  {
   "cell_type": "code",
   "execution_count": 110,
   "metadata": {},
   "outputs": [],
   "source": [
    "from keras.models import load_model"
   ]
  },
  {
   "cell_type": "code",
   "execution_count": 111,
   "metadata": {},
   "outputs": [],
   "source": [
    "model_NTPS = load_model('URZ_model_NTPS.h5')\n",
    "model_STP = load_model('URZ_model_TPS.h5')\n",
    "model_PT = load_model('URZ_model_TP.h5')"
   ]
  },
  {
   "cell_type": "code",
   "execution_count": 224,
   "metadata": {},
   "outputs": [],
   "source": [
    "def predict_iwt(X, stage=0):\n",
    "    \"\"\"\n",
    "    predicts initial wave type for given featrue vectors\n",
    "    Class encoding generated by sklearn Label Encoder\n",
    "    0 - noise\n",
    "    2 - regS \n",
    "    1 - regP\n",
    "    3 - T\n",
    "    \"\"\"\n",
    "    Y = numpy.arange(X.shape[0])\n",
    "    \n",
    "    N_indices = None\n",
    "    S_indices = None \n",
    "    \n",
    "    if stage >= 1:\n",
    "        N_indices = [False] * X.shape[0]\n",
    "        X_PTS = X\n",
    "        Y_NPTS = numpy.ones(X.shape[0])\n",
    "    if stage >= 2:\n",
    "        S_indices =  [False] * X.shape[0]  # numpy.array([])\n",
    "        X_PT = X\n",
    "        Y_PTS = numpy.ones(X.shape[0])\n",
    "        \n",
    "    \n",
    "    \"\"\"\n",
    "    N vs regS, regP, T\n",
    "    \"\"\"\n",
    "    if N_indices is None:\n",
    "        #predict N vs T,regP,regS\n",
    "        Y_NPTS = numpy.argmax(model_NTPS.predict(X), axis=1)\n",
    "        #set which are noise\n",
    "        N_indices = Y[Y_NPTS == 0]  #  = 0\n",
    "        #get candidates for TPS\n",
    "        X_PTS = X[Y_NPTS > 0]\n",
    "    else:\n",
    "        print('Skipping N, classifying TPS only')\n",
    "\n",
    "    \"\"\"\n",
    "    regS vs regP, T\n",
    "    \"\"\"\n",
    "    if S_indices is None:    \n",
    "        #predict regS vs T,regP\n",
    "        Y_PTS = numpy.argmax(model_TPS.predict(X_PTS), axis=1)\n",
    "        #set which are regS\n",
    "        S_indices = Y[Y_NPTS > 0][Y_PTS == 0]  # = 2\n",
    "        #get candidates for regP,T\n",
    "        X_PT = X_PTS[Y_PTS > 0]\n",
    "    else:\n",
    "        print('Skipping N, regS, classifying TP only')\n",
    "\n",
    "    \"\"\"\n",
    "    regP vs T\n",
    "    \"\"\"\n",
    "    #predict regP vs T\n",
    "    Y_PT = numpy.argmax(model_TP.predict(X_PT), axis=1)\n",
    "    #set which are regP\n",
    "    P_indices = Y[Y_NPTS > 0][Y_PTS > 0][Y_PT == 0]  # = 1    \n",
    "    #set which are T\n",
    "    T_indices = Y[Y_NPTS > 0][Y_PTS > 0][Y_PT > 0]   # = 3\n",
    "    #get those which are T\n",
    "    X_T = X_PT[Y_PT > 0]\n",
    "    \n",
    "    Y[N_indices] = 0 # N\n",
    "    Y[S_indices] = 2 # regS\n",
    "    Y[P_indices] = 1 # regP \n",
    "    Y[T_indices] = 3 # tele\n",
    "    \n",
    "    return Y\n",
    "    "
   ]
  },
  {
   "cell_type": "code",
   "execution_count": 231,
   "metadata": {},
   "outputs": [],
   "source": [
    "Y = predict_iwt(test_X)"
   ]
  },
  {
   "cell_type": "markdown",
   "metadata": {},
   "source": [
    "### Overall confusion matrix for test data"
   ]
  },
  {
   "cell_type": "code",
   "execution_count": 232,
   "metadata": {},
   "outputs": [
    {
     "data": {
      "text/plain": [
       "((13804, 15), (13804,), (13804,))"
      ]
     },
     "execution_count": 232,
     "metadata": {},
     "output_type": "execute_result"
    }
   ],
   "source": [
    "test_X.shape, Y.shape, test_Y_GT.shape"
   ]
  },
  {
   "cell_type": "code",
   "execution_count": 233,
   "metadata": {},
   "outputs": [
    {
     "name": "stdout",
     "output_type": "stream",
     "text": [
      "[[5697  180  541  244]\n",
      " [ 375 1671   16  410]\n",
      " [ 599   20 1665  425]\n",
      " [ 231  371  110 1249]]\n"
     ]
    }
   ],
   "source": [
    "C = confusion_matrix(Y, test_Y_GT)\n",
    "print(C)"
   ]
  },
  {
   "cell_type": "code",
   "execution_count": 234,
   "metadata": {},
   "outputs": [
    {
     "name": "stdout",
     "output_type": "stream",
     "text": [
      "Accuracy: 74.49%\n"
     ]
    }
   ],
   "source": [
    "diagsum = numpy.diag(C).sum()\n",
    "accuracy = diagsum/C.sum()\n",
    "print('Accuracy: %3.2f%%' % (accuracy*100))"
   ]
  },
  {
   "cell_type": "markdown",
   "metadata": {},
   "source": [
    "### Test data just regS, regP, T - not to be confused with overall statistics on all arrivals in our DB"
   ]
  },
  {
   "cell_type": "code",
   "execution_count": 300,
   "metadata": {},
   "outputs": [],
   "source": [
    "test_TPS = test[test['CLASS_PHASE'] != 'N']\n",
    "test_TPS_X = test_TPS[x_indices]\n",
    "test_TPS_pred_Y = predict_iwt(test_TPS_X)\n",
    "test_TPS_truth_Y = le.transform(test_TPS['CLASS_PHASE'])\n",
    "test_TPS_iphase_Y = le.transform(test_TPS['CLASS_IPHASE'])"
   ]
  },
  {
   "cell_type": "code",
   "execution_count": 301,
   "metadata": {},
   "outputs": [
    {
     "data": {
      "text/plain": [
       "(0, 3)"
      ]
     },
     "execution_count": 301,
     "metadata": {},
     "output_type": "execute_result"
    }
   ],
   "source": [
    "test_TPS_iphase_Y.min(), test_TPS_iphase_Y.max()"
   ]
  },
  {
   "cell_type": "code",
   "execution_count": 302,
   "metadata": {
    "scrolled": true
   },
   "outputs": [
    {
     "name": "stdout",
     "output_type": "stream",
     "text": [
      "IPHASE:\n",
      "[[   0  302  800  390]\n",
      " [   0 1673  155  531]\n",
      " [   0   65 1350  377]\n",
      " [   0  202   27 1030]]\n",
      "Accuracy: 58.72%\n"
     ]
    }
   ],
   "source": [
    "print('IPHASE:')\n",
    "C = confusion_matrix(test_TPS_iphase_Y, test_TPS_truth_Y)\n",
    "print(C)\n",
    "diagsum = numpy.diag(C).sum()\n",
    "accuracy = diagsum/C.sum()\n",
    "print('Accuracy: %3.2f%%' % (accuracy*100))"
   ]
  },
  {
   "cell_type": "code",
   "execution_count": 303,
   "metadata": {},
   "outputs": [
    {
     "name": "stdout",
     "output_type": "stream",
     "text": [
      "NEW PREDICTION\n",
      "[[   0  180  541  244]\n",
      " [   0 1671   16  410]\n",
      " [   0   20 1665  425]\n",
      " [   0  371  110 1249]]\n",
      "Accuracy: 66.43%\n"
     ]
    }
   ],
   "source": [
    "print('NEW PREDICTION')\n",
    "C = confusion_matrix(test_TPS_pred_Y, test_TPS_truth_Y)\n",
    "print(C)\n",
    "diagsum = numpy.diag(C).sum()\n",
    "accuracy = diagsum/C.sum()\n",
    "print('Accuracy: %3.2f%%' % (accuracy*100))"
   ]
  },
  {
   "cell_type": "markdown",
   "metadata": {},
   "source": [
    "* current iwt characterized 1492 as NOISE (first row of confusion matrix)\n",
    "* our new iwt characterized 965 as NOISE\n",
    "* after re-training, accuracy on the test set rose from 58.72% to 66.43% for regS, regP and T phases"
   ]
  },
  {
   "cell_type": "code",
   "execution_count": null,
   "metadata": {},
   "outputs": [],
   "source": []
  },
  {
   "cell_type": "markdown",
   "metadata": {},
   "source": [
    "#### ..on train data just to see if it works"
   ]
  },
  {
   "cell_type": "code",
   "execution_count": 235,
   "metadata": {},
   "outputs": [
    {
     "name": "stdout",
     "output_type": "stream",
     "text": [
      "[[17184   576  1487   710]\n",
      " [ 1147  5313    31  1207]\n",
      " [ 1769    27  5116  1057]\n",
      " [  604  1044   236  3900]]\n",
      "Accuracy: 76.10%\n"
     ]
    }
   ],
   "source": [
    "Y = predict_iwt(train_X)\n",
    "C = confusion_matrix(Y, train_Y_GT)\n",
    "print(C)\n",
    "diagsum = numpy.diag(C).sum()\n",
    "accuracy = diagsum/C.sum()\n",
    "print('Accuracy: %3.2f%%' % (accuracy*100))"
   ]
  },
  {
   "cell_type": "markdown",
   "metadata": {},
   "source": [
    "### Overall confusion matrix for all manual associations (no Noise)"
   ]
  },
  {
   "cell_type": "code",
   "execution_count": 236,
   "metadata": {},
   "outputs": [
    {
     "name": "stdout",
     "output_type": "stream",
     "text": [
      "Skipping N, classifying TPS only\n",
      "[[1375   63  447]\n",
      " [ 236 1822  747]\n",
      " [ 391  117  808]]\n"
     ]
    }
   ],
   "source": [
    "C = confusion_matrix(predict_iwt(manual_X, stage=1), manual_Y_GT)\n",
    "print(C)"
   ]
  },
  {
   "cell_type": "code",
   "execution_count": 313,
   "metadata": {},
   "outputs": [
    {
     "name": "stdout",
     "output_type": "stream",
     "text": [
      "Accuracy: 66.43%\n"
     ]
    }
   ],
   "source": [
    "diagsum = numpy.diag(C).sum()\n",
    "accuracy = diagsum/C.sum()\n",
    "print('Accuracy: %3.2f%%' % (accuracy*100))"
   ]
  },
  {
   "cell_type": "code",
   "execution_count": null,
   "metadata": {},
   "outputs": [],
   "source": [
    "\n",
    "\n",
    "\n"
   ]
  },
  {
   "cell_type": "code",
   "execution_count": 319,
   "metadata": {},
   "outputs": [],
   "source": [
    "w = model_TP.get_weights()"
   ]
  },
  {
   "cell_type": "code",
   "execution_count": 320,
   "metadata": {},
   "outputs": [
    {
     "data": {
      "text/plain": [
       "6"
      ]
     },
     "execution_count": 320,
     "metadata": {},
     "output_type": "execute_result"
    }
   ],
   "source": [
    "len(w)"
   ]
  },
  {
   "cell_type": "code",
   "execution_count": 321,
   "metadata": {},
   "outputs": [
    {
     "name": "stdout",
     "output_type": "stream",
     "text": [
      "(15, 15)\n",
      "(15,)\n",
      "(15, 6)\n",
      "(6,)\n",
      "(6, 2)\n",
      "(2,)\n"
     ]
    }
   ],
   "source": [
    "for i in w:\n",
    "    print(i.shape)"
   ]
  },
  {
   "cell_type": "code",
   "execution_count": 322,
   "metadata": {},
   "outputs": [
    {
     "data": {
      "text/plain": [
       "array([-1.9156849 , -7.482725  , -0.5093739 , -1.1804483 , -0.46103612,\n",
       "       -3.4451427 , -4.624049  , -1.8565172 , -3.8568826 , -1.7081503 ,\n",
       "       -1.6804968 , -3.1959276 ,  1.5040158 ,  0.6436897 ,  0.1488659 ],\n",
       "      dtype=float32)"
      ]
     },
     "execution_count": 322,
     "metadata": {},
     "output_type": "execute_result"
    }
   ],
   "source": [
    "w[1]"
   ]
  },
  {
   "cell_type": "code",
   "execution_count": 323,
   "metadata": {},
   "outputs": [
    {
     "data": {
      "text/plain": [
       "array([[-2.69403100e+00,  8.15219688e+00, -8.25897574e-01,\n",
       "        -6.72929049e+00,  7.01974344e+00,  5.24204874e+00],\n",
       "       [-4.08753920e+00, -4.50710630e+00,  1.47103417e+00,\n",
       "        -6.32134819e+00,  5.36237764e+00, -1.31437242e+00],\n",
       "       [-1.55313930e-04,  1.34141278e+00, -9.79612470e-02,\n",
       "         1.55474281e+00,  1.20486653e+00, -2.02475476e+00],\n",
       "       [-3.62907171e+00, -6.33054376e-01,  1.84458506e+00,\n",
       "         9.18731630e-01, -1.48554242e+00,  1.86126709e+00],\n",
       "       [-4.35659361e+00, -4.73367834e+00, -5.37676334e+00,\n",
       "         1.21553822e+01, -4.00206184e+00,  1.38679051e+00],\n",
       "       [ 2.18719292e+00,  4.39892054e+00,  2.03086376e+00,\n",
       "         4.24924374e+00, -3.71354318e+00,  1.55634582e+00],\n",
       "       [-6.06185579e+00,  1.01944721e+00, -3.17323589e+00,\n",
       "        -2.31359601e+00,  2.04817891e+00,  2.38954425e+00],\n",
       "       [-6.92327082e-01, -2.06098962e+00, -1.70991015e+00,\n",
       "        -5.01096821e+00, -3.23097497e-01,  1.85229570e-01],\n",
       "       [ 7.04634666e+00, -3.42479920e+00,  4.09795666e+00,\n",
       "         2.96278858e+00, -4.27415371e+00,  3.70892942e-01],\n",
       "       [ 1.89304912e+00, -1.35579526e+00, -9.45291996e-01,\n",
       "        -1.73501134e+00,  2.88506031e+00,  1.16677964e+00],\n",
       "       [ 1.67007816e+00, -1.11157686e-01, -3.38432163e-01,\n",
       "         2.99325705e-01, -9.82118368e-01, -1.78383613e+00],\n",
       "       [-1.49599516e+00, -1.81468785e-01, -4.34346914e+00,\n",
       "         1.74927044e+00,  2.06541920e+00,  1.91089623e-02],\n",
       "       [ 2.92782569e+00,  2.25809717e+00,  1.55102730e+00,\n",
       "        -7.61540234e-02, -2.48322859e-01, -1.29501498e+00],\n",
       "       [-3.87001348e+00,  2.12505007e+00, -7.12342560e-01,\n",
       "        -3.25459933e+00, -1.96670270e+00,  3.13494062e+00],\n",
       "       [ 1.38562641e+01,  1.94330521e+01, -9.80458069e+00,\n",
       "        -6.71291947e-01,  1.21788073e+00, -2.72607946e+00]], dtype=float32)"
      ]
     },
     "execution_count": 323,
     "metadata": {},
     "output_type": "execute_result"
    }
   ],
   "source": [
    "w[2]"
   ]
  },
  {
   "cell_type": "code",
   "execution_count": 324,
   "metadata": {},
   "outputs": [
    {
     "name": "stdout",
     "output_type": "stream",
     "text": [
      "_________________________________________________________________\n",
      "Layer (type)                 Output Shape              Param #   \n",
      "=================================================================\n",
      "dense_13 (Dense)             (None, 15)                240       \n",
      "_________________________________________________________________\n",
      "dense_14 (Dense)             (None, 6)                 96        \n",
      "_________________________________________________________________\n",
      "dense_15 (Dense)             (None, 2)                 14        \n",
      "=================================================================\n",
      "Total params: 350\n",
      "Trainable params: 350\n",
      "Non-trainable params: 0\n",
      "_________________________________________________________________\n"
     ]
    }
   ],
   "source": [
    "model_TP.summary()"
   ]
  },
  {
   "cell_type": "code",
   "execution_count": 325,
   "metadata": {},
   "outputs": [
    {
     "data": {
      "text/plain": [
       "110"
      ]
     },
     "execution_count": 325,
     "metadata": {},
     "output_type": "execute_result"
    }
   ],
   "source": [
    "96+14"
   ]
  },
  {
   "cell_type": "code",
   "execution_count": 326,
   "metadata": {},
   "outputs": [
    {
     "data": {
      "text/plain": [
       "350"
      ]
     },
     "execution_count": 326,
     "metadata": {},
     "output_type": "execute_result"
    }
   ],
   "source": [
    "240+96+14"
   ]
  },
  {
   "cell_type": "code",
   "execution_count": 327,
   "metadata": {},
   "outputs": [
    {
     "data": {
      "text/plain": [
       "array([[-3.01597595e+00, -8.18508044e-02,  1.52870119e+00,\n",
       "        -6.29887533e+00,  1.80457520e+00,  1.44327269e+01,\n",
       "        -2.60007420e+01, -6.74127340e+00,  4.48248386e+00,\n",
       "         2.92190409e+00,  1.52411623e+01, -8.23064709e+00,\n",
       "         8.14872169e+00, -7.53059566e-01,  8.01354885e-01],\n",
       "       [-1.75016212e+00, -5.71796560e+00, -1.35687530e+00,\n",
       "        -6.75490499e-01, -1.55195504e-01, -1.48807585e+00,\n",
       "        -3.76098335e-01,  2.51408076e+00, -2.61477590e+00,\n",
       "         2.90411878e+00, -5.87341452e+00, -2.63240814e+00,\n",
       "         5.97432673e-01, -1.34600198e+00, -4.82064635e-01],\n",
       "       [-1.18698704e+00, -4.08115149e+00, -1.11679244e+00,\n",
       "        -4.48206329e+00, -1.40147650e+00, -1.01238155e+00,\n",
       "        -2.11693382e+00, -4.47798185e-02, -1.54247332e+00,\n",
       "         2.07877636e+00, -6.83318567e+00, -2.48203397e+00,\n",
       "         4.18655968e+00, -1.94576705e+00, -1.81403041e+00],\n",
       "       [-1.12302887e+00, -1.39196086e+00,  6.69629395e-01,\n",
       "        -5.90307593e-01, -3.87449533e-01,  7.37394169e-02,\n",
       "         4.38394360e-02, -1.29436646e-02, -5.37580624e-02,\n",
       "         1.71084162e-02,  1.18198884e+00,  1.00708628e+00,\n",
       "        -4.61068779e-01,  8.05995706e-03, -1.16089475e+00],\n",
       "       [-1.15203214e+00, -5.60742259e-01,  2.23306566e-01,\n",
       "         1.06026106e-01, -1.02385318e+00, -3.24639291e-01,\n",
       "         1.20988205e-01, -2.74225771e-02,  4.86070057e-05,\n",
       "         3.41975354e-02,  8.41983259e-02,  2.45857522e-01,\n",
       "        -3.95939238e-02, -4.50557880e-02, -9.16530371e-01],\n",
       "       [ 4.70845073e-01,  1.61034334e+00, -2.91555017e-01,\n",
       "         1.84815124e-01, -7.30711520e-01, -2.34763646e+00,\n",
       "        -2.65305609e-01,  6.52407646e-01,  2.36182436e-02,\n",
       "         3.50672193e-03, -7.19061017e-01,  1.28539771e-01,\n",
       "         7.84644783e-01,  1.63422506e-02, -5.47095388e-02],\n",
       "       [ 2.36067009e+00,  1.92227340e+00,  8.59921074e+00,\n",
       "         4.43028986e-01,  6.76668584e-01, -4.04543936e-01,\n",
       "        -2.45992281e-02,  2.68337369e-01,  1.85191140e-01,\n",
       "        -1.13129416e+01,  1.45795536e+00, -8.41400146e-01,\n",
       "         2.88234562e-01, -1.78980548e-02, -7.71115303e-01],\n",
       "       [ 1.21626966e-01, -1.45194197e+00, -1.35940838e+00,\n",
       "         5.89016342e+00, -2.41672158e+00,  1.73023760e+00,\n",
       "        -2.47174335e+00, -4.67129648e-01, -7.38531798e-02,\n",
       "        -7.55935788e-01, -1.64429343e+00,  9.34912145e-01,\n",
       "         4.24633957e-02, -1.57717124e-01,  6.86292887e-01],\n",
       "       [-2.39723277e+00,  3.08460426e+01, -3.62582817e+01,\n",
       "         4.86605555e-01, -6.45891762e+00, -8.27985096e+00,\n",
       "         2.42159843e+00,  3.11044979e+00, -1.29165382e+01,\n",
       "         1.04352016e+01,  1.10632477e+01,  1.45469303e+01,\n",
       "        -4.14625883e+00,  8.69923770e-01, -4.24438810e+00],\n",
       "       [-1.09931183e+01,  2.31925755e+01, -1.89604797e+01,\n",
       "         2.08817077e+00,  5.00045490e+00, -1.13232603e+01,\n",
       "        -2.02370167e+00, -4.80305052e+00,  2.92314124e+00,\n",
       "         1.37094212e+01, -1.37599945e+00,  1.88348293e+01,\n",
       "         2.87899327e+00,  2.92151737e+01, -4.57022238e+00],\n",
       "       [-6.81383610e-01,  7.97421336e-02, -3.81547511e-01,\n",
       "         2.00547546e-01, -3.96450281e-01, -1.30632329e+00,\n",
       "        -2.35778615e-01,  7.20769390e-02,  2.46492416e-01,\n",
       "        -3.57693583e-02,  3.55448271e-03,  2.47294053e-01,\n",
       "        -1.16556555e-01, -1.88353419e-01,  9.30388033e-01],\n",
       "       [ 2.26515561e-01,  2.59434491e-01,  4.85718346e+00,\n",
       "         2.12839675e+00, -1.94887936e+00,  7.40738451e-01,\n",
       "        -2.98225395e-02, -2.49553412e-01, -2.92142630e-01,\n",
       "         8.11622560e-01, -4.04528052e-01,  1.23731244e+00,\n",
       "         1.91881716e-01,  2.69734133e-02,  3.65085185e-01],\n",
       "       [-9.63266909e-01, -3.07385087e-01,  5.72425747e+00,\n",
       "         1.25320363e+00,  4.19271380e-01,  3.45478088e-01,\n",
       "         3.66527110e-01, -2.07568873e-02,  2.25263253e-01,\n",
       "        -4.45527363e+00, -1.03094280e+00,  1.21809161e+00,\n",
       "         3.01033795e-01,  1.70113468e+00, -2.33521268e-01],\n",
       "       [ 7.46220767e-01,  1.95463347e+00,  4.54661578e-01,\n",
       "         1.97328161e-02,  3.46401572e-01,  3.44103128e-01,\n",
       "         3.41996819e-01,  8.61742401e+00,  8.88042033e-01,\n",
       "         6.97435737e-02, -1.88776553e-01, -7.61495590e-01,\n",
       "        -9.64655995e-01,  4.55027252e-01, -9.99974012e-02],\n",
       "       [-7.41903067e-01, -3.05968714e+00,  6.69936609e+00,\n",
       "         1.07834530e+01, -2.36801457e+00,  2.75313091e+00,\n",
       "         1.45631421e+00,  7.80695534e+00,  1.68183613e+01,\n",
       "         1.06320572e+00,  1.20987439e+00, -5.17578304e-01,\n",
       "        -3.91366816e+00, -4.69519711e+00,  2.86430418e-01]], dtype=float32)"
      ]
     },
     "execution_count": 327,
     "metadata": {},
     "output_type": "execute_result"
    }
   ],
   "source": [
    "w[0]"
   ]
  },
  {
   "cell_type": "code",
   "execution_count": 328,
   "metadata": {},
   "outputs": [
    {
     "data": {
      "text/plain": [
       "(15, 15)"
      ]
     },
     "execution_count": 328,
     "metadata": {},
     "output_type": "execute_result"
    }
   ],
   "source": [
    "w[0].shape"
   ]
  },
  {
   "cell_type": "code",
   "execution_count": 329,
   "metadata": {},
   "outputs": [
    {
     "data": {
      "text/plain": [
       "[{'class_name': 'Dense',\n",
       "  'config': {'activation': 'sigmoid',\n",
       "   'activity_regularizer': None,\n",
       "   'batch_input_shape': (None, 15),\n",
       "   'bias_constraint': None,\n",
       "   'bias_initializer': {'class_name': 'Zeros', 'config': {}},\n",
       "   'bias_regularizer': None,\n",
       "   'dtype': 'float32',\n",
       "   'kernel_constraint': None,\n",
       "   'kernel_initializer': {'class_name': 'VarianceScaling',\n",
       "    'config': {'distribution': 'uniform',\n",
       "     'mode': 'fan_avg',\n",
       "     'scale': 1.0,\n",
       "     'seed': None}},\n",
       "   'kernel_regularizer': None,\n",
       "   'name': 'dense_1',\n",
       "   'trainable': True,\n",
       "   'units': 15,\n",
       "   'use_bias': True}},\n",
       " {'class_name': 'Dense',\n",
       "  'config': {'activation': 'sigmoid',\n",
       "   'activity_regularizer': None,\n",
       "   'bias_constraint': None,\n",
       "   'bias_initializer': {'class_name': 'Zeros', 'config': {}},\n",
       "   'bias_regularizer': None,\n",
       "   'kernel_constraint': None,\n",
       "   'kernel_initializer': {'class_name': 'VarianceScaling',\n",
       "    'config': {'distribution': 'uniform',\n",
       "     'mode': 'fan_avg',\n",
       "     'scale': 1.0,\n",
       "     'seed': None}},\n",
       "   'kernel_regularizer': None,\n",
       "   'name': 'dense_2',\n",
       "   'trainable': True,\n",
       "   'units': 6,\n",
       "   'use_bias': True}},\n",
       " {'class_name': 'Dense',\n",
       "  'config': {'activation': 'sigmoid',\n",
       "   'activity_regularizer': None,\n",
       "   'bias_constraint': None,\n",
       "   'bias_initializer': {'class_name': 'Zeros', 'config': {}},\n",
       "   'bias_regularizer': None,\n",
       "   'kernel_constraint': None,\n",
       "   'kernel_initializer': {'class_name': 'VarianceScaling',\n",
       "    'config': {'distribution': 'uniform',\n",
       "     'mode': 'fan_avg',\n",
       "     'scale': 1.0,\n",
       "     'seed': None}},\n",
       "   'kernel_regularizer': None,\n",
       "   'name': 'dense_3',\n",
       "   'trainable': True,\n",
       "   'units': 2,\n",
       "   'use_bias': True}}]"
      ]
     },
     "execution_count": 329,
     "metadata": {},
     "output_type": "execute_result"
    }
   ],
   "source": [
    "model.get_config()"
   ]
  },
  {
   "cell_type": "code",
   "execution_count": null,
   "metadata": {},
   "outputs": [],
   "source": []
  }
 ],
 "metadata": {
  "kernelspec": {
   "display_name": "Python 3",
   "language": "python",
   "name": "python3"
  },
  "language_info": {
   "codemirror_mode": {
    "name": "ipython",
    "version": 3
   },
   "file_extension": ".py",
   "mimetype": "text/x-python",
   "name": "python",
   "nbconvert_exporter": "python",
   "pygments_lexer": "ipython3",
   "version": "3.6.3"
  }
 },
 "nbformat": 4,
 "nbformat_minor": 2
}
