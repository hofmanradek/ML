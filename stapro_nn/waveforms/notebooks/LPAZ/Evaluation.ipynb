{
 "cells": [
  {
   "cell_type": "code",
   "execution_count": 1,
   "metadata": {},
   "outputs": [
    {
     "name": "stderr",
     "output_type": "stream",
     "text": [
      "/dvlscratch/SHI/users/hofman/ML/venv3.6/lib/python3.6/site-packages/h5py/__init__.py:36: FutureWarning: Conversion of the second argument of issubdtype from `float` to `np.floating` is deprecated. In future, it will be treated as `np.float64 == np.dtype(float).type`.\n",
      "  from ._conv import register_converters as _register_converters\n",
      "Using Theano backend.\n"
     ]
    }
   ],
   "source": [
    "import os\n",
    "import numpy\n",
    "import scipy.io\n",
    "import pandas as pd\n",
    "import matplotlib.pyplot as plt\n",
    "import keras"
   ]
  },
  {
   "cell_type": "code",
   "execution_count": 3,
   "metadata": {},
   "outputs": [],
   "source": [
    "STA = 'LPAZ'"
   ]
  },
  {
   "cell_type": "code",
   "execution_count": 5,
   "metadata": {},
   "outputs": [],
   "source": [
    "#load data from oracle do pandas\n",
    "#connect to udb\n",
    "with open(os.path.join('/','home','hofman','.dbp.txt'), 'r') as f: password_old = f.read().strip()\n",
    "import cx_Oracle\n",
    "connection = cx_Oracle.connect('hofman', password_old, 'udb')"
   ]
  },
  {
   "cell_type": "code",
   "execution_count": 6,
   "metadata": {},
   "outputs": [],
   "source": [
    "from datetime import datetime as dt\n",
    "ts_2017 = dt(2017,1,1,0,0,0).timestamp()\n",
    "ts_2018 = dt(2018,1,1,0,0,0).timestamp()\n",
    "ts_2019 = dt(2019,1,1,0,0,0).timestamp()"
   ]
  },
  {
   "cell_type": "code",
   "execution_count": 42,
   "metadata": {},
   "outputs": [],
   "source": [
    "query = f\"select * from EVAL_QANDEF\"   ## where sta='{STA}'\"\n",
    "df_all = pd.read_sql(query, con=connection)"
   ]
  },
  {
   "cell_type": "code",
   "execution_count": 43,
   "metadata": {},
   "outputs": [
    {
     "data": {
      "text/plain": [
       "(48070, 12)"
      ]
     },
     "execution_count": 43,
     "metadata": {},
     "output_type": "execute_result"
    }
   ],
   "source": [
    "df_all.shape"
   ]
  },
  {
   "cell_type": "code",
   "execution_count": 45,
   "metadata": {},
   "outputs": [
    {
     "data": {
      "text/html": [
       "<div>\n",
       "<style scoped>\n",
       "    .dataframe tbody tr th:only-of-type {\n",
       "        vertical-align: middle;\n",
       "    }\n",
       "\n",
       "    .dataframe tbody tr th {\n",
       "        vertical-align: top;\n",
       "    }\n",
       "\n",
       "    .dataframe thead th {\n",
       "        text-align: right;\n",
       "    }\n",
       "</style>\n",
       "<table border=\"1\" class=\"dataframe\">\n",
       "  <thead>\n",
       "    <tr style=\"text-align: right;\">\n",
       "      <th></th>\n",
       "      <th>ARID_ODB</th>\n",
       "      <th>TIME_ODB</th>\n",
       "      <th>AZI_ODB</th>\n",
       "      <th>IPHASE_QANDEF</th>\n",
       "      <th>IPHASE_ODB</th>\n",
       "      <th>ASSOC_PHASE</th>\n",
       "      <th>CLASS_IPHASE_QANDEF</th>\n",
       "      <th>CLASS_IPHASE_ODB</th>\n",
       "      <th>CLASS_PHASE_ODB</th>\n",
       "      <th>NCLS_IPHASE_QANDEF</th>\n",
       "      <th>NCLS_IPHASE_ODB</th>\n",
       "      <th>NCLS_PHASE_ODB</th>\n",
       "    </tr>\n",
       "  </thead>\n",
       "  <tbody>\n",
       "    <tr>\n",
       "      <th>0</th>\n",
       "      <td>130466587</td>\n",
       "      <td>1.520198e+09</td>\n",
       "      <td>6.470828</td>\n",
       "      <td>P</td>\n",
       "      <td>Pn</td>\n",
       "      <td>None</td>\n",
       "      <td>T</td>\n",
       "      <td>regP</td>\n",
       "      <td>N</td>\n",
       "      <td>1</td>\n",
       "      <td>2</td>\n",
       "      <td>0</td>\n",
       "    </tr>\n",
       "    <tr>\n",
       "      <th>1</th>\n",
       "      <td>130466588</td>\n",
       "      <td>1.520198e+09</td>\n",
       "      <td>5.636480</td>\n",
       "      <td>P</td>\n",
       "      <td>Pn</td>\n",
       "      <td>None</td>\n",
       "      <td>T</td>\n",
       "      <td>regP</td>\n",
       "      <td>N</td>\n",
       "      <td>1</td>\n",
       "      <td>2</td>\n",
       "      <td>0</td>\n",
       "    </tr>\n",
       "    <tr>\n",
       "      <th>2</th>\n",
       "      <td>130466904</td>\n",
       "      <td>1.520199e+09</td>\n",
       "      <td>154.610430</td>\n",
       "      <td>P</td>\n",
       "      <td>P</td>\n",
       "      <td>None</td>\n",
       "      <td>T</td>\n",
       "      <td>T</td>\n",
       "      <td>N</td>\n",
       "      <td>1</td>\n",
       "      <td>1</td>\n",
       "      <td>0</td>\n",
       "    </tr>\n",
       "    <tr>\n",
       "      <th>3</th>\n",
       "      <td>130467276</td>\n",
       "      <td>1.520201e+09</td>\n",
       "      <td>282.437680</td>\n",
       "      <td>P</td>\n",
       "      <td>P</td>\n",
       "      <td>None</td>\n",
       "      <td>T</td>\n",
       "      <td>T</td>\n",
       "      <td>N</td>\n",
       "      <td>1</td>\n",
       "      <td>1</td>\n",
       "      <td>0</td>\n",
       "    </tr>\n",
       "    <tr>\n",
       "      <th>4</th>\n",
       "      <td>130467277</td>\n",
       "      <td>1.520201e+09</td>\n",
       "      <td>168.726310</td>\n",
       "      <td>P</td>\n",
       "      <td>P</td>\n",
       "      <td>None</td>\n",
       "      <td>T</td>\n",
       "      <td>T</td>\n",
       "      <td>N</td>\n",
       "      <td>1</td>\n",
       "      <td>1</td>\n",
       "      <td>0</td>\n",
       "    </tr>\n",
       "  </tbody>\n",
       "</table>\n",
       "</div>"
      ],
      "text/plain": [
       "    ARID_ODB      TIME_ODB     AZI_ODB IPHASE_QANDEF IPHASE_ODB ASSOC_PHASE  \\\n",
       "0  130466587  1.520198e+09    6.470828             P         Pn        None   \n",
       "1  130466588  1.520198e+09    5.636480             P         Pn        None   \n",
       "2  130466904  1.520199e+09  154.610430             P          P        None   \n",
       "3  130467276  1.520201e+09  282.437680             P          P        None   \n",
       "4  130467277  1.520201e+09  168.726310             P          P        None   \n",
       "\n",
       "  CLASS_IPHASE_QANDEF CLASS_IPHASE_ODB CLASS_PHASE_ODB  NCLS_IPHASE_QANDEF  \\\n",
       "0                   T             regP               N                   1   \n",
       "1                   T             regP               N                   1   \n",
       "2                   T                T               N                   1   \n",
       "3                   T                T               N                   1   \n",
       "4                   T                T               N                   1   \n",
       "\n",
       "   NCLS_IPHASE_ODB  NCLS_PHASE_ODB  \n",
       "0                2               0  \n",
       "1                2               0  \n",
       "2                1               0  \n",
       "3                1               0  \n",
       "4                1               0  "
      ]
     },
     "execution_count": 45,
     "metadata": {},
     "output_type": "execute_result"
    }
   ],
   "source": [
    "df_all.head()"
   ]
  },
  {
   "cell_type": "code",
   "execution_count": 46,
   "metadata": {},
   "outputs": [],
   "source": [
    "import warnings\n",
    "\n",
    "with warnings.catch_warnings():\n",
    "    warnings.simplefilter(\"ignore\")\n",
    "    NCLS_IPHASE_QANDEF = df_all['NCLS_IPHASE_QANDEF'].as_matrix()\n",
    "    NCLS_IPHASE_ODB = df_all['NCLS_IPHASE_ODB'].as_matrix()\n",
    "    NCLS_PHASE_ODB = df_all['NCLS_PHASE_ODB'].as_matrix()"
   ]
  },
  {
   "cell_type": "code",
   "execution_count": 47,
   "metadata": {},
   "outputs": [
    {
     "data": {
      "text/plain": [
       "(0, 3)"
      ]
     },
     "execution_count": 47,
     "metadata": {},
     "output_type": "execute_result"
    }
   ],
   "source": [
    "NCLS_PHASE_ODB.min(), NCLS_PHASE_ODB.max()"
   ]
  },
  {
   "cell_type": "code",
   "execution_count": 48,
   "metadata": {},
   "outputs": [
    {
     "data": {
      "text/html": [
       "<div>\n",
       "<style scoped>\n",
       "    .dataframe tbody tr th:only-of-type {\n",
       "        vertical-align: middle;\n",
       "    }\n",
       "\n",
       "    .dataframe tbody tr th {\n",
       "        vertical-align: top;\n",
       "    }\n",
       "\n",
       "    .dataframe thead th {\n",
       "        text-align: right;\n",
       "    }\n",
       "</style>\n",
       "<table border=\"1\" class=\"dataframe\">\n",
       "  <thead>\n",
       "    <tr style=\"text-align: right;\">\n",
       "      <th></th>\n",
       "      <th>ARID_ODB</th>\n",
       "      <th>TIME_ODB</th>\n",
       "      <th>AZI_ODB</th>\n",
       "      <th>IPHASE_QANDEF</th>\n",
       "      <th>IPHASE_ODB</th>\n",
       "      <th>ASSOC_PHASE</th>\n",
       "      <th>CLASS_IPHASE_QANDEF</th>\n",
       "      <th>CLASS_IPHASE_ODB</th>\n",
       "      <th>CLASS_PHASE_ODB</th>\n",
       "      <th>NCLS_IPHASE_QANDEF</th>\n",
       "      <th>NCLS_IPHASE_ODB</th>\n",
       "      <th>NCLS_PHASE_ODB</th>\n",
       "    </tr>\n",
       "  </thead>\n",
       "  <tbody>\n",
       "  </tbody>\n",
       "</table>\n",
       "</div>"
      ],
      "text/plain": [
       "Empty DataFrame\n",
       "Columns: [ARID_ODB, TIME_ODB, AZI_ODB, IPHASE_QANDEF, IPHASE_ODB, ASSOC_PHASE, CLASS_IPHASE_QANDEF, CLASS_IPHASE_ODB, CLASS_PHASE_ODB, NCLS_IPHASE_QANDEF, NCLS_IPHASE_ODB, NCLS_PHASE_ODB]\n",
       "Index: []"
      ]
     },
     "execution_count": 48,
     "metadata": {},
     "output_type": "execute_result"
    }
   ],
   "source": [
    "df_all[numpy.isnan(df_all['NCLS_PHASE_ODB'])]\n"
   ]
  },
  {
   "cell_type": "code",
   "execution_count": 49,
   "metadata": {},
   "outputs": [],
   "source": [
    "from sklearn.metrics import confusion_matrix"
   ]
  },
  {
   "cell_type": "code",
   "execution_count": 54,
   "metadata": {},
   "outputs": [],
   "source": [
    "def confmat(x,y):\n",
    "    C = confusion_matrix(x,y)\n",
    "    diagsum = numpy.diag(C).sum()\n",
    "    accuracy = diagsum/C.sum()\n",
    "    print (C)\n",
    "    print('Assoc accuracy: %3.2f%%' % ((numpy.diag(C)[1:].sum())/(C[:,1:].sum())*100))\n",
    "    print('Overal accuracy: %3.2f%%' % (accuracy*100))\n",
    "    print('N phase rate: %3.2f%%' % (C[0,1:].sum()/C[:,1:].sum()*100))"
   ]
  },
  {
   "cell_type": "code",
   "execution_count": 55,
   "metadata": {},
   "outputs": [
    {
     "name": "stdout",
     "output_type": "stream",
     "text": [
      "OLD:\n",
      "[[12263   195     0    14]\n",
      " [24967  2922   129     5]\n",
      " [ 5569   501    73     3]\n",
      " [ 1364    58     0     7]]\n",
      "Assoc accuracy: 76.84%\n",
      "Overal accuracy: 31.76%\n",
      "N phase rate: 5.35%\n",
      "None\n",
      "NEW\n",
      "[[13095   104     0     7]\n",
      " [24902  3030   125     3]\n",
      " [ 4291   408    77     6]\n",
      " [ 1875   134     0    13]]\n",
      "Assoc accuracy: 79.86%\n",
      "Overal accuracy: 33.73%\n",
      "N phase rate: 2.84%\n",
      "None\n"
     ]
    }
   ],
   "source": [
    "#confusion_matrix(y_true, y_pred)\n",
    "print('OLD:')\n",
    "print(confmat(NCLS_IPHASE_ODB, NCLS_PHASE_ODB))\n",
    "\n",
    "print('NEW')\n",
    "print(confmat(NCLS_IPHASE_QANDEF, NCLS_PHASE_ODB))"
   ]
  },
  {
   "cell_type": "code",
   "execution_count": null,
   "metadata": {},
   "outputs": [],
   "source": []
  }
 ],
 "metadata": {
  "kernelspec": {
   "display_name": "Python 3",
   "language": "python",
   "name": "python3"
  },
  "language_info": {
   "codemirror_mode": {
    "name": "ipython",
    "version": 3
   },
   "file_extension": ".py",
   "mimetype": "text/x-python",
   "name": "python",
   "nbconvert_exporter": "python",
   "pygments_lexer": "ipython3",
   "version": "3.6.5"
  }
 },
 "nbformat": 4,
 "nbformat_minor": 2
}
