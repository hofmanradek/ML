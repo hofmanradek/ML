{
 "cells": [
  {
   "cell_type": "markdown",
   "metadata": {},
   "source": [
    "# NN cascade for URZ\n",
    "### With normalization of Features as in iwt_nnet.c : iwt_normalize()\n",
    "\n",
    "* Radek Hofman, Jan 2018"
   ]
  },
  {
   "cell_type": "markdown",
   "metadata": {},
   "source": [
    "### Imports and axiliary functions and stuff"
   ]
  },
  {
   "cell_type": "code",
   "execution_count": 76,
   "metadata": {},
   "outputs": [
    {
     "name": "stdout",
     "output_type": "stream",
     "text": [
      "The sql extension is already loaded. To reload it, use:\n",
      "  %reload_ext sql\n"
     ]
    }
   ],
   "source": [
    "%load_ext sql\n",
    "%matplotlib inline"
   ]
  },
  {
   "cell_type": "code",
   "execution_count": 77,
   "metadata": {},
   "outputs": [],
   "source": [
    "import os\n",
    "import numpy\n",
    "import scipy.io\n",
    "import pandas as pd\n",
    "import matplotlib.pyplot as plt"
   ]
  },
  {
   "cell_type": "code",
   "execution_count": 78,
   "metadata": {},
   "outputs": [],
   "source": [
    "with open(os.path.join('/','home','hofman','.dbp.txt'), 'r') as f: password = f.read().strip()"
   ]
  },
  {
   "cell_type": "code",
   "execution_count": 79,
   "metadata": {},
   "outputs": [
    {
     "data": {
      "text/plain": [
       "'Connected: hofman@udb'"
      ]
     },
     "execution_count": 79,
     "metadata": {},
     "output_type": "execute_result"
    }
   ],
   "source": [
    "query = \"oracle://hofman:%s@mycelium.ctbto.org:1521/udb\" % password\n",
    "%sql $query"
   ]
  },
  {
   "cell_type": "code",
   "execution_count": 80,
   "metadata": {},
   "outputs": [
    {
     "name": "stdout",
     "output_type": "stream",
     "text": [
      "0 rows affected.\n"
     ]
    },
    {
     "data": {
      "text/html": [
       "<table>\n",
       "    <tr>\n",
       "        <th>COUNT(*)</th>\n",
       "    </tr>\n",
       "    <tr>\n",
       "        <td>362407</td>\n",
       "    </tr>\n",
       "</table>"
      ],
      "text/plain": [
       "[(362407,)]"
      ]
     },
     "execution_count": 80,
     "metadata": {},
     "output_type": "execute_result"
    }
   ],
   "source": [
    "% sql select count(*) from ml_features where sta='URZ'"
   ]
  },
  {
   "cell_type": "code",
   "execution_count": 81,
   "metadata": {},
   "outputs": [],
   "source": [
    "def plot(history):\n",
    "    fig = plt.figure()\n",
    "    ax = fig.add_subplot(211)\n",
    "    ax.plot(history['acc'], label='acc')\n",
    "    ax.plot(history['val_acc'], label='val_acc')\n",
    "    ax.set_ylabel('accuracy')\n",
    "    plt.legend(loc='best')\n",
    "    ax = fig.add_subplot(212)\n",
    "    ax.plot(history['loss'], label='loss')\n",
    "    ax.plot(history['val_loss'], label='val_loss')\n",
    "    plt.legend(loc='best')\n",
    "    ax.set_xlabel('epoch')\n",
    "    ax.set_ylabel('loss')"
   ]
  },
  {
   "cell_type": "code",
   "execution_count": 82,
   "metadata": {},
   "outputs": [],
   "source": [
    "#load data from oracle do pandas\n",
    "import cx_Oracle\n",
    "connection = cx_Oracle.connect('hofman', password, 'udb')"
   ]
  },
  {
   "cell_type": "markdown",
   "metadata": {},
   "source": [
    "### What is the misclassification rate now for all arrivals in our DB?\n",
    "\n",
    "* #(class_iphase != class_phase) / (#automatic which are not noise) "
   ]
  },
  {
   "cell_type": "code",
   "execution_count": 83,
   "metadata": {},
   "outputs": [
    {
     "name": "stdout",
     "output_type": "stream",
     "text": [
      "0 rows affected.\n",
      "0 rows affected.\n"
     ]
    }
   ],
   "source": [
    "#select from database required numbers\n",
    "wrong_type = %sql select count(*) from ml_features where sta='URZ' and class_phase != class_iphase\n",
    "total_number = %sql select count(*) from ml_features where sta='URZ' and phase!='N' and source!='M'"
   ]
  },
  {
   "cell_type": "code",
   "execution_count": 84,
   "metadata": {},
   "outputs": [
    {
     "name": "stdout",
     "output_type": "stream",
     "text": [
      "Percentage of misclassified initial wave types: 47.90%\n"
     ]
    }
   ],
   "source": [
    "print('Percentage of misclassified initial wave types: %3.2f%%' % (wrong_type[0][0]/total_number[0][0]*100))"
   ]
  },
  {
   "cell_type": "markdown",
   "metadata": {},
   "source": [
    "### Dataframes per class phase type"
   ]
  },
  {
   "cell_type": "code",
   "execution_count": 85,
   "metadata": {},
   "outputs": [],
   "source": [
    "query = \"\"\"select * from ml_features where sta='URZ' and class_phase='regS'\"\"\"\n",
    "df_S_all = pd.read_sql(query, con=connection)"
   ]
  },
  {
   "cell_type": "code",
   "execution_count": 86,
   "metadata": {},
   "outputs": [
    {
     "data": {
      "text/html": [
       "<div>\n",
       "<style scoped>\n",
       "    .dataframe tbody tr th:only-of-type {\n",
       "        vertical-align: middle;\n",
       "    }\n",
       "\n",
       "    .dataframe tbody tr th {\n",
       "        vertical-align: top;\n",
       "    }\n",
       "\n",
       "    .dataframe thead th {\n",
       "        text-align: right;\n",
       "    }\n",
       "</style>\n",
       "<table border=\"1\" class=\"dataframe\">\n",
       "  <thead>\n",
       "    <tr style=\"text-align: right;\">\n",
       "      <th></th>\n",
       "      <th>ARID</th>\n",
       "      <th>STA</th>\n",
       "      <th>TIME</th>\n",
       "      <th>IPHASE</th>\n",
       "      <th>CLASS_IPHASE</th>\n",
       "      <th>PHASE</th>\n",
       "      <th>CLASS_PHASE</th>\n",
       "      <th>RETIME</th>\n",
       "      <th>SOURCE</th>\n",
       "      <th>PER</th>\n",
       "      <th>...</th>\n",
       "      <th>HMXMN</th>\n",
       "      <th>HVRATP</th>\n",
       "      <th>HVRAT</th>\n",
       "      <th>NAB</th>\n",
       "      <th>TAB</th>\n",
       "      <th>HTOV1</th>\n",
       "      <th>HTOV2</th>\n",
       "      <th>HTOV3</th>\n",
       "      <th>HTOV4</th>\n",
       "      <th>HTOV5</th>\n",
       "    </tr>\n",
       "  </thead>\n",
       "  <tbody>\n",
       "    <tr>\n",
       "      <th>0</th>\n",
       "      <td>25050735</td>\n",
       "      <td>URZ</td>\n",
       "      <td>1.125386e+09</td>\n",
       "      <td>Sx</td>\n",
       "      <td>regS</td>\n",
       "      <td>Sn</td>\n",
       "      <td>regS</td>\n",
       "      <td>1.000</td>\n",
       "      <td>A</td>\n",
       "      <td>0.166667</td>\n",
       "      <td>...</td>\n",
       "      <td>1.526004</td>\n",
       "      <td>0.786459</td>\n",
       "      <td>1.174982</td>\n",
       "      <td>-0.1</td>\n",
       "      <td>-0.27</td>\n",
       "      <td>1.216724</td>\n",
       "      <td>0.363039</td>\n",
       "      <td>2.166968</td>\n",
       "      <td>1.844924</td>\n",
       "      <td>0.626604</td>\n",
       "    </tr>\n",
       "    <tr>\n",
       "      <th>1</th>\n",
       "      <td>25058004</td>\n",
       "      <td>URZ</td>\n",
       "      <td>1.125423e+09</td>\n",
       "      <td>Lg</td>\n",
       "      <td>regS</td>\n",
       "      <td>Sn</td>\n",
       "      <td>regS</td>\n",
       "      <td>1.925</td>\n",
       "      <td>A</td>\n",
       "      <td>0.444444</td>\n",
       "      <td>...</td>\n",
       "      <td>2.762988</td>\n",
       "      <td>15.337161</td>\n",
       "      <td>15.337161</td>\n",
       "      <td>-0.1</td>\n",
       "      <td>-0.31</td>\n",
       "      <td>0.423843</td>\n",
       "      <td>1.384683</td>\n",
       "      <td>0.724611</td>\n",
       "      <td>6.547078</td>\n",
       "      <td>1.569841</td>\n",
       "    </tr>\n",
       "    <tr>\n",
       "      <th>2</th>\n",
       "      <td>25075768</td>\n",
       "      <td>URZ</td>\n",
       "      <td>1.125508e+09</td>\n",
       "      <td>Lg</td>\n",
       "      <td>regS</td>\n",
       "      <td>Sn</td>\n",
       "      <td>regS</td>\n",
       "      <td>1.050</td>\n",
       "      <td>A</td>\n",
       "      <td>0.333333</td>\n",
       "      <td>...</td>\n",
       "      <td>1.395858</td>\n",
       "      <td>1.296030</td>\n",
       "      <td>2.398118</td>\n",
       "      <td>0.0</td>\n",
       "      <td>0.00</td>\n",
       "      <td>0.713705</td>\n",
       "      <td>1.641215</td>\n",
       "      <td>0.940403</td>\n",
       "      <td>1.211333</td>\n",
       "      <td>1.909713</td>\n",
       "    </tr>\n",
       "    <tr>\n",
       "      <th>3</th>\n",
       "      <td>25092371</td>\n",
       "      <td>URZ</td>\n",
       "      <td>1.125587e+09</td>\n",
       "      <td>Sn</td>\n",
       "      <td>regS</td>\n",
       "      <td>Sn</td>\n",
       "      <td>regS</td>\n",
       "      <td>0.175</td>\n",
       "      <td>A</td>\n",
       "      <td>0.166667</td>\n",
       "      <td>...</td>\n",
       "      <td>1.746398</td>\n",
       "      <td>5.561389</td>\n",
       "      <td>2.205452</td>\n",
       "      <td>0.0</td>\n",
       "      <td>0.00</td>\n",
       "      <td>1.155050</td>\n",
       "      <td>0.646231</td>\n",
       "      <td>0.997092</td>\n",
       "      <td>1.326985</td>\n",
       "      <td>4.507104</td>\n",
       "    </tr>\n",
       "    <tr>\n",
       "      <th>4</th>\n",
       "      <td>25094351</td>\n",
       "      <td>URZ</td>\n",
       "      <td>1.125598e+09</td>\n",
       "      <td>Sn</td>\n",
       "      <td>regS</td>\n",
       "      <td>Sn</td>\n",
       "      <td>regS</td>\n",
       "      <td>1.400</td>\n",
       "      <td>A</td>\n",
       "      <td>0.444444</td>\n",
       "      <td>...</td>\n",
       "      <td>2.816413</td>\n",
       "      <td>5.135686</td>\n",
       "      <td>8.557762</td>\n",
       "      <td>0.0</td>\n",
       "      <td>0.00</td>\n",
       "      <td>1.682028</td>\n",
       "      <td>0.309588</td>\n",
       "      <td>2.783780</td>\n",
       "      <td>8.199625</td>\n",
       "      <td>2.007485</td>\n",
       "    </tr>\n",
       "  </tbody>\n",
       "</table>\n",
       "<p>5 rows × 25 columns</p>\n",
       "</div>"
      ],
      "text/plain": [
       "       ARID  STA          TIME IPHASE CLASS_IPHASE PHASE CLASS_PHASE  RETIME  \\\n",
       "0  25050735  URZ  1.125386e+09     Sx         regS    Sn        regS   1.000   \n",
       "1  25058004  URZ  1.125423e+09     Lg         regS    Sn        regS   1.925   \n",
       "2  25075768  URZ  1.125508e+09     Lg         regS    Sn        regS   1.050   \n",
       "3  25092371  URZ  1.125587e+09     Sn         regS    Sn        regS   0.175   \n",
       "4  25094351  URZ  1.125598e+09     Sn         regS    Sn        regS   1.400   \n",
       "\n",
       "  SOURCE       PER    ...        HMXMN     HVRATP      HVRAT  NAB   TAB  \\\n",
       "0      A  0.166667    ...     1.526004   0.786459   1.174982 -0.1 -0.27   \n",
       "1      A  0.444444    ...     2.762988  15.337161  15.337161 -0.1 -0.31   \n",
       "2      A  0.333333    ...     1.395858   1.296030   2.398118  0.0  0.00   \n",
       "3      A  0.166667    ...     1.746398   5.561389   2.205452  0.0  0.00   \n",
       "4      A  0.444444    ...     2.816413   5.135686   8.557762  0.0  0.00   \n",
       "\n",
       "      HTOV1     HTOV2     HTOV3     HTOV4     HTOV5  \n",
       "0  1.216724  0.363039  2.166968  1.844924  0.626604  \n",
       "1  0.423843  1.384683  0.724611  6.547078  1.569841  \n",
       "2  0.713705  1.641215  0.940403  1.211333  1.909713  \n",
       "3  1.155050  0.646231  0.997092  1.326985  4.507104  \n",
       "4  1.682028  0.309588  2.783780  8.199625  2.007485  \n",
       "\n",
       "[5 rows x 25 columns]"
      ]
     },
     "execution_count": 86,
     "metadata": {},
     "output_type": "execute_result"
    }
   ],
   "source": [
    "df_S_all.head()"
   ]
  },
  {
   "cell_type": "code",
   "execution_count": 87,
   "metadata": {},
   "outputs": [],
   "source": [
    "query = \"\"\"select * from ml_features where sta='URZ' and class_phase='regP'\"\"\"\n",
    "df_P_all = pd.read_sql(query, con=connection)"
   ]
  },
  {
   "cell_type": "code",
   "execution_count": 88,
   "metadata": {},
   "outputs": [
    {
     "data": {
      "text/html": [
       "<div>\n",
       "<style scoped>\n",
       "    .dataframe tbody tr th:only-of-type {\n",
       "        vertical-align: middle;\n",
       "    }\n",
       "\n",
       "    .dataframe tbody tr th {\n",
       "        vertical-align: top;\n",
       "    }\n",
       "\n",
       "    .dataframe thead th {\n",
       "        text-align: right;\n",
       "    }\n",
       "</style>\n",
       "<table border=\"1\" class=\"dataframe\">\n",
       "  <thead>\n",
       "    <tr style=\"text-align: right;\">\n",
       "      <th></th>\n",
       "      <th>ARID</th>\n",
       "      <th>STA</th>\n",
       "      <th>TIME</th>\n",
       "      <th>IPHASE</th>\n",
       "      <th>CLASS_IPHASE</th>\n",
       "      <th>PHASE</th>\n",
       "      <th>CLASS_PHASE</th>\n",
       "      <th>RETIME</th>\n",
       "      <th>SOURCE</th>\n",
       "      <th>PER</th>\n",
       "      <th>...</th>\n",
       "      <th>HMXMN</th>\n",
       "      <th>HVRATP</th>\n",
       "      <th>HVRAT</th>\n",
       "      <th>NAB</th>\n",
       "      <th>TAB</th>\n",
       "      <th>HTOV1</th>\n",
       "      <th>HTOV2</th>\n",
       "      <th>HTOV3</th>\n",
       "      <th>HTOV4</th>\n",
       "      <th>HTOV5</th>\n",
       "    </tr>\n",
       "  </thead>\n",
       "  <tbody>\n",
       "    <tr>\n",
       "      <th>0</th>\n",
       "      <td>14972252</td>\n",
       "      <td>URZ</td>\n",
       "      <td>1.069735e+09</td>\n",
       "      <td>Pn</td>\n",
       "      <td>regP</td>\n",
       "      <td>Pn</td>\n",
       "      <td>regP</td>\n",
       "      <td>2.94244</td>\n",
       "      <td>A</td>\n",
       "      <td>0.166667</td>\n",
       "      <td>...</td>\n",
       "      <td>1.542596</td>\n",
       "      <td>0.124299</td>\n",
       "      <td>0.176237</td>\n",
       "      <td>0.1</td>\n",
       "      <td>0.100</td>\n",
       "      <td>0.509125</td>\n",
       "      <td>0.983261</td>\n",
       "      <td>0.619635</td>\n",
       "      <td>0.118464</td>\n",
       "      <td>0.058735</td>\n",
       "    </tr>\n",
       "    <tr>\n",
       "      <th>1</th>\n",
       "      <td>14992929</td>\n",
       "      <td>URZ</td>\n",
       "      <td>1.070059e+09</td>\n",
       "      <td>Pn</td>\n",
       "      <td>regP</td>\n",
       "      <td>Pn</td>\n",
       "      <td>regP</td>\n",
       "      <td>0.00000</td>\n",
       "      <td>A</td>\n",
       "      <td>0.333333</td>\n",
       "      <td>...</td>\n",
       "      <td>1.301846</td>\n",
       "      <td>1.112025</td>\n",
       "      <td>0.258914</td>\n",
       "      <td>0.2</td>\n",
       "      <td>0.245</td>\n",
       "      <td>3.730434</td>\n",
       "      <td>0.738458</td>\n",
       "      <td>0.704325</td>\n",
       "      <td>0.247701</td>\n",
       "      <td>0.060989</td>\n",
       "    </tr>\n",
       "    <tr>\n",
       "      <th>2</th>\n",
       "      <td>15029724</td>\n",
       "      <td>URZ</td>\n",
       "      <td>1.070386e+09</td>\n",
       "      <td>Pn</td>\n",
       "      <td>regP</td>\n",
       "      <td>Pn</td>\n",
       "      <td>regP</td>\n",
       "      <td>0.65000</td>\n",
       "      <td>A</td>\n",
       "      <td>0.166667</td>\n",
       "      <td>...</td>\n",
       "      <td>1.828008</td>\n",
       "      <td>0.132138</td>\n",
       "      <td>0.192003</td>\n",
       "      <td>0.2</td>\n",
       "      <td>0.375</td>\n",
       "      <td>0.629496</td>\n",
       "      <td>0.632947</td>\n",
       "      <td>0.277982</td>\n",
       "      <td>0.542543</td>\n",
       "      <td>0.041916</td>\n",
       "    </tr>\n",
       "    <tr>\n",
       "      <th>3</th>\n",
       "      <td>15031571</td>\n",
       "      <td>URZ</td>\n",
       "      <td>1.070403e+09</td>\n",
       "      <td>Pn</td>\n",
       "      <td>regP</td>\n",
       "      <td>Pn</td>\n",
       "      <td>regP</td>\n",
       "      <td>3.22500</td>\n",
       "      <td>A</td>\n",
       "      <td>0.444444</td>\n",
       "      <td>...</td>\n",
       "      <td>1.375773</td>\n",
       "      <td>0.282216</td>\n",
       "      <td>0.589090</td>\n",
       "      <td>0.1</td>\n",
       "      <td>0.050</td>\n",
       "      <td>0.924411</td>\n",
       "      <td>0.941318</td>\n",
       "      <td>0.304547</td>\n",
       "      <td>0.520954</td>\n",
       "      <td>0.131296</td>\n",
       "    </tr>\n",
       "    <tr>\n",
       "      <th>4</th>\n",
       "      <td>15073977</td>\n",
       "      <td>URZ</td>\n",
       "      <td>1.070752e+09</td>\n",
       "      <td>Pg</td>\n",
       "      <td>regP</td>\n",
       "      <td>Pn</td>\n",
       "      <td>regP</td>\n",
       "      <td>0.00000</td>\n",
       "      <td>A</td>\n",
       "      <td>0.166667</td>\n",
       "      <td>...</td>\n",
       "      <td>3.529159</td>\n",
       "      <td>0.085323</td>\n",
       "      <td>0.486815</td>\n",
       "      <td>0.1</td>\n",
       "      <td>0.290</td>\n",
       "      <td>0.211185</td>\n",
       "      <td>0.225393</td>\n",
       "      <td>0.257161</td>\n",
       "      <td>0.413598</td>\n",
       "      <td>0.287086</td>\n",
       "    </tr>\n",
       "  </tbody>\n",
       "</table>\n",
       "<p>5 rows × 25 columns</p>\n",
       "</div>"
      ],
      "text/plain": [
       "       ARID  STA          TIME IPHASE CLASS_IPHASE PHASE CLASS_PHASE   RETIME  \\\n",
       "0  14972252  URZ  1.069735e+09     Pn         regP    Pn        regP  2.94244   \n",
       "1  14992929  URZ  1.070059e+09     Pn         regP    Pn        regP  0.00000   \n",
       "2  15029724  URZ  1.070386e+09     Pn         regP    Pn        regP  0.65000   \n",
       "3  15031571  URZ  1.070403e+09     Pn         regP    Pn        regP  3.22500   \n",
       "4  15073977  URZ  1.070752e+09     Pg         regP    Pn        regP  0.00000   \n",
       "\n",
       "  SOURCE       PER    ...        HMXMN    HVRATP     HVRAT  NAB    TAB  \\\n",
       "0      A  0.166667    ...     1.542596  0.124299  0.176237  0.1  0.100   \n",
       "1      A  0.333333    ...     1.301846  1.112025  0.258914  0.2  0.245   \n",
       "2      A  0.166667    ...     1.828008  0.132138  0.192003  0.2  0.375   \n",
       "3      A  0.444444    ...     1.375773  0.282216  0.589090  0.1  0.050   \n",
       "4      A  0.166667    ...     3.529159  0.085323  0.486815  0.1  0.290   \n",
       "\n",
       "      HTOV1     HTOV2     HTOV3     HTOV4     HTOV5  \n",
       "0  0.509125  0.983261  0.619635  0.118464  0.058735  \n",
       "1  3.730434  0.738458  0.704325  0.247701  0.060989  \n",
       "2  0.629496  0.632947  0.277982  0.542543  0.041916  \n",
       "3  0.924411  0.941318  0.304547  0.520954  0.131296  \n",
       "4  0.211185  0.225393  0.257161  0.413598  0.287086  \n",
       "\n",
       "[5 rows x 25 columns]"
      ]
     },
     "execution_count": 88,
     "metadata": {},
     "output_type": "execute_result"
    }
   ],
   "source": [
    "df_P_all.head()"
   ]
  },
  {
   "cell_type": "code",
   "execution_count": 89,
   "metadata": {},
   "outputs": [],
   "source": [
    "query = \"\"\"select * from ml_features where sta='URZ' and class_phase='tele'\"\"\"\n",
    "df_T_all = pd.read_sql(query, con=connection)"
   ]
  },
  {
   "cell_type": "code",
   "execution_count": 90,
   "metadata": {},
   "outputs": [
    {
     "data": {
      "text/html": [
       "<div>\n",
       "<style scoped>\n",
       "    .dataframe tbody tr th:only-of-type {\n",
       "        vertical-align: middle;\n",
       "    }\n",
       "\n",
       "    .dataframe tbody tr th {\n",
       "        vertical-align: top;\n",
       "    }\n",
       "\n",
       "    .dataframe thead th {\n",
       "        text-align: right;\n",
       "    }\n",
       "</style>\n",
       "<table border=\"1\" class=\"dataframe\">\n",
       "  <thead>\n",
       "    <tr style=\"text-align: right;\">\n",
       "      <th></th>\n",
       "      <th>ARID</th>\n",
       "      <th>STA</th>\n",
       "      <th>TIME</th>\n",
       "      <th>IPHASE</th>\n",
       "      <th>CLASS_IPHASE</th>\n",
       "      <th>PHASE</th>\n",
       "      <th>CLASS_PHASE</th>\n",
       "      <th>RETIME</th>\n",
       "      <th>SOURCE</th>\n",
       "      <th>PER</th>\n",
       "      <th>...</th>\n",
       "      <th>HMXMN</th>\n",
       "      <th>HVRATP</th>\n",
       "      <th>HVRAT</th>\n",
       "      <th>NAB</th>\n",
       "      <th>TAB</th>\n",
       "      <th>HTOV1</th>\n",
       "      <th>HTOV2</th>\n",
       "      <th>HTOV3</th>\n",
       "      <th>HTOV4</th>\n",
       "      <th>HTOV5</th>\n",
       "    </tr>\n",
       "  </thead>\n",
       "  <tbody>\n",
       "    <tr>\n",
       "      <th>0</th>\n",
       "      <td>28541585</td>\n",
       "      <td>URZ</td>\n",
       "      <td>1.143123e+09</td>\n",
       "      <td>P</td>\n",
       "      <td>tele</td>\n",
       "      <td>P</td>\n",
       "      <td>tele</td>\n",
       "      <td>0.550</td>\n",
       "      <td>A</td>\n",
       "      <td>0.666667</td>\n",
       "      <td>...</td>\n",
       "      <td>1.702892</td>\n",
       "      <td>0.042081</td>\n",
       "      <td>0.042081</td>\n",
       "      <td>0.0</td>\n",
       "      <td>0.000</td>\n",
       "      <td>0.467387</td>\n",
       "      <td>0.594238</td>\n",
       "      <td>0.057473</td>\n",
       "      <td>0.053682</td>\n",
       "      <td>0.463873</td>\n",
       "    </tr>\n",
       "    <tr>\n",
       "      <th>1</th>\n",
       "      <td>28556291</td>\n",
       "      <td>URZ</td>\n",
       "      <td>1.143197e+09</td>\n",
       "      <td>P</td>\n",
       "      <td>tele</td>\n",
       "      <td>P</td>\n",
       "      <td>tele</td>\n",
       "      <td>0.500</td>\n",
       "      <td>A</td>\n",
       "      <td>0.333333</td>\n",
       "      <td>...</td>\n",
       "      <td>1.957241</td>\n",
       "      <td>0.223522</td>\n",
       "      <td>0.223522</td>\n",
       "      <td>0.0</td>\n",
       "      <td>0.000</td>\n",
       "      <td>0.954016</td>\n",
       "      <td>0.705002</td>\n",
       "      <td>1.308694</td>\n",
       "      <td>0.193754</td>\n",
       "      <td>0.114283</td>\n",
       "    </tr>\n",
       "    <tr>\n",
       "      <th>2</th>\n",
       "      <td>28557837</td>\n",
       "      <td>URZ</td>\n",
       "      <td>1.143204e+09</td>\n",
       "      <td>P</td>\n",
       "      <td>tele</td>\n",
       "      <td>P</td>\n",
       "      <td>tele</td>\n",
       "      <td>3.100</td>\n",
       "      <td>A</td>\n",
       "      <td>0.333333</td>\n",
       "      <td>...</td>\n",
       "      <td>1.190828</td>\n",
       "      <td>0.240041</td>\n",
       "      <td>0.613747</td>\n",
       "      <td>0.0</td>\n",
       "      <td>-0.195</td>\n",
       "      <td>0.577677</td>\n",
       "      <td>1.020239</td>\n",
       "      <td>0.372745</td>\n",
       "      <td>0.277075</td>\n",
       "      <td>0.067225</td>\n",
       "    </tr>\n",
       "    <tr>\n",
       "      <th>3</th>\n",
       "      <td>28559193</td>\n",
       "      <td>URZ</td>\n",
       "      <td>1.143210e+09</td>\n",
       "      <td>P</td>\n",
       "      <td>tele</td>\n",
       "      <td>P</td>\n",
       "      <td>tele</td>\n",
       "      <td>0.000</td>\n",
       "      <td>A</td>\n",
       "      <td>0.333333</td>\n",
       "      <td>...</td>\n",
       "      <td>1.531207</td>\n",
       "      <td>0.084376</td>\n",
       "      <td>0.084376</td>\n",
       "      <td>0.1</td>\n",
       "      <td>0.130</td>\n",
       "      <td>0.689514</td>\n",
       "      <td>0.333741</td>\n",
       "      <td>0.336678</td>\n",
       "      <td>0.119060</td>\n",
       "      <td>0.092935</td>\n",
       "    </tr>\n",
       "    <tr>\n",
       "      <th>4</th>\n",
       "      <td>28561877</td>\n",
       "      <td>URZ</td>\n",
       "      <td>1.143223e+09</td>\n",
       "      <td>P</td>\n",
       "      <td>tele</td>\n",
       "      <td>P</td>\n",
       "      <td>tele</td>\n",
       "      <td>0.375</td>\n",
       "      <td>A</td>\n",
       "      <td>0.444444</td>\n",
       "      <td>...</td>\n",
       "      <td>2.808070</td>\n",
       "      <td>0.038871</td>\n",
       "      <td>0.097918</td>\n",
       "      <td>0.1</td>\n",
       "      <td>0.205</td>\n",
       "      <td>0.358785</td>\n",
       "      <td>0.042658</td>\n",
       "      <td>0.127151</td>\n",
       "      <td>0.064076</td>\n",
       "      <td>0.062188</td>\n",
       "    </tr>\n",
       "  </tbody>\n",
       "</table>\n",
       "<p>5 rows × 25 columns</p>\n",
       "</div>"
      ],
      "text/plain": [
       "       ARID  STA          TIME IPHASE CLASS_IPHASE PHASE CLASS_PHASE  RETIME  \\\n",
       "0  28541585  URZ  1.143123e+09      P         tele     P        tele   0.550   \n",
       "1  28556291  URZ  1.143197e+09      P         tele     P        tele   0.500   \n",
       "2  28557837  URZ  1.143204e+09      P         tele     P        tele   3.100   \n",
       "3  28559193  URZ  1.143210e+09      P         tele     P        tele   0.000   \n",
       "4  28561877  URZ  1.143223e+09      P         tele     P        tele   0.375   \n",
       "\n",
       "  SOURCE       PER    ...        HMXMN    HVRATP     HVRAT  NAB    TAB  \\\n",
       "0      A  0.666667    ...     1.702892  0.042081  0.042081  0.0  0.000   \n",
       "1      A  0.333333    ...     1.957241  0.223522  0.223522  0.0  0.000   \n",
       "2      A  0.333333    ...     1.190828  0.240041  0.613747  0.0 -0.195   \n",
       "3      A  0.333333    ...     1.531207  0.084376  0.084376  0.1  0.130   \n",
       "4      A  0.444444    ...     2.808070  0.038871  0.097918  0.1  0.205   \n",
       "\n",
       "      HTOV1     HTOV2     HTOV3     HTOV4     HTOV5  \n",
       "0  0.467387  0.594238  0.057473  0.053682  0.463873  \n",
       "1  0.954016  0.705002  1.308694  0.193754  0.114283  \n",
       "2  0.577677  1.020239  0.372745  0.277075  0.067225  \n",
       "3  0.689514  0.333741  0.336678  0.119060  0.092935  \n",
       "4  0.358785  0.042658  0.127151  0.064076  0.062188  \n",
       "\n",
       "[5 rows x 25 columns]"
      ]
     },
     "execution_count": 90,
     "metadata": {},
     "output_type": "execute_result"
    }
   ],
   "source": [
    "df_T_all.head()"
   ]
  },
  {
   "cell_type": "code",
   "execution_count": 91,
   "metadata": {},
   "outputs": [],
   "source": [
    "query = \"\"\"select * from ml_features where sta='URZ' and class_phase='N'\"\"\"\n",
    "df_N_all = pd.read_sql(query, con=connection)"
   ]
  },
  {
   "cell_type": "code",
   "execution_count": 92,
   "metadata": {},
   "outputs": [
    {
     "data": {
      "text/html": [
       "<div>\n",
       "<style scoped>\n",
       "    .dataframe tbody tr th:only-of-type {\n",
       "        vertical-align: middle;\n",
       "    }\n",
       "\n",
       "    .dataframe tbody tr th {\n",
       "        vertical-align: top;\n",
       "    }\n",
       "\n",
       "    .dataframe thead th {\n",
       "        text-align: right;\n",
       "    }\n",
       "</style>\n",
       "<table border=\"1\" class=\"dataframe\">\n",
       "  <thead>\n",
       "    <tr style=\"text-align: right;\">\n",
       "      <th></th>\n",
       "      <th>ARID</th>\n",
       "      <th>STA</th>\n",
       "      <th>TIME</th>\n",
       "      <th>IPHASE</th>\n",
       "      <th>CLASS_IPHASE</th>\n",
       "      <th>PHASE</th>\n",
       "      <th>CLASS_PHASE</th>\n",
       "      <th>RETIME</th>\n",
       "      <th>SOURCE</th>\n",
       "      <th>PER</th>\n",
       "      <th>...</th>\n",
       "      <th>HMXMN</th>\n",
       "      <th>HVRATP</th>\n",
       "      <th>HVRAT</th>\n",
       "      <th>NAB</th>\n",
       "      <th>TAB</th>\n",
       "      <th>HTOV1</th>\n",
       "      <th>HTOV2</th>\n",
       "      <th>HTOV3</th>\n",
       "      <th>HTOV4</th>\n",
       "      <th>HTOV5</th>\n",
       "    </tr>\n",
       "  </thead>\n",
       "  <tbody>\n",
       "    <tr>\n",
       "      <th>0</th>\n",
       "      <td>13097443</td>\n",
       "      <td>URZ</td>\n",
       "      <td>1.055511e+09</td>\n",
       "      <td>N</td>\n",
       "      <td>N</td>\n",
       "      <td>None</td>\n",
       "      <td>N</td>\n",
       "      <td>0.0</td>\n",
       "      <td>A</td>\n",
       "      <td>0.166667</td>\n",
       "      <td>...</td>\n",
       "      <td>2.948945</td>\n",
       "      <td>9.600216</td>\n",
       "      <td>9.600216</td>\n",
       "      <td>0.0</td>\n",
       "      <td>0.00</td>\n",
       "      <td>0.396880</td>\n",
       "      <td>1.145887</td>\n",
       "      <td>0.421142</td>\n",
       "      <td>0.406116</td>\n",
       "      <td>1.439137</td>\n",
       "    </tr>\n",
       "    <tr>\n",
       "      <th>1</th>\n",
       "      <td>13097727</td>\n",
       "      <td>URZ</td>\n",
       "      <td>1.055513e+09</td>\n",
       "      <td>N</td>\n",
       "      <td>N</td>\n",
       "      <td>None</td>\n",
       "      <td>N</td>\n",
       "      <td>0.0</td>\n",
       "      <td>A</td>\n",
       "      <td>0.444444</td>\n",
       "      <td>...</td>\n",
       "      <td>5.750848</td>\n",
       "      <td>9.726424</td>\n",
       "      <td>3.211865</td>\n",
       "      <td>-0.1</td>\n",
       "      <td>-0.04</td>\n",
       "      <td>0.628241</td>\n",
       "      <td>0.617270</td>\n",
       "      <td>0.890586</td>\n",
       "      <td>2.788352</td>\n",
       "      <td>1.279634</td>\n",
       "    </tr>\n",
       "    <tr>\n",
       "      <th>2</th>\n",
       "      <td>13097728</td>\n",
       "      <td>URZ</td>\n",
       "      <td>1.055513e+09</td>\n",
       "      <td>N</td>\n",
       "      <td>N</td>\n",
       "      <td>None</td>\n",
       "      <td>N</td>\n",
       "      <td>0.0</td>\n",
       "      <td>A</td>\n",
       "      <td>1.000000</td>\n",
       "      <td>...</td>\n",
       "      <td>1.550819</td>\n",
       "      <td>0.163623</td>\n",
       "      <td>12.531935</td>\n",
       "      <td>0.1</td>\n",
       "      <td>0.50</td>\n",
       "      <td>2.625565</td>\n",
       "      <td>0.419386</td>\n",
       "      <td>0.502452</td>\n",
       "      <td>1.093746</td>\n",
       "      <td>0.228218</td>\n",
       "    </tr>\n",
       "    <tr>\n",
       "      <th>3</th>\n",
       "      <td>13097729</td>\n",
       "      <td>URZ</td>\n",
       "      <td>1.055513e+09</td>\n",
       "      <td>N</td>\n",
       "      <td>N</td>\n",
       "      <td>None</td>\n",
       "      <td>N</td>\n",
       "      <td>0.0</td>\n",
       "      <td>A</td>\n",
       "      <td>0.333333</td>\n",
       "      <td>...</td>\n",
       "      <td>2.203439</td>\n",
       "      <td>0.328290</td>\n",
       "      <td>0.511023</td>\n",
       "      <td>-0.1</td>\n",
       "      <td>-0.50</td>\n",
       "      <td>0.532591</td>\n",
       "      <td>1.455946</td>\n",
       "      <td>0.672186</td>\n",
       "      <td>0.730198</td>\n",
       "      <td>0.130826</td>\n",
       "    </tr>\n",
       "    <tr>\n",
       "      <th>4</th>\n",
       "      <td>13097946</td>\n",
       "      <td>URZ</td>\n",
       "      <td>1.055517e+09</td>\n",
       "      <td>N</td>\n",
       "      <td>N</td>\n",
       "      <td>None</td>\n",
       "      <td>N</td>\n",
       "      <td>0.0</td>\n",
       "      <td>A</td>\n",
       "      <td>1.000000</td>\n",
       "      <td>...</td>\n",
       "      <td>2.803004</td>\n",
       "      <td>0.827978</td>\n",
       "      <td>0.630203</td>\n",
       "      <td>0.0</td>\n",
       "      <td>0.00</td>\n",
       "      <td>1.039954</td>\n",
       "      <td>0.420590</td>\n",
       "      <td>0.983108</td>\n",
       "      <td>0.450562</td>\n",
       "      <td>0.274970</td>\n",
       "    </tr>\n",
       "  </tbody>\n",
       "</table>\n",
       "<p>5 rows × 25 columns</p>\n",
       "</div>"
      ],
      "text/plain": [
       "       ARID  STA          TIME IPHASE CLASS_IPHASE PHASE CLASS_PHASE  RETIME  \\\n",
       "0  13097443  URZ  1.055511e+09      N            N  None           N     0.0   \n",
       "1  13097727  URZ  1.055513e+09      N            N  None           N     0.0   \n",
       "2  13097728  URZ  1.055513e+09      N            N  None           N     0.0   \n",
       "3  13097729  URZ  1.055513e+09      N            N  None           N     0.0   \n",
       "4  13097946  URZ  1.055517e+09      N            N  None           N     0.0   \n",
       "\n",
       "  SOURCE       PER    ...        HMXMN    HVRATP      HVRAT  NAB   TAB  \\\n",
       "0      A  0.166667    ...     2.948945  9.600216   9.600216  0.0  0.00   \n",
       "1      A  0.444444    ...     5.750848  9.726424   3.211865 -0.1 -0.04   \n",
       "2      A  1.000000    ...     1.550819  0.163623  12.531935  0.1  0.50   \n",
       "3      A  0.333333    ...     2.203439  0.328290   0.511023 -0.1 -0.50   \n",
       "4      A  1.000000    ...     2.803004  0.827978   0.630203  0.0  0.00   \n",
       "\n",
       "      HTOV1     HTOV2     HTOV3     HTOV4     HTOV5  \n",
       "0  0.396880  1.145887  0.421142  0.406116  1.439137  \n",
       "1  0.628241  0.617270  0.890586  2.788352  1.279634  \n",
       "2  2.625565  0.419386  0.502452  1.093746  0.228218  \n",
       "3  0.532591  1.455946  0.672186  0.730198  0.130826  \n",
       "4  1.039954  0.420590  0.983108  0.450562  0.274970  \n",
       "\n",
       "[5 rows x 25 columns]"
      ]
     },
     "execution_count": 92,
     "metadata": {},
     "output_type": "execute_result"
    }
   ],
   "source": [
    "df_N_all.head()"
   ]
  },
  {
   "cell_type": "code",
   "execution_count": 93,
   "metadata": {},
   "outputs": [],
   "source": [
    "#save to csv\n",
    "#df_ora.to_csv('URZ_pandas.csv')"
   ]
  },
  {
   "cell_type": "code",
   "execution_count": 94,
   "metadata": {},
   "outputs": [
    {
     "name": "stdout",
     "output_type": "stream",
     "text": [
      "regS (11135, 25)\n",
      "regP (11818, 25)\n",
      "tele (38083, 25)\n",
      "noise (301371, 25)\n"
     ]
    }
   ],
   "source": [
    "#how much data we have\n",
    "print('regS', df_S_all.shape)\n",
    "print('regP', df_P_all.shape)\n",
    "print('tele', df_T_all.shape)\n",
    "print('noise', df_N_all.shape)"
   ]
  },
  {
   "cell_type": "markdown",
   "metadata": {},
   "source": [
    "# Definition of input and output"
   ]
  },
  {
   "cell_type": "code",
   "execution_count": 95,
   "metadata": {},
   "outputs": [
    {
     "name": "stdout",
     "output_type": "stream",
     "text": [
      "features count: 15\n"
     ]
    }
   ],
   "source": [
    "# columns corresponding to input\n",
    "x_indices = ['PER', 'RECT', 'PLANS', 'INANG1', 'INANG3', 'HMXMN', 'HVRATP', 'HVRAT', 'NAB', 'TAB',  \n",
    "             'HTOV1', 'HTOV2', 'HTOV3', 'HTOV4', 'HTOV5']\n",
    "print('features count:', len(x_indices))\n",
    "# columns corresponding to output\n",
    "y_indices = ['CLASS_PHASE']"
   ]
  },
  {
   "cell_type": "markdown",
   "metadata": {},
   "source": [
    "# Dataset for first phase of the cascade: N vs TPS"
   ]
  },
  {
   "cell_type": "code",
   "execution_count": 176,
   "metadata": {},
   "outputs": [
    {
     "name": "stdout",
     "output_type": "stream",
     "text": [
      "(9133, 25) (9133, 25) (9133, 25)\n",
      "(27399, 25)\n",
      "(27399, 25)\n"
     ]
    }
   ],
   "source": [
    "#counts of all classes\n",
    "ns = df_S_all.shape[0]\n",
    "np = df_P_all.shape[0]\n",
    "nt = df_T_all.shape[0]\n",
    "nn = df_N_all.shape[0]\n",
    "\n",
    "#those from automatic\n",
    "nsa = df_S_all[df_S_all['SOURCE'] != 'M'].shape[0]\n",
    "npa = df_P_all[df_P_all['SOURCE'] != 'M'].shape[0]\n",
    "nta = df_T_all[df_T_all['SOURCE'] != 'M'].shape[0]\n",
    "nna = df_N_all[df_N_all['SOURCE'] != 'M'].shape[0]\n",
    "\n",
    "#we build a balanced datased - the same portion of regS, regP and tele\n",
    "#we have this count of phases\n",
    "samp_count = min(nsa, npa, nta)\n",
    "\n",
    "#sample TPS dataset, random_state is a seed\n",
    "ssS = df_S_all[df_S_all['SOURCE'] != 'M'].sample(samp_count, random_state=11)\n",
    "ssP = df_P_all[df_P_all['SOURCE'] != 'M'].sample(samp_count)\n",
    "ssT = df_T_all[df_T_all['SOURCE'] != 'M'].sample(samp_count)\n",
    "TPS_data = pd.concat([ssS, ssP, ssT])\n",
    "\n",
    "#sample noise phases\n",
    "N_data = df_N_all[df_N_all['SOURCE'] != 'M'].sample(3*samp_count)\n",
    "\n",
    "#lets shuffle dataset\n",
    "TPS_data = TPS_data.sample(frac=1).reset_index(drop=True)\n",
    "N_data = N_data.sample(frac=1).reset_index(drop=True)\n",
    "\n",
    "print(ssS.shape, ssP.shape, ssT.shape)\n",
    "print(TPS_data.shape)\n",
    "print(N_data.shape)"
   ]
  },
  {
   "cell_type": "markdown",
   "metadata": {},
   "source": [
    "### Normalization of data\n",
    "\n",
    "* normalization according to iwt_nnet.c : iwt_normalize()\n"
   ]
  },
  {
   "cell_type": "code",
   "execution_count": 267,
   "metadata": {},
   "outputs": [
    {
     "name": "stdout",
     "output_type": "stream",
     "text": [
      "TPS\n",
      "Series([], Name: HVRAT, dtype: float64)\n",
      "Series([], Name: HVRATP, dtype: float64)\n",
      "Series([], Name: HMXMN, dtype: float64)\n",
      "Series([], Name: HTOV1, dtype: float64)\n",
      "Series([], Name: HTOV2, dtype: float64)\n",
      "Series([], Name: HTOV3, dtype: float64)\n",
      "Series([], Name: HTOV4, dtype: float64)\n",
      "Series([], Name: HTOV5, dtype: float64)\n",
      "NOISE\n",
      "Series([], Name: HVRAT, dtype: float64)\n",
      "Series([], Name: HVRATP, dtype: float64)\n",
      "Series([], Name: HMXMN, dtype: float64)\n",
      "Series([], Name: HTOV1, dtype: float64)\n",
      "Series([], Name: HTOV2, dtype: float64)\n",
      "Series([], Name: HTOV3, dtype: float64)\n",
      "Series([], Name: HTOV4, dtype: float64)\n",
      "Series([], Name: HTOV5, dtype: float64)\n"
     ]
    }
   ],
   "source": [
    "# check on positivity of all features which are going to be log10-ed:)\n",
    "# check TPS data\n",
    "print('TPS')\n",
    "print(TPS_data['HVRAT'][TPS_data['HVRAT']<=0])\n",
    "print(TPS_data['HVRATP'][TPS_data['HVRATP']<=0])\n",
    "print(TPS_data['HMXMN'][TPS_data['HMXMN']<=0])\n",
    "print(TPS_data['HTOV1'][TPS_data['HTOV1']<=0])\n",
    "print(TPS_data['HTOV2'][TPS_data['HTOV2']<=0])\n",
    "print(TPS_data['HTOV3'][TPS_data['HTOV3']<=0])\n",
    "print(TPS_data['HTOV4'][TPS_data['HTOV4']<=0])\n",
    "print(TPS_data['HTOV5'][TPS_data['HTOV5']<=0])\n",
    "# check NOISE data\n",
    "print('NOISE')\n",
    "print(N_data['HVRAT'][N_data['HVRAT']<=0])\n",
    "print(N_data['HVRATP'][N_data['HVRATP']<=0])\n",
    "print(N_data['HMXMN'][N_data['HMXMN']<=0])\n",
    "print(N_data['HTOV1'][N_data['HTOV1']<=0])\n",
    "print(N_data['HTOV2'][N_data['HTOV2']<=0])\n",
    "print(N_data['HTOV3'][N_data['HTOV3']<=0])\n",
    "print(N_data['HTOV4'][N_data['HTOV4']<=0])\n",
    "print(N_data['HTOV5'][N_data['HTOV5']<=0])"
   ]
  },
  {
   "cell_type": "code",
   "execution_count": 268,
   "metadata": {},
   "outputs": [],
   "source": [
    "# normalize TPS\n",
    "TPS_data_norm = TPS_data.copy(deep=True)\n",
    "TPS_data_norm['INANG1'] /= 90.\n",
    "TPS_data_norm['INANG3'] /= 90.\n",
    "TPS_data_norm['HMXMN'] = numpy.log10(TPS_data['HMXMN'])\n",
    "TPS_data_norm['HVRATP'] = numpy.log10(TPS_data['HVRATP'])\n",
    "TPS_data_norm['HVRAT'] = numpy.log10(TPS_data['HVRAT'])\n",
    "TPS_data_norm['HTOV1'] = numpy.log10(TPS_data['HTOV1'])\n",
    "TPS_data_norm['HTOV2'] = numpy.log10(TPS_data['HTOV2'])\n",
    "TPS_data_norm['HTOV3'] = numpy.log10(TPS_data['HTOV3'])\n",
    "TPS_data_norm['HTOV4'] = numpy.log10(TPS_data['HTOV4'])\n",
    "TPS_data_norm['HTOV5'] = numpy.log10(TPS_data['HTOV5'])\n",
    "\n",
    "# normalize NOISE\n",
    "N_data_norm = N_data.copy(deep=True)\n",
    "N_data_norm['INANG1'] /= 90.\n",
    "N_data_norm['INANG3'] /= 90.\n",
    "N_data_norm['HMXMN'] = numpy.log10(N_data['HMXMN'])\n",
    "N_data_norm['HVRATP'] = numpy.log10(N_data['HVRATP'])\n",
    "N_data_norm['HVRAT'] = numpy.log10(N_data['HVRAT'])\n",
    "N_data_norm['HTOV1'] = numpy.log10(N_data['HTOV1'])\n",
    "N_data_norm['HTOV2'] = numpy.log10(N_data['HTOV2'])\n",
    "N_data_norm['HTOV3'] = numpy.log10(N_data['HTOV3'])\n",
    "N_data_norm['HTOV4'] = numpy.log10(N_data['HTOV4'])\n",
    "N_data_norm['HTOV5'] = numpy.log10(N_data['HTOV5'])"
   ]
  },
  {
   "cell_type": "markdown",
   "metadata": {},
   "source": [
    "### The same for manually added arrivals"
   ]
  },
  {
   "cell_type": "code",
   "execution_count": 269,
   "metadata": {},
   "outputs": [],
   "source": [
    "import keras.utils"
   ]
  },
  {
   "cell_type": "markdown",
   "metadata": {},
   "source": [
    "### Define train/test ratio"
   ]
  },
  {
   "cell_type": "code",
   "execution_count": 270,
   "metadata": {},
   "outputs": [
    {
     "name": "stdout",
     "output_type": "stream",
     "text": [
      "train count= 20549 test count= 6850\n"
     ]
    }
   ],
   "source": [
    "train_test_split_ratio = 0.75\n",
    "samp_count_train = int(TPS_data_norm.shape[0] * train_test_split_ratio)\n",
    "samp_count_test = TPS_data_norm.shape[0] - samp_count_train\n",
    "print('train count=', samp_count_train, 'test count=', samp_count_test)"
   ]
  },
  {
   "cell_type": "code",
   "execution_count": 271,
   "metadata": {},
   "outputs": [
    {
     "name": "stdout",
     "output_type": "stream",
     "text": [
      "TPS train: (20549, 25) TPS test: (6850, 25)\n",
      "N train:   (20549, 25) N test:   (6850, 25)\n"
     ]
    }
   ],
   "source": [
    "TPS_train = TPS_data_norm[:samp_count_train]\n",
    "TPS_test = TPS_data_norm[samp_count_train:]\n",
    "\n",
    "N_train = N_data_norm[:samp_count_train]\n",
    "N_test = N_data_norm[samp_count_train:]\n",
    "\n",
    "print('TPS train:',TPS_train.shape,'TPS test:',TPS_test.shape)\n",
    "print('N train:  ',N_train.shape,  'N test:  ',N_test.shape)"
   ]
  },
  {
   "cell_type": "markdown",
   "metadata": {},
   "source": [
    "### Check interclass balance of TPS"
   ]
  },
  {
   "cell_type": "code",
   "execution_count": 272,
   "metadata": {},
   "outputs": [
    {
     "name": "stdout",
     "output_type": "stream",
     "text": [
      "T in TPS train:    (6882, 25)\n",
      "regP in TPS train: (6824, 25)\n",
      "regS in TPS train: (6843, 25)\n",
      "T in TPS test:     (2251, 25)\n",
      "regP in TPS test:  (2309, 25)\n",
      "regS in TPS test:  (2290, 25)\n"
     ]
    }
   ],
   "source": [
    "print('T in TPS train:   ', TPS_train[TPS_train['CLASS_PHASE']=='tele'].shape)\n",
    "print('regP in TPS train:', TPS_train[TPS_train['CLASS_PHASE']=='regP'].shape)\n",
    "print('regS in TPS train:', TPS_train[TPS_train['CLASS_PHASE']=='regS'].shape)\n",
    "\n",
    "print('T in TPS test:    ', TPS_test[TPS_test['CLASS_PHASE']=='tele'].shape)\n",
    "print('regP in TPS test: ', TPS_test[TPS_test['CLASS_PHASE']=='regP'].shape)\n",
    "print('regS in TPS test: ', TPS_test[TPS_test['CLASS_PHASE']=='regS'].shape)"
   ]
  },
  {
   "cell_type": "markdown",
   "metadata": {},
   "source": [
    "### Form train and test sets and shuffle"
   ]
  },
  {
   "cell_type": "code",
   "execution_count": 273,
   "metadata": {},
   "outputs": [],
   "source": [
    "train = pd.concat([TPS_train, N_train]).sample(frac=1).reset_index(drop=True)\n",
    "test =  pd.concat([TPS_test, N_test]).sample(frac=1).reset_index(drop=True)\n",
    "#train.apply(pd.to_numeric, errors='ignore')\n",
    "#test.apply(pd.to_numeric, errors='ignore')"
   ]
  },
  {
   "cell_type": "markdown",
   "metadata": {},
   "source": [
    "### Extract features and class labels"
   ]
  },
  {
   "cell_type": "code",
   "execution_count": 274,
   "metadata": {},
   "outputs": [
    {
     "name": "stdout",
     "output_type": "stream",
     "text": [
      "(41098, 15) (41098, 2) (13700, 15) (13700, 2)\n"
     ]
    }
   ],
   "source": [
    "train_X = train[x_indices].values.astype(float)\n",
    "train_Y = train[y_indices]\n",
    "\n",
    "test_X = test[x_indices].values.astype(float)\n",
    "test_Y = test[y_indices]\n",
    "\n",
    "train_Y_ = numpy.array(numpy.where(train_Y == 'N', 0, 1), dtype=float)\n",
    "test_Y_ = numpy.array(numpy.where(test_Y == 'N', 0, 1), dtype=float)\n",
    "\n",
    "#convert to categorical\n",
    "train_Y = keras.utils.to_categorical(train_Y_)\n",
    "test_Y = keras.utils.to_categorical(test_Y_)\n",
    "\n",
    "print(train_X.shape, train_Y.shape, test_X.shape, test_Y.shape)"
   ]
  },
  {
   "cell_type": "markdown",
   "metadata": {},
   "source": [
    "#### Ground truth for all 4 classes"
   ]
  },
  {
   "cell_type": "code",
   "execution_count": 275,
   "metadata": {},
   "outputs": [
    {
     "name": "stderr",
     "output_type": "stream",
     "text": [
      "/dvlscratch/SHI/users/hofman/ML/env/lib/python3.6/site-packages/sklearn/preprocessing/label.py:128: DataConversionWarning: A column-vector y was passed when a 1d array was expected. Please change the shape of y to (n_samples, ), for example using ravel().\n",
      "  y = column_or_1d(y, warn=True)\n"
     ]
    },
    {
     "data": {
      "text/plain": [
       "array([1, 2, 1, 3, 0, 0, 1, 3, 1, 2, 0, 1, 2, 0, 0, 3, 0, 0, 2, 3])"
      ]
     },
     "execution_count": 275,
     "metadata": {},
     "output_type": "execute_result"
    }
   ],
   "source": [
    "from sklearn import preprocessing\n",
    "le = preprocessing.LabelEncoder()\n",
    "le.fit(['N', 'regS', 'regP', 'tele'])\n",
    "test_Y_GT = le.transform(test[y_indices])\n",
    "train_Y_GT = le.transform(train[y_indices])\n",
    "test_Y_GT[:20]"
   ]
  },
  {
   "cell_type": "markdown",
   "metadata": {},
   "source": [
    "# Neural network"
   ]
  },
  {
   "cell_type": "code",
   "execution_count": 276,
   "metadata": {},
   "outputs": [],
   "source": [
    "from keras.models import Sequential\n",
    "from keras.layers import Dense\n",
    "from keras.optimizers import SGD, Adam"
   ]
  },
  {
   "cell_type": "code",
   "execution_count": 282,
   "metadata": {},
   "outputs": [],
   "source": [
    "n_input = len(x_indices)\n",
    "numpy.random.seed(11)\n",
    "\n",
    "# create model\n",
    "model = Sequential()\n",
    "model.add(Dense(6, input_dim=n_input, activation='sigmoid'))\n",
    "model.add(Dense(2, activation='sigmoid'))\n",
    "\n",
    "sgd = SGD(lr=0.001, decay=1e-6, momentum=0.9, nesterov=True, clipnorm=1., clipvalue=0.5)\n",
    "adam = Adam(lr=0.0001) #, clipnorm, clipvalue=0.5)\n",
    "\n",
    "model.compile(\n",
    "    loss = 'binary_crossentropy', \n",
    "    optimizer = 'adam',  # adam, sgd\n",
    "    metrics = ['accuracy'])"
   ]
  },
  {
   "cell_type": "code",
   "execution_count": 283,
   "metadata": {},
   "outputs": [
    {
     "name": "stdout",
     "output_type": "stream",
     "text": [
      "_________________________________________________________________\n",
      "Layer (type)                 Output Shape              Param #   \n",
      "=================================================================\n",
      "dense_15 (Dense)             (None, 6)                 96        \n",
      "_________________________________________________________________\n",
      "dense_16 (Dense)             (None, 2)                 14        \n",
      "=================================================================\n",
      "Total params: 110\n",
      "Trainable params: 110\n",
      "Non-trainable params: 0\n",
      "_________________________________________________________________\n"
     ]
    }
   ],
   "source": [
    "model.summary()"
   ]
  },
  {
   "cell_type": "code",
   "execution_count": 284,
   "metadata": {},
   "outputs": [],
   "source": [
    "hist_keys = ('acc', 'val_acc', 'loss', 'val_loss')"
   ]
  },
  {
   "cell_type": "code",
   "execution_count": 285,
   "metadata": {},
   "outputs": [],
   "source": [
    "history = {k : [] for k in hist_keys}"
   ]
  },
  {
   "cell_type": "code",
   "execution_count": null,
   "metadata": {},
   "outputs": [],
   "source": [
    "h = model.fit(train_X[:], train_Y[:], \n",
    "          epochs=300, \n",
    "          #batch_size=32, \n",
    "          verbose=1,\n",
    "          shuffle=True,\n",
    "          #validation_split=0.1)\n",
    "          validation_data=(test_X, test_Y))\n",
    "\n",
    "history = {k : history[k] + h.history[k] for k in hist_keys}"
   ]
  },
  {
   "cell_type": "code",
   "execution_count": 290,
   "metadata": {},
   "outputs": [
    {
     "data": {
      "text/plain": [
       "((13700,), (13700,))"
      ]
     },
     "execution_count": 290,
     "metadata": {},
     "output_type": "execute_result"
    }
   ],
   "source": [
    "train_Y[train_Y==0].shape, train_Y[train_Y==1].shape\n",
    "test_Y[test_Y==0].shape, test_Y[test_Y==1].shape"
   ]
  },
  {
   "cell_type": "code",
   "execution_count": 291,
   "metadata": {},
   "outputs": [
    {
     "data": {
      "image/png": "[encoded data removed]",
      "text/plain": [
       "<matplotlib.figure.Figure at 0x7f551194a0b8>"
      ]
     },
     "metadata": {},
     "output_type": "display_data"
    }
   ],
   "source": [
    "plot(history)"
   ]
  },
  {
   "cell_type": "code",
   "execution_count": 292,
   "metadata": {},
   "outputs": [
    {
     "name": "stdout",
     "output_type": "stream",
     "text": [
      "[[0.00186699 0.998133  ]\n",
      " [0.19574276 0.8042573 ]\n",
      " [0.02698456 0.9730154 ]\n",
      " [0.23807387 0.7619261 ]\n",
      " [0.59623444 0.4037656 ]\n",
      " [0.92239445 0.07760559]\n",
      " [0.00392754 0.9960725 ]\n",
      " [0.12637027 0.8736298 ]\n",
      " [0.43665296 0.5633469 ]\n",
      " [0.26595148 0.7340485 ]]\n"
     ]
    }
   ],
   "source": [
    "# calculate predicted values\n",
    "Y_pred_ = model.predict(test_X)\n",
    "# predictions are outputted as floats from [0,1]\n",
    "print(Y_pred_[:10])"
   ]
  },
  {
   "cell_type": "code",
   "execution_count": 293,
   "metadata": {},
   "outputs": [],
   "source": [
    "Y_pred = numpy.argmax(Y_pred_, axis=1)"
   ]
  },
  {
   "cell_type": "code",
   "execution_count": 294,
   "metadata": {},
   "outputs": [
    {
     "name": "stdout",
     "output_type": "stream",
     "text": [
      "[[5828 1022]\n",
      " [1089 5761]]\n"
     ]
    }
   ],
   "source": [
    "from sklearn.metrics import confusion_matrix\n",
    "\n",
    "# we must translate it to 0, 1 based on thresholding at 0.5\n",
    "# where < 0.5 set to 0, to 1 otherwise\n",
    "Y_pred = numpy.where(Y_pred < 0.5, 0, 1)\n",
    "\n",
    "# calculate confusion matrix\n",
    "conf_mat = confusion_matrix(test_Y_, Y_pred)\n",
    "print(conf_mat)"
   ]
  },
  {
   "cell_type": "code",
   "execution_count": 295,
   "metadata": {},
   "outputs": [
    {
     "name": "stdout",
     "output_type": "stream",
     "text": [
      "[[17286  3263]\n",
      " [ 3187 17362]]\n"
     ]
    }
   ],
   "source": [
    "## confusion matrix on Train?\n",
    "Y_pred = numpy.where(numpy.argmax(model.predict(train_X), axis=1) < 0.5, 0, 1)\n",
    "conf_mat = confusion_matrix(train_Y_, Y_pred)\n",
    "print(conf_mat)"
   ]
  },
  {
   "cell_type": "code",
   "execution_count": 296,
   "metadata": {},
   "outputs": [
    {
     "name": "stdout",
     "output_type": "stream",
     "text": [
      "13700/13700 [==============================] - 0s 6us/step\n"
     ]
    },
    {
     "data": {
      "text/plain": [
       "[0.34290640844045767, 0.8459124087591241]"
      ]
     },
     "execution_count": 296,
     "metadata": {},
     "output_type": "execute_result"
    }
   ],
   "source": [
    "#eval on test data\n",
    "model.evaluate(test_X, test_Y)"
   ]
  },
  {
   "cell_type": "code",
   "execution_count": 297,
   "metadata": {},
   "outputs": [
    {
     "name": "stdout",
     "output_type": "stream",
     "text": [
      "41098/41098 [==============================] - 0s 7us/step\n"
     ]
    },
    {
     "data": {
      "text/plain": [
       "[0.3489173969272117, 0.8430580563502066]"
      ]
     },
     "execution_count": 297,
     "metadata": {},
     "output_type": "execute_result"
    }
   ],
   "source": [
    "model.evaluate(train_X, train_Y)"
   ]
  },
  {
   "cell_type": "code",
   "execution_count": 298,
   "metadata": {},
   "outputs": [],
   "source": [
    "#save model and weights\n",
    "model.save('URZ_model_15-6-2_norm_NTPS.h5')"
   ]
  },
  {
   "cell_type": "code",
   "execution_count": null,
   "metadata": {},
   "outputs": [],
   "source": []
  },
  {
   "cell_type": "markdown",
   "metadata": {},
   "source": [
    "# Neural network TP vs S \n",
    "\n",
    "* we need a new dataset for this"
   ]
  },
  {
   "cell_type": "markdown",
   "metadata": {},
   "source": [
    "## Dataset for TP vs S"
   ]
  },
  {
   "cell_type": "code",
   "execution_count": 299,
   "metadata": {},
   "outputs": [
    {
     "name": "stdout",
     "output_type": "stream",
     "text": [
      "(20549, 25) (6850, 25)\n"
     ]
    }
   ],
   "source": [
    "print(TPS_train.shape, TPS_test.shape)"
   ]
  },
  {
   "cell_type": "code",
   "execution_count": 300,
   "metadata": {},
   "outputs": [
    {
     "name": "stdout",
     "output_type": "stream",
     "text": [
      "(20549, 15) (20549, 2) (6850, 15) (6850, 2)\n"
     ]
    }
   ],
   "source": [
    "train_X_TPS = TPS_train[x_indices].values.astype(float)\n",
    "train_Y_TPS = TPS_train[y_indices]\n",
    "\n",
    "test_X_TPS = TPS_test[x_indices].values.astype(float)\n",
    "test_Y_TPS = TPS_test[y_indices]\n",
    "\n",
    "#regS = 0, T/regP = 1\n",
    "train_Y_TPS_ = numpy.array(numpy.where(train_Y_TPS['CLASS_PHASE'] == 'regS', 0, 1), dtype=float)\n",
    "test_Y_TPS_ = numpy.array(numpy.where(test_Y_TPS['CLASS_PHASE'] == 'regS', 0, 1), dtype=float)\n",
    "\n",
    "#convert to categorical\n",
    "train_Y_TPS = keras.utils.to_categorical(train_Y_TPS_)\n",
    "test_Y_TPS = keras.utils.to_categorical(test_Y_TPS_)\n",
    "\n",
    "print(train_X_TPS.shape, train_Y_TPS.shape, test_X_TPS.shape, test_Y_TPS.shape)"
   ]
  },
  {
   "cell_type": "markdown",
   "metadata": {},
   "source": [
    "### Manually added datasets for testing"
   ]
  },
  {
   "cell_type": "code",
   "execution_count": 301,
   "metadata": {},
   "outputs": [
    {
     "name": "stdout",
     "output_type": "stream",
     "text": [
      "(6006, 15) (6006, 2) (6006, 1)\n"
     ]
    }
   ],
   "source": [
    "#those manually added\n",
    "nsm = df_S_all[df_S_all['SOURCE'] == 'M'].shape[0]\n",
    "npm = df_P_all[df_P_all['SOURCE'] == 'M'].shape[0]\n",
    "ntm = df_T_all[df_T_all['SOURCE'] == 'M'].shape[0]\n",
    "nnm = df_N_all[df_N_all['SOURCE'] == 'M'].shape[0]\n",
    "\n",
    "#we build a balanced datased - the same portion of regS, regP and tele\n",
    "#we have this count of phases\n",
    "man_samp_count = min(nsm, npm, ntm)\n",
    "\n",
    "#sample TPS dataset, random_state is a seed\n",
    "mssS = df_S_all[df_S_all['SOURCE'] == 'M'].sample(man_samp_count, random_state=11)\n",
    "mssP = df_P_all[df_P_all['SOURCE'] == 'M'].sample(man_samp_count)\n",
    "mssT = df_T_all[df_T_all['SOURCE'] == 'M'].sample(man_samp_count)\n",
    "MTPS_data = pd.concat([mssS, mssP, mssT])\n",
    "\n",
    "\n",
    "#normalize\n",
    "\n",
    "MTPS_data_norm = MTPS_data.copy(deep=True)\n",
    "MTPS_data_norm['INANG1'] /= 90.\n",
    "MTPS_data_norm['INANG3'] /= 90.\n",
    "MTPS_data_norm['HMXMN'] = numpy.log10(MTPS_data['HMXMN'])\n",
    "MTPS_data_norm['HVRATP'] = numpy.log10(MTPS_data['HVRATP'])\n",
    "MTPS_data_norm['HVRAT'] = numpy.log10(MTPS_data['HVRAT'])\n",
    "MTPS_data_norm['HTOV1'] = numpy.log10(MTPS_data['HTOV1'])\n",
    "MTPS_data_norm['HTOV2'] = numpy.log10(MTPS_data['HTOV2'])\n",
    "MTPS_data_norm['HTOV3'] = numpy.log10(MTPS_data['HTOV3'])\n",
    "MTPS_data_norm['HTOV4'] = numpy.log10(MTPS_data['HTOV4'])\n",
    "MTPS_data_norm['HTOV5'] = numpy.log10(MTPS_data['HTOV5'])\n",
    "\n",
    "#manually added noise makes nos sense - we do not sanmple N\n",
    "\n",
    "#lets shuffle dataset\n",
    "MTPS_data_norm = MTPS_data_norm.sample(frac=1).reset_index(drop=True)\n",
    "\n",
    "manual_X = MTPS_data_norm[x_indices].values.astype(float)\n",
    "#regS = 0, T/regP = 1\n",
    "manual_Y_TPS_ = numpy.array(numpy.where(MTPS_data_norm[y_indices] == 'regS', 0, 1), dtype=float)\n",
    "manual_Y_TPS = keras.utils.to_categorical(manual_Y_TPS_)\n",
    "\n",
    "print(manual_X.shape, manual_Y_TPS.shape, manual_Y_TPS_.shape)"
   ]
  },
  {
   "cell_type": "markdown",
   "metadata": {},
   "source": [
    "#### Manual dataset ground truth"
   ]
  },
  {
   "cell_type": "code",
   "execution_count": 302,
   "metadata": {},
   "outputs": [
    {
     "name": "stderr",
     "output_type": "stream",
     "text": [
      "/dvlscratch/SHI/users/hofman/ML/env/lib/python3.6/site-packages/sklearn/preprocessing/label.py:128: DataConversionWarning: A column-vector y was passed when a 1d array was expected. Please change the shape of y to (n_samples, ), for example using ravel().\n",
      "  y = column_or_1d(y, warn=True)\n"
     ]
    },
    {
     "data": {
      "text/plain": [
       "array([2, 3, 1, 2, 3, 3, 2, 2, 1, 3])"
      ]
     },
     "execution_count": 302,
     "metadata": {},
     "output_type": "execute_result"
    }
   ],
   "source": [
    "manual_Y_GT = le.transform(MTPS_data_norm[y_indices])\n",
    "manual_Y_GT[:10]"
   ]
  },
  {
   "cell_type": "markdown",
   "metadata": {},
   "source": [
    "### Neural network"
   ]
  },
  {
   "cell_type": "code",
   "execution_count": 303,
   "metadata": {},
   "outputs": [],
   "source": [
    "history_TPS = {k : [] for k in hist_keys}"
   ]
  },
  {
   "cell_type": "code",
   "execution_count": 304,
   "metadata": {},
   "outputs": [],
   "source": [
    "n_input = len(x_indices)\n",
    "numpy.random.seed(11)\n",
    "\n",
    "# create model\n",
    "model_TPS = Sequential()\n",
    "model_TPS.add(Dense(6, input_dim=n_input, activation='sigmoid'))\n",
    "model_TPS.add(Dense(2, activation='sigmoid'))\n",
    "\n",
    "model_TPS.compile(\n",
    "    loss = 'binary_crossentropy', \n",
    "    optimizer = 'adam',  # adam, sgd\n",
    "    metrics = ['accuracy'])"
   ]
  },
  {
   "cell_type": "code",
   "execution_count": 305,
   "metadata": {},
   "outputs": [
    {
     "name": "stdout",
     "output_type": "stream",
     "text": [
      "_________________________________________________________________\n",
      "Layer (type)                 Output Shape              Param #   \n",
      "=================================================================\n",
      "dense_17 (Dense)             (None, 6)                 96        \n",
      "_________________________________________________________________\n",
      "dense_18 (Dense)             (None, 2)                 14        \n",
      "=================================================================\n",
      "Total params: 110\n",
      "Trainable params: 110\n",
      "Non-trainable params: 0\n",
      "_________________________________________________________________\n"
     ]
    }
   ],
   "source": [
    "model_TPS.summary()"
   ]
  },
  {
   "cell_type": "code",
   "execution_count": null,
   "metadata": {},
   "outputs": [],
   "source": [
    "h = model_TPS.fit(train_X_TPS[:], train_Y_TPS[:], \n",
    "          epochs=500, \n",
    "          #batch_size=32, \n",
    "          verbose=1,\n",
    "          shuffle=True,\n",
    "          #validation_split=0.1)\n",
    "          validation_data=([test_X_TPS, test_Y_TPS]))\n",
    "\n",
    "history_TPS = {k : history_TPS[k] + h.history[k] for k in hist_keys}"
   ]
  },
  {
   "cell_type": "code",
   "execution_count": 308,
   "metadata": {},
   "outputs": [
    {
     "data": {
      "image/png": "[encoded data removed]",
      "text/plain": [
       "<matplotlib.figure.Figure at 0x7f550ad82080>"
      ]
     },
     "metadata": {},
     "output_type": "display_data"
    }
   ],
   "source": [
    "plot(history_TPS)"
   ]
  },
  {
   "cell_type": "code",
   "execution_count": 309,
   "metadata": {},
   "outputs": [],
   "source": [
    "model.save('URZ_model_15-6-2_norm_TPS.h5')"
   ]
  },
  {
   "cell_type": "code",
   "execution_count": 310,
   "metadata": {},
   "outputs": [
    {
     "name": "stdout",
     "output_type": "stream",
     "text": [
      "6850/6850 [==============================] - 0s 8us/step\n"
     ]
    },
    {
     "data": {
      "text/plain": [
       "[0.21132250684891304, 0.9118248175182482]"
      ]
     },
     "execution_count": 310,
     "metadata": {},
     "output_type": "execute_result"
    }
   ],
   "source": [
    "model_TPS.evaluate(test_X_TPS, test_Y_TPS)"
   ]
  },
  {
   "cell_type": "markdown",
   "metadata": {},
   "source": [
    "#### Test data confusion matrix"
   ]
  },
  {
   "cell_type": "code",
   "execution_count": 311,
   "metadata": {},
   "outputs": [
    {
     "name": "stdout",
     "output_type": "stream",
     "text": [
      "[[2204   86]\n",
      " [ 518 4042]]\n"
     ]
    }
   ],
   "source": [
    "Y_pred = numpy.reshape(numpy.argmax(model_TPS.predict(test_X_TPS), axis=1), (test_X_TPS.shape[0],1))\n",
    "\n",
    "# calculate confusion matrix\n",
    "C = confusion_matrix(test_Y_TPS_, Y_pred)\n",
    "print(C)"
   ]
  },
  {
   "cell_type": "code",
   "execution_count": 312,
   "metadata": {},
   "outputs": [
    {
     "name": "stdout",
     "output_type": "stream",
     "text": [
      "Accuracy: 91.18%\n"
     ]
    }
   ],
   "source": [
    "diagsum = numpy.diag(C).sum()\n",
    "accuracy = diagsum/C.sum()\n",
    "print('Accuracy: %3.2f%%' % (accuracy*100))"
   ]
  },
  {
   "cell_type": "markdown",
   "metadata": {},
   "source": [
    "#### Just for curiosity -  Manual associations confusion matrix"
   ]
  },
  {
   "cell_type": "code",
   "execution_count": 313,
   "metadata": {},
   "outputs": [
    {
     "name": "stdout",
     "output_type": "stream",
     "text": [
      "[[1854  148]\n",
      " [1067 2937]]\n",
      "Accuracy: 79.77%\n"
     ]
    }
   ],
   "source": [
    "Y_pred_man = numpy.argmax(model_TPS.predict(manual_X), axis=1)\n",
    "\n",
    "# calculate confusion matrix\n",
    "C = confusion_matrix(manual_Y_TPS_, Y_pred_man)\n",
    "print(C)\n",
    "diagsum = numpy.diag(C).sum()\n",
    "accuracy = diagsum/C.sum()\n",
    "print('Accuracy: %3.2f%%' % (accuracy*100))"
   ]
  },
  {
   "cell_type": "markdown",
   "metadata": {},
   "source": [
    "# Neural network T vs regP \n",
    "\n",
    "* we need a new dataset for this"
   ]
  },
  {
   "cell_type": "markdown",
   "metadata": {},
   "source": [
    "### Dataset for T vs regP"
   ]
  },
  {
   "cell_type": "code",
   "execution_count": 314,
   "metadata": {},
   "outputs": [],
   "source": [
    "#exclude regS\n",
    "TP_train = TPS_train[TPS_train['CLASS_PHASE'] != 'regS']\n",
    "TP_test  = TPS_test [TPS_test ['CLASS_PHASE'] != 'regS']"
   ]
  },
  {
   "cell_type": "code",
   "execution_count": 315,
   "metadata": {},
   "outputs": [
    {
     "name": "stdout",
     "output_type": "stream",
     "text": [
      "(13706, 15) (13706, 2) (4560, 15) (4560, 2)\n"
     ]
    }
   ],
   "source": [
    "train_X_TP = TP_train[x_indices].values.astype(float)\n",
    "train_Y_TP = TP_train[y_indices]\n",
    "\n",
    "test_X_TP = TP_test[x_indices].values.astype(float)\n",
    "test_Y_TP = TP_test[y_indices]\n",
    "\n",
    "#regS = 0, T/regP = 1\n",
    "train_Y_TP_ = numpy.array(numpy.where(train_Y_TP['CLASS_PHASE'] == 'regP', 0, 1), dtype=float)\n",
    "test_Y_TP_ = numpy.array(numpy.where(test_Y_TP['CLASS_PHASE'] == 'regP', 0, 1), dtype=float)\n",
    "\n",
    "#convert to categorical\n",
    "train_Y_TP = keras.utils.to_categorical(train_Y_TP_)\n",
    "test_Y_TP = keras.utils.to_categorical(test_Y_TP_)\n",
    "\n",
    "print(train_X_TP.shape, train_Y_TP.shape, test_X_TP.shape, test_Y_TP.shape)"
   ]
  },
  {
   "cell_type": "markdown",
   "metadata": {},
   "source": [
    "### Neural network"
   ]
  },
  {
   "cell_type": "code",
   "execution_count": 316,
   "metadata": {},
   "outputs": [],
   "source": [
    "history_TP = {k : [] for k in hist_keys}"
   ]
  },
  {
   "cell_type": "code",
   "execution_count": 317,
   "metadata": {},
   "outputs": [],
   "source": [
    "n_input = len(x_indices)\n",
    "numpy.random.seed(11)\n",
    "\n",
    "# create model\n",
    "model_TP = Sequential()\n",
    "model_TP.add(Dense(6, input_dim=n_input, activation='sigmoid'))\n",
    "model_TP.add(Dense(2, activation='sigmoid'))\n",
    "\n",
    "model_TP.compile(\n",
    "    loss = 'binary_crossentropy', \n",
    "    optimizer = 'adam',  # adam, sgd\n",
    "    metrics = ['accuracy'])"
   ]
  },
  {
   "cell_type": "code",
   "execution_count": null,
   "metadata": {},
   "outputs": [],
   "source": [
    "h = model_TP.fit(train_X_TP[:], train_Y_TP[:], \n",
    "          epochs=1000, \n",
    "          #batch_size=32, \n",
    "          verbose=1,\n",
    "          shuffle=True,\n",
    "          #validation_split=0.1)\n",
    "          validation_data=([test_X_TP, test_Y_TP]))\n",
    "\n",
    "history_TP = {k : history_TP[k] + h.history[k] for k in hist_keys}"
   ]
  },
  {
   "cell_type": "code",
   "execution_count": 319,
   "metadata": {},
   "outputs": [
    {
     "data": {
      "image/png": "[encoded data removed]",
      "text/plain": [
       "<matplotlib.figure.Figure at 0x7f550f762be0>"
      ]
     },
     "metadata": {},
     "output_type": "display_data"
    }
   ],
   "source": [
    "plot(history_TP)"
   ]
  },
  {
   "cell_type": "code",
   "execution_count": 320,
   "metadata": {},
   "outputs": [],
   "source": [
    "model.save('URZ_model_15-6-2_norm_TP.h5')"
   ]
  },
  {
   "cell_type": "code",
   "execution_count": 321,
   "metadata": {},
   "outputs": [
    {
     "name": "stdout",
     "output_type": "stream",
     "text": [
      "4560/4560 [==============================] - 0s 7us/step\n"
     ]
    },
    {
     "data": {
      "text/plain": [
       "[0.4433557962116442, 0.8052631578947368]"
      ]
     },
     "execution_count": 321,
     "metadata": {},
     "output_type": "execute_result"
    }
   ],
   "source": [
    "model_TP.evaluate(test_X_TP, test_Y_TP)"
   ]
  },
  {
   "cell_type": "markdown",
   "metadata": {},
   "source": [
    "#### Test data confusion matrix"
   ]
  },
  {
   "cell_type": "code",
   "execution_count": 322,
   "metadata": {},
   "outputs": [
    {
     "name": "stdout",
     "output_type": "stream",
     "text": [
      "[[1855  454]\n",
      " [ 434 1817]]\n"
     ]
    }
   ],
   "source": [
    "Y_pred = numpy.reshape(numpy.argmax(model_TP.predict(test_X_TP), axis=1), (test_X_TP.shape[0],1))\n",
    "\n",
    "# calculate confusion matrix\n",
    "conf_mat = confusion_matrix(test_Y_TP_, Y_pred)\n",
    "print(conf_mat)"
   ]
  },
  {
   "cell_type": "code",
   "execution_count": null,
   "metadata": {},
   "outputs": [],
   "source": []
  },
  {
   "cell_type": "markdown",
   "metadata": {},
   "source": [
    "# Cascade of all three models"
   ]
  },
  {
   "cell_type": "code",
   "execution_count": 323,
   "metadata": {},
   "outputs": [],
   "source": [
    "from keras.models import load_model"
   ]
  },
  {
   "cell_type": "code",
   "execution_count": 324,
   "metadata": {},
   "outputs": [],
   "source": [
    "model_NTPS = load_model('URZ_model_15-6-2_norm_NTPS.h5')\n",
    "model_STP = load_model('URZ_model_15-6-2_norm_TPS.h5')\n",
    "model_PT = load_model('URZ_model_15-6-2_norm_TP.h5')"
   ]
  },
  {
   "cell_type": "code",
   "execution_count": 325,
   "metadata": {},
   "outputs": [],
   "source": [
    "def predict_iwt(X, stage=0):\n",
    "    \"\"\"\n",
    "    predicts initial wave type for given featrue vectors\n",
    "    Class encoding generated by sklearn Label Encoder\n",
    "    0 - noise\n",
    "    2 - regS \n",
    "    1 - regP\n",
    "    3 - T\n",
    "    \"\"\"\n",
    "    Y = numpy.arange(X.shape[0])\n",
    "    \n",
    "    N_indices = None\n",
    "    S_indices = None \n",
    "    \n",
    "    if stage >= 1:\n",
    "        N_indices = [False] * X.shape[0]\n",
    "        X_PTS = X\n",
    "        Y_NPTS = numpy.ones(X.shape[0])\n",
    "    if stage >= 2:\n",
    "        S_indices =  [False] * X.shape[0]  # numpy.array([])\n",
    "        X_PT = X\n",
    "        Y_PTS = numpy.ones(X.shape[0])\n",
    "        \n",
    "    \n",
    "    \"\"\"\n",
    "    N vs regS, regP, T\n",
    "    \"\"\"\n",
    "    if N_indices is None:\n",
    "        #predict N vs T,regP,regS\n",
    "        Y_NPTS = numpy.argmax(model_NTPS.predict(X), axis=1)\n",
    "        #set which are noise\n",
    "        N_indices = Y[Y_NPTS == 0]  #  = 0\n",
    "        #get candidates for TPS\n",
    "        X_PTS = X[Y_NPTS > 0]\n",
    "    else:\n",
    "        print('Skipping N, classifying TPS only')\n",
    "\n",
    "    \"\"\"\n",
    "    regS vs regP, T\n",
    "    \"\"\"\n",
    "    if S_indices is None:    \n",
    "        #predict regS vs T,regP\n",
    "        Y_PTS = numpy.argmax(model_TPS.predict(X_PTS), axis=1)\n",
    "        #set which are regS\n",
    "        S_indices = Y[Y_NPTS > 0][Y_PTS == 0]  # = 2\n",
    "        #get candidates for regP,T\n",
    "        X_PT = X_PTS[Y_PTS > 0]\n",
    "    else:\n",
    "        print('Skipping N, regS, classifying TP only')\n",
    "\n",
    "    \"\"\"\n",
    "    regP vs T\n",
    "    \"\"\"\n",
    "    #predict regP vs T\n",
    "    Y_PT = numpy.argmax(model_TP.predict(X_PT), axis=1)\n",
    "    #set which are regP\n",
    "    P_indices = Y[Y_NPTS > 0][Y_PTS > 0][Y_PT == 0]  # = 1    \n",
    "    #set which are T\n",
    "    T_indices = Y[Y_NPTS > 0][Y_PTS > 0][Y_PT > 0]   # = 3\n",
    "    #get those which are T\n",
    "    X_T = X_PT[Y_PT > 0]\n",
    "    \n",
    "    Y[N_indices] = 0 # N\n",
    "    Y[S_indices] = 2 # regS\n",
    "    Y[P_indices] = 1 # regP \n",
    "    Y[T_indices] = 3 # tele\n",
    "    \n",
    "    return Y\n",
    "    "
   ]
  },
  {
   "cell_type": "code",
   "execution_count": 326,
   "metadata": {},
   "outputs": [],
   "source": [
    "Y = predict_iwt(test_X)"
   ]
  },
  {
   "cell_type": "markdown",
   "metadata": {},
   "source": [
    "### Overall confusion matrix for test data"
   ]
  },
  {
   "cell_type": "code",
   "execution_count": 327,
   "metadata": {},
   "outputs": [
    {
     "data": {
      "text/plain": [
       "((13700, 15), (13700,), (13700,))"
      ]
     },
     "execution_count": 327,
     "metadata": {},
     "output_type": "execute_result"
    }
   ],
   "source": [
    "test_X.shape, Y.shape, test_Y_GT.shape"
   ]
  },
  {
   "cell_type": "code",
   "execution_count": 328,
   "metadata": {},
   "outputs": [
    {
     "name": "stdout",
     "output_type": "stream",
     "text": [
      "[[5828  254  583  252]\n",
      " [ 298 1666    6  390]\n",
      " [ 574    7 1657  423]\n",
      " [ 150  382   44 1186]]\n"
     ]
    }
   ],
   "source": [
    "C = confusion_matrix(Y, test_Y_GT)\n",
    "print(C)"
   ]
  },
  {
   "cell_type": "code",
   "execution_count": 329,
   "metadata": {},
   "outputs": [
    {
     "name": "stdout",
     "output_type": "stream",
     "text": [
      "Accuracy: 75.45%\n"
     ]
    }
   ],
   "source": [
    "diagsum = numpy.diag(C).sum()\n",
    "accuracy = diagsum/C.sum()\n",
    "print('Accuracy: %3.2f%%' % (accuracy*100))"
   ]
  },
  {
   "cell_type": "markdown",
   "metadata": {},
   "source": [
    "### Test data just regS, regP, T - not to be confused with overall statistics on all arrivals in our DB"
   ]
  },
  {
   "cell_type": "code",
   "execution_count": 330,
   "metadata": {},
   "outputs": [],
   "source": [
    "test_TPS = test[test['CLASS_PHASE'] != 'N']\n",
    "test_TPS_X = test_TPS[x_indices]\n",
    "test_TPS_pred_Y = predict_iwt(test_TPS_X)\n",
    "test_TPS_truth_Y = le.transform(test_TPS['CLASS_PHASE'])\n",
    "test_TPS_iphase_Y = le.transform(test_TPS['CLASS_IPHASE'])"
   ]
  },
  {
   "cell_type": "code",
   "execution_count": 331,
   "metadata": {},
   "outputs": [
    {
     "data": {
      "text/plain": [
       "(0, 3)"
      ]
     },
     "execution_count": 331,
     "metadata": {},
     "output_type": "execute_result"
    }
   ],
   "source": [
    "test_TPS_iphase_Y.min(), test_TPS_iphase_Y.max()"
   ]
  },
  {
   "cell_type": "code",
   "execution_count": 332,
   "metadata": {
    "scrolled": true
   },
   "outputs": [
    {
     "name": "stdout",
     "output_type": "stream",
     "text": [
      "IPHASE:\n",
      "[[   0  335  831  335]\n",
      " [   0 1694  139  518]\n",
      " [   0   47 1283  355]\n",
      " [   0  233   37 1043]]\n",
      "Accuracy: 58.69%\n"
     ]
    }
   ],
   "source": [
    "print('IPHASE:')\n",
    "C = confusion_matrix(test_TPS_iphase_Y, test_TPS_truth_Y)\n",
    "print(C)\n",
    "diagsum = numpy.diag(C).sum()\n",
    "accuracy = diagsum/C.sum()\n",
    "print('Accuracy: %3.2f%%' % (accuracy*100))"
   ]
  },
  {
   "cell_type": "code",
   "execution_count": 336,
   "metadata": {},
   "outputs": [
    {
     "name": "stdout",
     "output_type": "stream",
     "text": [
      "NEW PREDICTION\n",
      "[[   0  254  583  252]\n",
      " [   0 1666    6  390]\n",
      " [   0    7 1657  423]\n",
      " [   0  382   44 1186]]\n",
      "Accuracy: 65.82%\n"
     ]
    }
   ],
   "source": [
    "print('NEW PREDICTION')\n",
    "C = confusion_matrix(test_TPS_pred_Y, test_TPS_truth_Y)\n",
    "print(C)\n",
    "diagsum = numpy.diag(C).sum()\n",
    "accuracy = diagsum/C.sum()\n",
    "print('Accuracy: %3.2f%%' % (accuracy*100))"
   ]
  },
  {
   "cell_type": "markdown",
   "metadata": {},
   "source": [
    "* in the test data, the current iwt characterized 1501 as NOISE (first row of confusion matrix)\n",
    "* our new iwt would characterize 1089 as NOISE\n",
    "* after re-training, accuracy on the test set rose from 58.68% to 65.82% for regS, regP and T phases"
   ]
  },
  {
   "cell_type": "markdown",
   "metadata": {},
   "source": [
    "#### ..on train data just to see if it works"
   ]
  },
  {
   "cell_type": "code",
   "execution_count": 337,
   "metadata": {},
   "outputs": [
    {
     "name": "stdout",
     "output_type": "stream",
     "text": [
      "[[17286   685  1639   863]\n",
      " [  906  5017    26  1186]\n",
      " [ 1848    27  5050  1291]\n",
      " [  509  1095   128  3542]]\n",
      "Accuracy: 75.17%\n"
     ]
    }
   ],
   "source": [
    "Y = predict_iwt(train_X)\n",
    "C = confusion_matrix(Y, train_Y_GT)\n",
    "print(C)\n",
    "diagsum = numpy.diag(C).sum()\n",
    "accuracy = diagsum/C.sum()\n",
    "print('Accuracy: %3.2f%%' % (accuracy*100))"
   ]
  },
  {
   "cell_type": "markdown",
   "metadata": {},
   "source": [
    "### Overall confusion matrix for all manual associations (no Noise)"
   ]
  },
  {
   "cell_type": "code",
   "execution_count": 338,
   "metadata": {},
   "outputs": [
    {
     "name": "stdout",
     "output_type": "stream",
     "text": [
      "Skipping N, classifying TPS only\n",
      "[[1231   62  365]\n",
      " [ 268 1854  799]\n",
      " [ 503   86  838]]\n"
     ]
    }
   ],
   "source": [
    "C = confusion_matrix(predict_iwt(manual_X, stage=1), manual_Y_GT)\n",
    "print(C)"
   ]
  },
  {
   "cell_type": "code",
   "execution_count": 339,
   "metadata": {},
   "outputs": [
    {
     "name": "stdout",
     "output_type": "stream",
     "text": [
      "Accuracy: 65.32%\n"
     ]
    }
   ],
   "source": [
    "diagsum = numpy.diag(C).sum()\n",
    "accuracy = diagsum/C.sum()\n",
    "print('Accuracy: %3.2f%%' % (accuracy*100))"
   ]
  },
  {
   "cell_type": "markdown",
   "metadata": {},
   "source": [
    "## Let's try all noise samples we have"
   ]
  },
  {
   "cell_type": "code",
   "execution_count": 349,
   "metadata": {},
   "outputs": [],
   "source": [
    "# let's get all noise phases not used for training\n",
    "N_data_diff = pd.concat([df_N_all, N_data]).loc[\n",
    "    df_N_all.index.symmetric_difference(N_data.index)\n",
    "]"
   ]
  },
  {
   "cell_type": "code",
   "execution_count": 352,
   "metadata": {},
   "outputs": [
    {
     "name": "stdout",
     "output_type": "stream",
     "text": [
      "(273972, 25) (301371, 25) (27399, 25)\n",
      "273972 should equal 273972\n"
     ]
    }
   ],
   "source": [
    "print(N_data_diff.shape, df_N_all.shape, N_data.shape)\n",
    "print(N_data_diff.shape[0], 'should equal', df_N_all.shape[0]-N_data.shape[0])"
   ]
  },
  {
   "cell_type": "code",
   "execution_count": 353,
   "metadata": {},
   "outputs": [],
   "source": [
    "N_data_norm = N_data_diff[x_indices].copy(deep=True)\n",
    "N_data_norm['INANG1'] /= 90.\n",
    "N_data_norm['INANG3'] /= 90.\n",
    "N_data_norm['HMXMN'] = numpy.log10(df_N_all['HMXMN'])\n",
    "N_data_norm['HVRATP'] = numpy.log10(df_N_all['HVRATP'])\n",
    "N_data_norm['HVRAT'] = numpy.log10(df_N_all['HVRAT'])\n",
    "N_data_norm['HTOV1'] = numpy.log10(df_N_all['HTOV1'])\n",
    "N_data_norm['HTOV2'] = numpy.log10(df_N_all['HTOV2'])\n",
    "N_data_norm['HTOV3'] = numpy.log10(df_N_all['HTOV3'])\n",
    "N_data_norm['HTOV4'] = numpy.log10(df_N_all['HTOV4'])\n",
    "N_data_norm['HTOV5'] = numpy.log10(df_N_all['HTOV5'])"
   ]
  },
  {
   "cell_type": "code",
   "execution_count": 354,
   "metadata": {},
   "outputs": [
    {
     "data": {
      "text/plain": [
       "(273972, 15)"
      ]
     },
     "execution_count": 354,
     "metadata": {},
     "output_type": "execute_result"
    }
   ],
   "source": [
    "N_data_norm.shape"
   ]
  },
  {
   "cell_type": "code",
   "execution_count": 355,
   "metadata": {},
   "outputs": [
    {
     "name": "stdout",
     "output_type": "stream",
     "text": [
      "(273972, 15) (273972,)\n"
     ]
    }
   ],
   "source": [
    "N_X = N_data_norm[x_indices].values.astype(float)\n",
    "N_Y = numpy.zeros(N_X.shape[0])\n",
    "\n",
    "print(N_X.shape, N_Y.shape)"
   ]
  },
  {
   "cell_type": "code",
   "execution_count": 356,
   "metadata": {},
   "outputs": [
    {
     "name": "stdout",
     "output_type": "stream",
     "text": [
      "[[229585      0      0      0]\n",
      " [ 13107      0      0      0]\n",
      " [ 24333      0      0      0]\n",
      " [  6947      0      0      0]]\n",
      "Accuracy: 83.80%\n"
     ]
    }
   ],
   "source": [
    "Y = predict_iwt(N_X)\n",
    "C = confusion_matrix(Y, N_Y)\n",
    "print(C)\n",
    "diagsum = numpy.diag(C).sum()\n",
    "accuracy = diagsum/C.sum()\n",
    "print('Accuracy: %3.2f%%' % (accuracy*100))"
   ]
  },
  {
   "cell_type": "markdown",
   "metadata": {},
   "source": [
    "* From all avaibale noise phases which were not used for training we are able to correctly identify 83.8%"
   ]
  }
 ],
 "metadata": {
  "kernelspec": {
   "display_name": "Python 3",
   "language": "python",
   "name": "python3"
  },
  "language_info": {
   "codemirror_mode": {
    "name": "ipython",
    "version": 3
   },
   "file_extension": ".py",
   "mimetype": "text/x-python",
   "name": "python",
   "nbconvert_exporter": "python",
   "pygments_lexer": "ipython3",
   "version": "3.6.3"
  }
 },
 "nbformat": 4,
 "nbformat_minor": 2
}
