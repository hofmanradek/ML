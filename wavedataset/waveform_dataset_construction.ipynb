{
 "cells": [
  {
   "cell_type": "code",
   "execution_count": 1,
   "metadata": {},
   "outputs": [],
   "source": [
    "\n"
   ]
  },
  {
   "cell_type": "markdown",
   "metadata": {},
   "source": [
    "CREATE TABLE ML_WAVEFORMS\n",
    "(\n",
    "  WAVEFORMID        NUMBER NOT NULL PRIMARY KEY,\n",
    "  ARID              NUMBER NOT NULL,\n",
    "  TIMEA             FLOAT,  -- time of automatic detection, N phase or manual detection can have NULL\n",
    "  TIMELEB           FLOAT,  -- onset time in LEB, N phase can have NULL  \n",
    "  IPHASE            VARCHAR2(8), -- iwt label\n",
    "  IPHASECL          VARCHAR2(8), -- iwt class\n",
    "  IPHASECLNUM       NUMBER, -- iwt class numerical code (for confidence matrix)\n",
    "  PHASE             VARCHAR2(8),  -- phase label as in LEB assoc\n",
    "  PHASECL           VARCHAR2(8),  -- phase class\n",
    "  PHASECLNUM        NUMBER,  -- phase class numerical code (for confidence matrix)\n",
    "  SOURCE            VARCHAR2(1), -- A - automatic phase family type remained after association, H - automatic phase family changed by analyst, M - manually added by analysts (no automatice detection) \n",
    "  NET               VARCHAR2(8) NOT NULL,\n",
    "  STA               VARCHAR2(8) NOT NULL,\n",
    "  CHAN              VARCHAR2(8) NOT NULL,\n",
    "  SAMPRATE          FLOAT,\n",
    "  STARTTIME         FLOAT,\n",
    "  ENDTIME           FLOAT,\n",
    "  NSAMP             NUMBER,\n",
    "  CALIB             FLOAT,\n",
    "  SAMPLES           BLOB --calibrated to 4byte float samples in binary\n",
    ") ENABLE PRIMARY KEY USING INDEX;"
   ]
  },
  {
   "cell_type": "code",
   "execution_count": 160,
   "metadata": {},
   "outputs": [],
   "source": []
  },
  {
   "cell_type": "code",
   "execution_count": 171,
   "metadata": {},
   "outputs": [],
   "source": [
    "%matplotlib inline\n",
    "import matplotlib.pyplot as plt\n",
    "import os\n",
    "import cx_Oracle as db\n",
    "import numpy\n",
    "import pandas\n",
    "from datetime import datetime as dt\n",
    "\n",
    "import src.read_wfdisc"
   ]
  },
  {
   "cell_type": "code",
   "execution_count": 62,
   "metadata": {},
   "outputs": [],
   "source": [
    "with open('/home/hofman/.dbp.txt', 'r') as f:\n",
    "    dbpwd = f.read().strip()\n",
    "    connection_qandef = db.connect('hofman[retraining]/%s@%s' % (dbpwd, 'dba1091.qandef'))\n",
    "    connection_udb = db.connect('hofman/%s@%s' % (dbpwd, 'udb.ctbto.org')) #, encoding = \"UTF-8\", nencoding = \"UTF-8\")\n",
    "    connection_extadb = db.connect('hofman/%s@%s' % (dbpwd, 'extadb.ctbto.org'))"
   ]
  },
  {
   "cell_type": "code",
   "execution_count": 63,
   "metadata": {},
   "outputs": [],
   "source": [
    "cursor_qandef = connection_qandef.cursor()\n",
    "cursor_udb = connection_udb.cursor()\n",
    "cursor_extadb = connection_extadb.cursor()"
   ]
  },
  {
   "cell_type": "markdown",
   "metadata": {},
   "source": [
    "WAVEFORMID        NUMBER NOT NULL PRIMARY KEY,\n",
    "  ARID              NUMBER NOT NULL,\n",
    "  TIMEA             FLOAT,  -- time of automatic detection, N phase or manual detection can have NULL\n",
    "  TIMELEB           FLOAT,  -- onset time in LEB, N phase can have NULL  \n",
    "  IPHASE            VARCHAR2(8), -- iwt label\n",
    "  IPHASECL          VARCHAR2(8), -- iwt class\n",
    "  IPHASECLNUM       NUMBER, -- iwt class numerical code (for confidence matrix)\n",
    "  PHASE             VARCHAR2(8),  -- phase label as in LEB assoc\n",
    "  PHASECL           VARCHAR2(8),  -- phase class\n",
    "  PHASECLNUM        NUMBER,  -- phase class numerical code (for confidence matrix)\n",
    "  SOURCE            VARCHAR2(1), -- A - automatic phase family type remained after association, H - automatic phase family changed by analyst, M - manually added by analysts (no automatice detection) \n",
    "  STA               VARCHAR2(8) NOT NULL,\n",
    "  CHANNELS = \n",
    "  SAMPRATE          FLOAT,\n",
    "  STARTTIME         FLOAT,\n",
    "  ENDTIME           FLOAT,\n",
    "  NSAMP             NUMBER,\n",
    "  CALIBS            BLOB,  -- 4byte calibs in a vector, number of calibs = number of channels\n",
    "  SAMPLES           BLOB --calibrated to 4byte float samples in binary"
   ]
  },
  {
   "cell_type": "markdown",
   "metadata": {},
   "source": [
    "## Extract associated waveforms from the LEB"
   ]
  },
  {
   "cell_type": "code",
   "execution_count": 104,
   "metadata": {},
   "outputs": [],
   "source": [
    "key_iphase_regS = ('Sn', 'Lg', 'Rg', 'Sx')\n",
    "key_iphase_regP = ('Pn', 'Pg', 'Px')\n",
    "key_iphase_tele = ('P', 'PKP', 'PKPbc', 'PcP', 'PKPab', 'pP', 'PP', 'PKKPbc', 'ScP', 'SKPbc', 'PKhKP', 'PKiKP', 'PKP2', 'Pdiff', 'SKP', 'pPKP', 'PKKPab', 'pPKPbc', 'PKKP', 'SKKPbc', 'PKP2bc', 'P3KPbc', 'sP', 'SKPab', 'P4KPbc', 'PKP2ab', 'pPKPab', 'P3KP', 'SKKP', 'SKiKP', 'SKKPab', 'SKKS', 'P4KP', 'SP', 'S', 'ScS', 'SS', 'Sdiff', 'pPcP', 'sPKP', 'tx')\n",
    "\n",
    "key_phase_regS  = ('Sn', 'Lg', 'Rg')\n",
    "key_phase_regP  = ('Pn', 'Pg')\n",
    "key_phase_tele  = ('P', 'PKP', 'PKPbc', 'PcP', 'PKPab', 'pP', 'PP', 'PKKPbc', 'ScP', 'SKPbc', 'PKhKP', 'PKiKP', 'PKP2', 'Pdiff', 'SKP', 'pPKP', 'PKKPab', 'pPKPbc', 'PKKP', 'SKKPbc', 'PKP2bc', 'P3KPbc', 'sP', 'SKPab', 'P4KPbc', 'PKP2ab', 'pPKPab', 'P3KP', 'SKKP', 'SKiKP', 'SKKPab', 'SKKS', 'P4KP', 'SP', 'S', 'ScS', 'SS', 'Sdiff', 'pPcP', 'sPKP')\n",
    "\n",
    "DIPHASECL = {key_iphase_regS: 'S',\n",
    "             key_iphase_regP: 'P',\n",
    "             key_iphase_tele: 'T'}\n",
    "\n",
    "DIPHASECLNUM = {'S': 1,\n",
    "                'P': 2,\n",
    "                'T': 3}\n",
    "\n",
    "DPHASECL = {key_phase_regS: 'S',\n",
    "            key_phase_regP: 'P',\n",
    "            key_phase_tele: 'T'}\n",
    "\n",
    "DIPHASECLNUM = DIPHASECLNUM\n",
    "\n",
    "def get_phase_cl(phase, DPHASE):\n",
    "    for key in DPHASE.keys():\n",
    "        if phase in key:\n",
    "            return DPHASE[key]\n"
   ]
  },
  {
   "cell_type": "code",
   "execution_count": 167,
   "metadata": {},
   "outputs": [],
   "source": [
    "def ts(*date):\n",
    "    \"\"\"\n",
    "    wotks in py3\n",
    "    :param datetime:\n",
    "    :return: timestamp from datetime\n",
    "    \"\"\"\n",
    "    #print(dt(*date), dt(*date).timestamp())\n",
    "    return dt(*date).timestamp()\n",
    "\n",
    "\n",
    "def get_channels_of_sta(sta):\n",
    "    query = \"\"\"select distinct(chan) from static.sitechan where sta=:1 and offdate=-1\"\"\"\n",
    "    res = cursor_extadb.execute(query, (sta,))\n",
    "    return tuple(sorted((x[0] for x in res)))\n",
    "\n",
    "\n",
    "def get_samprate_3C(sta, time):\n",
    "    channels = get_channels_of_sta(sta)\n",
    "    query = \"\"\"select distinct(samprate) from idcx.wfdisc where sta='%s' and chan in %s and time<= %10.9f and endtime >= %10.9f\"\"\" % (sta, str(channels), time, time)\n",
    "    res = cursor_extadb.execute(query)\n",
    "    samprates = list((x[0] for x in res))\n",
    "    if min(samprates) == max(samprates):\n",
    "        return samprates[0]\n",
    "    else:\n",
    "        print('Different samprates in channel!!!', samprates)\n",
    "        return None\n",
    "    \n",
    "    \n",
    "def get_calibs(sta, time):\n",
    "    channels = get_channels_of_sta(sta)\n",
    "    query = \"\"\"select chan, calib from idcx.wfdisc where sta='%s' and chan in %s and time<= %10.9f and endtime >= %10.9f\"\"\" % (sta, str(channels), time, time)\n",
    "    res = cursor_extadb.execute(query).fetchall()\n",
    "    \n",
    "    calibs_d = {x[0]:x[1] for x in res}\n",
    "    calibs = (calibs_d[x] if x in calibs_d.keys() else None for x in channels)\n",
    "    return tuple(calibs)\n",
    "\n",
    "# tests\n",
    "channels = get_channels_of_sta('JCJ')\n",
    "assert channels == ('BHE', 'BHN', 'BHZ')\n",
    "assert get_samprate_3C('JCJ', 1563194400) == 40.0\n",
    "assert get_calibs('JCJ', 1563494400) == (0.038118, 0.038131, 0.038104)"
   ]
  },
  {
   "cell_type": "code",
   "execution_count": 170,
   "metadata": {},
   "outputs": [
    {
     "name": "stdout",
     "output_type": "stream",
     "text": [
      "SAMPRATE: 40.00 Hz  [40.0]\n",
      "reading wfdisc:  /archive/ops/seismic/2019/028/AUXJCJ.1548633600.w\n",
      "= number of samples: 2399\n"
     ]
    },
    {
     "data": {
      "image/png": "[encoded data removed]",
      "text/plain": [
       "<Figure size 1152x216 with 1 Axes>"
      ]
     },
     "metadata": {
      "needs_background": "light"
     },
     "output_type": "display_data"
    }
   ],
   "source": [
    "data, sr = src.read_wfdisc.get_waveform_data(sta, chan, ts(2019,1,29,0,0,0), ts(2019,1,29,0,1,0), cursor_extadb, calib=True)\n",
    "src.read_wfdisc.vizualize(data, show=True, xlabel='samples', ylabel=sta+' '+chan, title='Calibrated')"
   ]
  },
  {
   "cell_type": "code",
   "execution_count": 172,
   "metadata": {},
   "outputs": [
    {
     "name": "stdout",
     "output_type": "stream",
     "text": [
      "SAMPRATE: 40.00 Hz  [40.0]\n",
      "Exception:\n",
      "[Errno 2] No such file or directory: '/archive/ops/seismic/2019/196/AUXJCJ.1563148800.w'\n"
     ]
    },
    {
     "ename": "AttributeError",
     "evalue": "'NoneType' object has no attribute 'shape'",
     "output_type": "error",
     "traceback": [
      "\u001b[0;31m---------------------------------------------------------------------------\u001b[0m",
      "\u001b[0;31mAttributeError\u001b[0m                            Traceback (most recent call last)",
      "\u001b[0;32m<ipython-input-172-fcbf1eae6d8c>\u001b[0m in \u001b[0;36m<module>\u001b[0;34m\u001b[0m\n\u001b[1;32m      8\u001b[0m     \u001b[0mdata\u001b[0m\u001b[0;34m,\u001b[0m \u001b[0msr\u001b[0m \u001b[0;34m=\u001b[0m \u001b[0msrc\u001b[0m\u001b[0;34m.\u001b[0m\u001b[0mread_wfdisc\u001b[0m\u001b[0;34m.\u001b[0m\u001b[0mget_waveform_data\u001b[0m\u001b[0;34m(\u001b[0m\u001b[0msta\u001b[0m\u001b[0;34m,\u001b[0m \u001b[0mchan\u001b[0m\u001b[0;34m,\u001b[0m \u001b[0mstarttime\u001b[0m\u001b[0;34m,\u001b[0m \u001b[0mendtime\u001b[0m\u001b[0;34m,\u001b[0m \u001b[0mcursor_extadb\u001b[0m\u001b[0;34m,\u001b[0m \u001b[0mcalib\u001b[0m\u001b[0;34m=\u001b[0m\u001b[0;32mTrue\u001b[0m\u001b[0;34m)\u001b[0m\u001b[0;34m\u001b[0m\u001b[0;34m\u001b[0m\u001b[0m\n\u001b[1;32m      9\u001b[0m     \u001b[0mvector\u001b[0m\u001b[0;34m.\u001b[0m\u001b[0mappend\u001b[0m\u001b[0;34m(\u001b[0m\u001b[0mdata\u001b[0m\u001b[0;34m)\u001b[0m\u001b[0;34m\u001b[0m\u001b[0;34m\u001b[0m\u001b[0m\n\u001b[0;32m---> 10\u001b[0;31m     \u001b[0mprint\u001b[0m\u001b[0;34m(\u001b[0m\u001b[0mdata\u001b[0m\u001b[0;34m.\u001b[0m\u001b[0mshape\u001b[0m\u001b[0;34m)\u001b[0m\u001b[0;34m\u001b[0m\u001b[0;34m\u001b[0m\u001b[0m\n\u001b[0m\u001b[1;32m     11\u001b[0m \u001b[0;34m\u001b[0m\u001b[0m\n\u001b[1;32m     12\u001b[0m \u001b[0;34m\u001b[0m\u001b[0m\n",
      "\u001b[0;31mAttributeError\u001b[0m: 'NoneType' object has no attribute 'shape'"
     ]
    }
   ],
   "source": [
    "channels = get_channels_of_sta(sta)\n",
    "timeleb = 1563194400\n",
    "starttime = timeleb - DELTA_DIFFERENCE\n",
    "endtime =   timeleb + DELTA_DIFFERENCE\n",
    "\n",
    "for ch in channels:\n",
    "    vector = []\n",
    "    data, sr = src.read_wfdisc.get_waveform_data(sta, chan, starttime, endtime, cursor_extadb, calib=True)\n",
    "    vector.append(data)\n",
    "    print(data.shape)\n",
    "\n",
    "\n",
    "    \n",
    "    \n",
    "    \n",
    "    "
   ]
  },
  {
   "cell_type": "code",
   "execution_count": 103,
   "metadata": {},
   "outputs": [
    {
     "data": {
      "text/plain": [
       "['ARID', 'TIMEA', 'TIMELEB', 'IPHASE', 'PHASE', 'STA', 'SOURCE']"
      ]
     },
     "execution_count": 103,
     "metadata": {},
     "output_type": "execute_result"
    }
   ],
   "source": [
    "[row[0] for row in cursor_extadb.description]"
   ]
  },
  {
   "cell_type": "code",
   "execution_count": 158,
   "metadata": {},
   "outputs": [],
   "source": [
    "station = 'ROSC'\n",
    "\n",
    "DELTA_DIFFERENCE = 10  # time delta difference from let time arrival\n",
    "\n",
    "query = \"\"\"\n",
    "SELECT  er.arid as arid,\n",
    "        er.time as timea,\n",
    "        ae.time as timeleb,\n",
    "        er.iphase as iphase,\n",
    "        ea.phase as phase,\n",
    "        ea.sta as sta,\n",
    "        'A' as source\n",
    "        FROM idcx.arrival er, leb.assoc ea, leb.arrival ae\n",
    "        WHERE er.sta='%s'\n",
    "                AND ea.arid=er.arid\n",
    "                AND ae.arid=ea.arid\n",
    "\"\"\" % (station,)\n",
    "\n",
    "###qres = cursor_extadb.execute(query)\n",
    "\n",
    "for q in qres:\n",
    "    try:\n",
    "        arid = q[0]\n",
    "        timea = q[1]\n",
    "        timeleb = q[2]\n",
    "        iphase = q[3]\n",
    "        iphasecl = get_phase_cl(iphase, DIPHASECL)\n",
    "        iphaseclnum = DIPHASECLNUM[iphasecl]\n",
    "        phase = q[4]\n",
    "        phasecl = get_phase_cl(phase, DPHASECL)\n",
    "        phaseclnum = DIPHASECLNUM[phasecl]\n",
    "        source = q[6]\n",
    "        sta = q[5]\n",
    "        channels = ','.join(get_channels_of_sta(sta))\n",
    "        samprate = get_samprate_3C(sta, timeleb)\n",
    "        starttime = timeleb - DELTA_DIFFERENCE\n",
    "        endtime =   timeleb + DELTA_DIFFERENCE\n",
    "        nsamp = 2*DELTA_DIFFERENCE*samprate\n",
    "        calibs = numpy.array(get_calibs(sta, timeleb), dtype=numpy.float32).tobytes()\n",
    "        samples = \n",
    "\n",
    "        query = \"\"\"\n",
    "        insert into ML_WAVEFORMS (arid, \n",
    "                                   timea, \n",
    "                                   timeleb, \n",
    "                                   iphase, \n",
    "                                   iphasecl,\n",
    "                                   iphaseclnum,\n",
    "                                   phase,\n",
    "                                   phasecl,\n",
    "                                   phaseclnum,\n",
    "                                   source,\n",
    "                                   sta,\n",
    "                                   channels,\n",
    "                                   samprate,\n",
    "                                   starttime,\n",
    "                                   endtime,\n",
    "                                   nsamp,\n",
    "                                   calibs,\n",
    "                                   samples) \n",
    "        values (:1, :2, :3, :4, :5, :6, :7, :8, :9, :10, :11, :12, :13, :14, :15, :16, :17, :18)\"\n",
    "        \"\"\"\n",
    "\n",
    "        cursor_qandef.execute(query, (arid, \n",
    "                                      timea, \n",
    "                                      timeleb, \n",
    "                                      iphase, \n",
    "                                      iphasecl,\n",
    "                                      iphaseclnum,\n",
    "                                      phase,\n",
    "                                      phasecl,\n",
    "                                      phaseclnum,\n",
    "                                      source,\n",
    "                                      sta,\n",
    "                                      channels,\n",
    "                                      samprate,\n",
    "                                      starttime,\n",
    "                                      endtime,\n",
    "                                      nsamp,\n",
    "                                      calibs,\n",
    "                                      samples))        \n",
    "    except:\n",
    "        print('insert failed')\n",
    "\n",
    "cursor_qandef.execute(\"commit\")"
   ]
  },
  {
   "cell_type": "code",
   "execution_count": 159,
   "metadata": {},
   "outputs": [
    {
     "data": {
      "text/plain": [
       "22104"
      ]
     },
     "execution_count": 159,
     "metadata": {},
     "output_type": "execute_result"
    }
   ],
   "source": [
    "len(result)"
   ]
  },
  {
   "cell_type": "code",
   "execution_count": null,
   "metadata": {},
   "outputs": [],
   "source": [
    "#temporal condition\n",
    "AND er.lddate >= to_date('''||to_char(start_date,'yy-mm-dd')||''', ''yy-mm-dd'') \n",
    "AND er.lddate  < to_date('''||to_char(end_date,'yy-mm-dd')||''', ''yy-mm-dd'') \n",
    "AND ea.lddate >= to_date('''||to_char(start_date,'yy-mm-dd')||''', ''yy-mm-dd'') \n",
    "AND ea.lddate  < to_date('''||to_char(end_date,'yy-mm-dd')||''', ''yy-mm-dd'') "
   ]
  },
  {
   "cell_type": "markdown",
   "metadata": {},
   "source": [
    "## Extract noise phases far from any arrivals"
   ]
  },
  {
   "cell_type": "code",
   "execution_count": null,
   "metadata": {},
   "outputs": [],
   "source": []
  },
  {
   "cell_type": "code",
   "execution_count": null,
   "metadata": {},
   "outputs": [],
   "source": []
  },
  {
   "cell_type": "code",
   "execution_count": null,
   "metadata": {},
   "outputs": [],
   "source": []
  },
  {
   "cell_type": "code",
   "execution_count": 76,
   "metadata": {},
   "outputs": [],
   "source": [
    "cursor_qandef.execute(\"insert into ML_WAVEFORMS (arid, timea, timeleb, iphase, iphasecl,iphaseclnum,phase,phasecl,phaseclnum,source,net,sta,chan,samprate,starttime,endtime,nsamp,calib,samples) values (:1, :2, :3, :4, :5, :6, :7, :8, :9, :10, :11, :12, :13, :14, :15, :16, :17, :18, :19)\", \n",
    "                   (1, 1,1,'A','c',79,'sdas','cs',31,'M','urz','urz','bhz',40,232,454654,400,12,xb))      \n",
    "cursor_qandef.execute(\"commit\")"
   ]
  },
  {
   "cell_type": "code",
   "execution_count": 65,
   "metadata": {},
   "outputs": [
    {
     "data": {
      "text/plain": [
       "<cx_Oracle.Cursor on <cx_Oracle.Connection to hofman[retraining]@dba1091.qandef>>"
      ]
     },
     "execution_count": 65,
     "metadata": {},
     "output_type": "execute_result"
    }
   ],
   "source": [
    "cursor_qandef.execute(\"select * from ML_WAVEFORMS\")"
   ]
  },
  {
   "cell_type": "code",
   "execution_count": 77,
   "metadata": {},
   "outputs": [],
   "source": []
  },
  {
   "cell_type": "code",
   "execution_count": 9,
   "metadata": {},
   "outputs": [],
   "source": [
    "my_str = \"hello world\"\n",
    "my_str_as_bytes = str.encode(my_str)"
   ]
  },
  {
   "cell_type": "code",
   "execution_count": 73,
   "metadata": {},
   "outputs": [],
   "source": [
    "import numpy\n",
    "x = numpy.array([[0, 1.], [2, 3]], dtype=numpy.float32)\n",
    "xb = x.tobytes()\n",
    "\n",
    "numpy.array(get_calibs('JCJ', 1563494400), dtype=numpy.float32).tobytes()"
   ]
  },
  {
   "cell_type": "code",
   "execution_count": 74,
   "metadata": {},
   "outputs": [
    {
     "data": {
      "text/plain": [
       "numpy.ndarray"
      ]
     },
     "execution_count": 74,
     "metadata": {},
     "output_type": "execute_result"
    }
   ],
   "source": [
    "type(x)"
   ]
  },
  {
   "cell_type": "code",
   "execution_count": 99,
   "metadata": {},
   "outputs": [
    {
     "name": "stdout",
     "output_type": "stream",
     "text": [
      "[[0 1]\n",
      " [2 3]]\n"
     ]
    }
   ],
   "source": [
    "a = cursor_udb.execute(\"select * from ML_WAVEFORMS where waveformid = 1001\")\n",
    "for res in a:\n",
    "    print(numpy.frombuffer(res[-1].read(), dtype=numpy.int64).reshape((2,2)))"
   ]
  },
  {
   "cell_type": "code",
   "execution_count": 32,
   "metadata": {},
   "outputs": [
    {
     "data": {
      "text/plain": [
       "<cx_Oracle.Cursor on <cx_Oracle.Connection to hofman@udb.ctbto.org>>"
      ]
     },
     "execution_count": 32,
     "metadata": {},
     "output_type": "execute_result"
    }
   ],
   "source": [
    "a"
   ]
  },
  {
   "cell_type": "code",
   "execution_count": 33,
   "metadata": {},
   "outputs": [
    {
     "name": "stdout",
     "output_type": "stream",
     "text": [
      "[0.0e+000 4.9e-324 9.9e-324 1.5e-323]\n"
     ]
    }
   ],
   "source": [
    "for res in a:\n",
    "    print(numpy.frombuffer(res[-1].read())) #, dtype=numpy.float64))"
   ]
  },
  {
   "cell_type": "code",
   "execution_count": 101,
   "metadata": {},
   "outputs": [
    {
     "data": {
      "text/plain": [
       "['WAVEFORMID',\n",
       " 'ARID',\n",
       " 'TIMEA',\n",
       " 'TIMELEB',\n",
       " 'IPHASE',\n",
       " 'IPHASECL',\n",
       " 'IPHASECLNUM',\n",
       " 'PHASE',\n",
       " 'PHASECL',\n",
       " 'PHASECLNUM',\n",
       " 'SOURCE',\n",
       " 'NET',\n",
       " 'STA',\n",
       " 'CHAN',\n",
       " 'SAMPRATE',\n",
       " 'STARTTIME',\n",
       " 'ENDTIME',\n",
       " 'NSAMP',\n",
       " 'CALIB',\n",
       " 'SAMPLES']"
      ]
     },
     "execution_count": 101,
     "metadata": {},
     "output_type": "execute_result"
    }
   ],
   "source": [
    "[row[0] for row in cursor_qandef.description]"
   ]
  },
  {
   "cell_type": "code",
   "execution_count": null,
   "metadata": {},
   "outputs": [],
   "source": []
  }
 ],
 "metadata": {
  "kernelspec": {
   "display_name": "Python 3",
   "language": "python",
   "name": "python3"
  },
  "language_info": {
   "codemirror_mode": {
    "name": "ipython",
    "version": 3
   },
   "file_extension": ".py",
   "mimetype": "text/x-python",
   "name": "python",
   "nbconvert_exporter": "python",
   "pygments_lexer": "ipython3",
   "version": "3.6.8"
  }
 },
 "nbformat": 4,
 "nbformat_minor": 2
}
